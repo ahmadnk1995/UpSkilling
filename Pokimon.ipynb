{
 "cells": [
  {
   "cell_type": "markdown",
   "metadata": {},
   "source": [
    " #                              Pokimon - Task using Csv Files                                            #"
   ]
  },
  {
   "cell_type": "markdown",
   "metadata": {},
   "source": [
    "### q1 count the number of legendary Pokemons and print all the details about them."
   ]
  },
  {
   "cell_type": "code",
   "execution_count": 1,
   "metadata": {},
   "outputs": [
    {
     "name": "stdout",
     "output_type": "stream",
     "text": [
      "<_io.TextIOWrapper name='C:\\\\Users\\\\user\\\\Desktop\\\\FilesTask\\\\Pokemon.csv' mode='r' encoding='cp1252'>\n",
      "['144', 'Articuno', 'Ice', 'Flying', '580', '90', '85', '100', '95', '125', '85', '1', 'TRUE']\n",
      "['145', 'Zapdos', 'Electric', 'Flying', '580', '90', '90', '85', '125', '90', '100', '1', 'TRUE']\n",
      "['146', 'Moltres', 'Fire', 'Flying', '580', '90', '100', '90', '125', '85', '90', '1', 'TRUE']\n",
      "['150', 'Mewtwo', 'Psychic', '', '680', '106', '110', '90', '154', '90', '130', '1', 'TRUE']\n",
      "number of legendary pokimons is : 4\n"
     ]
    }
   ],
   "source": [
    "#_____________________________________________import_____________________________________________#\n",
    "import csv\n",
    "path=\"C:\\\\Users\\\\user\\\\Desktop\\\\FilesTask\\\\Pokemon.csv\"\n",
    "file = open(path)\n",
    "print(file) # will print the discriptions aboute the file \n",
    "\n",
    "#_________________________________________q1__________________________________________________#\n",
    "reader=csv.reader(file)\n",
    "header = next(reader)\n",
    "c=0\n",
    "for row in reader:\n",
    "    if row[12] == \"TRUE\":\n",
    "        print(row)\n",
    "        c+=1\n",
    "print(\"number of legendary pokimons is :\",c)\n"
   ]
  },
  {
   "cell_type": "markdown",
   "metadata": {},
   "source": [
    "### 2. Count all the unique Pokemon types in the data set."
   ]
  },
  {
   "cell_type": "code",
   "execution_count": 2,
   "metadata": {},
   "outputs": [
    {
     "name": "stdout",
     "output_type": "stream",
     "text": [
      "{'Electric', 'Ground', 'Fire', 'Poison', 'Grass', 'Bug', 'Fighting', 'Fairy', 'Water', 'Ice', 'Ghost', 'Dragon', 'Normal', 'Psychic', 'Steel', 'Rock', 'Flying'}\n",
      "NumBER OF UNIQUE POKIMONS TYPE IN THE DATA SET :  17\n"
     ]
    }
   ],
   "source": [
    "#_________________________________________q2_______________________________________________________#\n",
    "\n",
    "file.seek(0)\n",
    "reader=csv.reader(file)\n",
    "header = next(reader)\n",
    "set1=set()\n",
    "\n",
    "for row in reader:\n",
    "    set1.add(row[2])\n",
    "    set1.add(row[3])\n",
    "set1.remove(\"\")\n",
    "print(set1)\n",
    "print(\"NumBER OF UNIQUE POKIMONS TYPE IN THE DATA SET : \",len(set1))"
   ]
  },
  {
   "cell_type": "markdown",
   "metadata": {},
   "source": [
    "### 3. Count the number Pokemons who got a single types. "
   ]
  },
  {
   "cell_type": "code",
   "execution_count": 3,
   "metadata": {},
   "outputs": [
    {
     "name": "stdout",
     "output_type": "stream",
     "text": [
      "number of pokymons who get a single type :  84\n"
     ]
    }
   ],
   "source": [
    "#_________________________________________q3_______________________________________________________#\n",
    "    \n",
    "file.seek(0)\n",
    "reader=csv.reader(file)\n",
    "header = next(reader)\n",
    "\n",
    "c=0 \n",
    "for row in reader:\n",
    "    if row[2]!=\"\" and row[3]==\"\":\n",
    "        c+=1\n",
    "    if row[3]!=\"\" and row [2]==\"\":\n",
    "        c+=1\n",
    "print(\"number of pokymons who get a single type : \",c)"
   ]
  },
  {
   "cell_type": "markdown",
   "metadata": {},
   "source": [
    "### 4. Count the number Pokemons who got two types. "
   ]
  },
  {
   "cell_type": "code",
   "execution_count": 4,
   "metadata": {},
   "outputs": [
    {
     "name": "stdout",
     "output_type": "stream",
     "text": [
      "number of pokymons who get two types  :  67\n"
     ]
    }
   ],
   "source": [
    "#_________________________________________q4_______________________________________________________#\n",
    "file.seek(0)\n",
    "reader=csv.reader(file)\n",
    "header = next(reader)\n",
    "\n",
    "c=0\n",
    "\n",
    "for row in reader:\n",
    "    if row[2]!=\"\" and row [3]!=\"\":\n",
    "        c+=1\n",
    "        \n",
    "print(\"number of pokymons who get two types  : \",c)"
   ]
  },
  {
   "cell_type": "markdown",
   "metadata": {},
   "source": [
    "### 5. Print the most frequent Pokemon type in the data set. "
   ]
  },
  {
   "cell_type": "code",
   "execution_count": 5,
   "metadata": {},
   "outputs": [
    {
     "name": "stdout",
     "output_type": "stream",
     "text": [
      "Most pokymon type is :  Poison \n",
      "That has appeard :  33  Times \n"
     ]
    }
   ],
   "source": [
    "#_________________________________________q5_______________________________________________________#\n",
    "    \n",
    "file.seek(0)\n",
    "reader=csv.reader(file)\n",
    "header = next(reader)\n",
    "  \n",
    "\n",
    "max1=0\n",
    "t=\"\"\n",
    "l1=list()\n",
    "\n",
    "for row in reader:\n",
    "    l1.append(row[2])\n",
    "    l1.append(row[3])\n",
    "    \n",
    "for i in l1:\n",
    "    if i==\"\":\n",
    "        l1.remove(i)\n",
    "        \n",
    "for i  in l1:\n",
    "    if l1.count(i)>max1:\n",
    "        max1=l1.count(i)\n",
    "        t=i\n",
    "        \n",
    "print(\"Most pokymon type is : \" , t,\"\\nThat has appeard : \",max1 ,\" Times \" )"
   ]
  },
  {
   "cell_type": "markdown",
   "metadata": {},
   "source": [
    "### 6. Find the average HP of all flying Pokemons. "
   ]
  },
  {
   "cell_type": "code",
   "execution_count": 6,
   "metadata": {},
   "outputs": [
    {
     "name": "stdout",
     "output_type": "stream",
     "text": [
      "sum of hp is :  1297\n",
      "number  flying pokimons is  :  19\n",
      "avarage of hp is :  68\n"
     ]
    }
   ],
   "source": [
    "#_________________________________________q6_______________________________________________________#\n",
    "\n",
    "file.seek(0)\n",
    "reader=csv.reader(file)\n",
    "header = next(reader)\n",
    "\n",
    "c=0\n",
    "s=0\n",
    "for row in reader:\n",
    "    if row[2]==\"Flying\" or row[3]==\"Flying\":\n",
    "        s+=int(row[5])\n",
    "        c+=1\n",
    "        \n",
    "print(\"sum of hp is : \", s)\n",
    "print(\"number  flying pokimons is  : \", c)        \n",
    "print(\"avarage of hp is : \", s//c)\n"
   ]
  },
  {
   "cell_type": "markdown",
   "metadata": {},
   "source": [
    "### 7. Find the Variance and Standard Deviation of the Total column in the data set."
   ]
  },
  {
   "cell_type": "code",
   "execution_count": 7,
   "metadata": {},
   "outputs": [
    {
     "name": "stdout",
     "output_type": "stream",
     "text": [
      "61469\n",
      "151\n",
      "mean: 407\n",
      "variance: 9881\n",
      "standard div : 99\n"
     ]
    }
   ],
   "source": [
    "#_________________________________________q7_______________________________________________________#\n",
    "\n",
    "file.seek(0)\n",
    "reader=csv.reader(file)\n",
    "header = next(reader)\n",
    "\n",
    "\n",
    "c=0\n",
    "s=0\n",
    "for row in reader:\n",
    "    s+=int(row[4])\n",
    "    c+=1\n",
    "mean=s//c\n",
    "print(s)\n",
    "print(c)\n",
    "print(\"mean:\",mean)\n",
    "\n",
    "file.seek(0)\n",
    "reader=csv.reader(file)\n",
    "header = next(reader)\n",
    "\n",
    "sumx=0\n",
    "\n",
    "for row in reader:\n",
    "    sumx+=(int(row[4])-mean)**2\n",
    "\n",
    "variance= sumx//c-1\n",
    "stan=int(variance**0.5)\n",
    "print(\"variance:\", variance )\n",
    "print(\"standard div :\", stan )"
   ]
  },
  {
   "cell_type": "markdown",
   "metadata": {},
   "source": [
    "### 8. Find the first 5 Pokemons with the biggest attack power. Attackpoweriscalculatedasthe(attackspeed*attackpower)*1ifthePokemonhasasingle type, and * 2 if the Pokemon has a two types. Also if the Pokemon is legendary we add 75 to the total power calculated."
   ]
  },
  {
   "cell_type": "code",
   "execution_count": 8,
   "metadata": {},
   "outputs": [
    {
     "name": "stdout",
     "output_type": "stream",
     "text": [
      "[21000, 22575, 23750, 25075, 26800]\n",
      "MAX 5 ATTACK POWER : \n",
      "['71', 'Victreebel', 'Grass', 'Poison', '490', '80', '105', '65', '100', '70', '70', '3', 'FALSE']\n",
      "['103', 'Exeggutor', 'Grass', 'Psychic', '520', '95', '95', '85', '125', '65', '55', '2', 'FALSE']\n",
      "['145', 'Zapdos', 'Electric', 'Flying', '580', '90', '90', '85', '125', '90', '100', '1', 'TRUE']\n",
      "['146', 'Moltres', 'Fire', 'Flying', '580', '90', '100', '90', '125', '85', '90', '1', 'TRUE']\n",
      "['149', 'Dragonite', 'Dragon', 'Flying', '600', '91', '134', '95', '100', '100', '80', '3', 'FALSE']\n"
     ]
    }
   ],
   "source": [
    "#_________________________________________q8_______________________________________________________#\n",
    "TotalAttackPower=[]\n",
    "file.seek(0)\n",
    "reader=csv.reader(file)\n",
    "header = next(reader)\n",
    "\n",
    "for row in reader:\n",
    "    if row[2]==\"\" or row[3]==\"\" and row[12]==\"FALSE\":\n",
    "        TotalAttackPower.append(int(row[6])*int(row[8]))\n",
    "    if row[2]==\"\" or row[3]==\"\" and row[12]==\"TRUE\":\n",
    "        TotalAttackPower.append(int(row[6])*int(row[8])+75)\n",
    "    if row[2]!=\"\" and row[3]!=\"\" and row[12]==\"FALSE\":\n",
    "        TotalAttackPower.append((int(row[6])*int(row[8]))*2)\n",
    "    if row[2]!=\"\" and row[3]!=\"\" and row[12]==\"TRUE\":\n",
    "        TotalAttackPower.append(((int(row[6])*int(row[8]))*2)+75)\n",
    "       \n",
    "        \n",
    "TotalAttackPower.sort()\n",
    "Total5AttackPower=TotalAttackPower[len(TotalAttackPower)-5:len(TotalAttackPower)]\n",
    "print(Total5AttackPower)\n",
    "    \n",
    "\n",
    "file.seek(0)\n",
    "reader=csv.reader(file)\n",
    "header = next(reader)  \n",
    "\n",
    "print ( \"MAX 5 ATTACK POWER : \")\n",
    "for row in reader:\n",
    " if row[2]==\"\" or row[3]==\"\" and row[12]==\"FALSE\":\n",
    "    if (  int(row[6])*int(row[8]) ) in Total5AttackPower:\n",
    "        print(row)\n",
    "        \n",
    " if row[2]==\"\" or row[3]==\"\" and row[12]==\"TRUE\":\n",
    "     if (  int(row[6])*int(row[8])+75 ) in Total5AttackPower:\n",
    "        print(row)\n",
    "        \n",
    " if row[2]!=\"\" and row[3]!=\"\" and row[12]==\"FALSE\":\n",
    "     if (int(row[6])*int(row[8]))*2 in Total5AttackPower:\n",
    "         print(row)\n",
    " if row[2]!=\"\" and row[3]!=\"\" and row[12]==\"TRUE\":\n",
    "     if(((int(row[6])*int(row[8]))*2)+75) in Total5AttackPower:\n",
    "          print(row)"
   ]
  },
  {
   "cell_type": "markdown",
   "metadata": {},
   "source": [
    "### 9. Find the first 5 Pokemons with the Balance in their attack power and defense power. Totaldefensepoweriscalculatedthesameastheattackbutusingthedefensecolumnsinstead. We say a pokemon is balanced if the difference between the total attack and different powers are at most 25. "
   ]
  },
  {
   "cell_type": "code",
   "execution_count": 9,
   "metadata": {},
   "outputs": [
    {
     "name": "stdout",
     "output_type": "stream",
     "text": [
      "MAX 5 total Power : \n",
      "['1', 'Bulbasaur', 'Grass', 'Poison', '318', '45', '49', '49', '65', '65', '45', '1', 'FALSE']\n",
      "['2', 'Ivysaur', 'Grass', 'Poison', '405', '60', '62', '63', '80', '80', '60', '2', 'FALSE']\n",
      "['3', 'Venusaur', 'Grass', 'Poison', '525', '80', '82', '83', '100', '100', '80', '3', 'FALSE']\n",
      "['4', 'Charmander', 'Fire', '', '309', '39', '52', '43', '60', '50', '65', '1', 'FALSE']\n",
      "['5', 'Charmeleon', 'Fire', '', '405', '58', '64', '58', '80', '65', '80', '2', 'FALSE']\n"
     ]
    }
   ],
   "source": [
    "#_________________________________________q9_______________________________________________________#\n",
    "TotaldiffPower=[]\n",
    "file.seek(0)\n",
    "reader=csv.reader(file)\n",
    "header = next(reader)\n",
    "\n",
    "for row in reader:\n",
    "    if row[2]==\"\" or row[3]==\"\" and row[12]==\"FALSE\":\n",
    "        TotaldiffPower.append(int(row[7])*int(row[9]))\n",
    "    if row[2]==\"\" or row[3]==\"\" and row[12]==\"TRUE\":\n",
    "        TotaldiffPower.append(int(row[7])*int(row[9])+75)\n",
    "    if row[2]!=\"\" and row[3]!=\"\" and row[12]==\"FALSE\":\n",
    "        TotaldiffPower.append((int(row[7])*int(row[9]))*2)\n",
    "    if row[2]!=\"\" and row[3]!=\"\" and row[12]==\"TRUE\":\n",
    "        TotaldiffPower.append(((int(row[7])*int(row[9]))*2)+75)\n",
    "           \n",
    "c=0\n",
    "\n",
    "    \n",
    "file.seek(0)\n",
    "reader=csv.reader(file)\n",
    "header = next(reader)  \n",
    "\n",
    "print ( \"MAX 5 total Power : \")\n",
    "\n",
    "\n",
    "i=0\n",
    "for row in reader:\n",
    "    if TotalAttackPower[i]-TotaldiffPower[i]<25:\n",
    "        print(row)\n",
    "        c+=1\n",
    "    if c==5:\n",
    "        break\n",
    "    i+=1"
   ]
  },
  {
   "cell_type": "markdown",
   "metadata": {},
   "source": [
    "### 10. Find a team containing the minimum number of Pokemons required to defeat a Pokemon team consist only from the legendary Pokemons. FortheattackersyoucalculatethetotalattackpowerofthePokemonsteamusingtheequation:\n",
    "Attackers total att power / Defenders total HP = result1 ForthedefendersyoucalculatethetotalattackpowerofthePokemonsteamusingtheequation:\n",
    "Defenders total deff power / Attackers total HP = result2 The final result calculated by subtract the att result from the deff result: result2 - result1 = Final Note: Consider the legendary Pokemons team as the defenders always"
   ]
  },
  {
   "cell_type": "code",
   "execution_count": 11,
   "metadata": {},
   "outputs": [],
   "source": [
    "#_________________________________________q10_______________________________________________________#"
   ]
  },
  {
   "cell_type": "code",
   "execution_count": 12,
   "metadata": {},
   "outputs": [
    {
     "name": "stdout",
     "output_type": "stream",
     "text": [
      "Result1 (attack team): [141.55555555555554, 165.33333333333334, 205.0, 80.0, 88.27586206896552, 234.76923076923077, 54.54545454545455, 69.40677966101696, 89.30379746835443, 13.333333333333334, 10.0, 135.0, 35.0, 27.77777777777778, 124.61538461538461, 78.75, 95.23809523809524, 134.93975903614458, 46.666666666666664, 73.63636363636364, 93.0, 168.92307692307693, 68.57142857142857, 92.08333333333333, 78.57142857142857, 135.0, 30.0, 60.0, 34.18181818181818, 48.714285714285715, 153.33333333333334, 49.56521739130435, 64.91803278688525, 214.07407407407408, 38.57142857142857, 70.0, 53.94736842105263, 84.32876712328768, 35.21739130434783, 85.0, 67.5, 138.66666666666666, 166.66666666666666, 184.16666666666666, 234.66666666666666, 180.0, 190.0, 73.33333333333333, 167.14285714285714, 192.5, 114.28571428571429, 45.0, 70.0, 67.6, 97.375, 70.0, 96.92307692307692, 89.0909090909091, 122.22222222222223, 50.0, 50.0, 147.77777777777777, 84.0, 105.0, 122.72727272727273, 40.0, 62.5, 93.88888888888889, 210.0, 235.3846153846154, 262.5, 100.0, 140.0, 120.0, 155.45454545454547, 165.0, 110.5, 123.07692307692308, 57.77777777777778, 157.89473684210526, 266.0, 288.0, 145.0, 170.0, 220.0, 31.153846153846153, 108.88888888888889, 40.0, 65.0, 97.5, 323.0, 233.33333333333334, 255.55555555555554, 281.6666666666667, 77.14285714285714, 34.4, 62.694117647058825, 87.5, 118.18181818181819, 41.25, 66.66666666666667, 80.0, 250.0, 40.0, 66.66666666666667, 84.0, 73.5, 36.666666666666664, 97.5, 117.6923076923077, 63.75, 111.42857142857143, 0.7, 84.61538461538461, 36.19047619047619, 93.33333333333333, 112.27272727272727, 52.111111111111114, 74.75, 105.0, 250.0, 225.0, 172.85714285714286, 176.92307692307693, 121.3076923076923, 146.15384615384616, 105.76923076923077, 53.333333333333336, 7.5, 157.89473684210526, 111.15384615384616, 48.0, 45.0, 55.0, 110.0, 190.0, 78.46153846153847, 205.71428571428572, 197.14285714285714, 293.3333333333333, 249.16666666666666, 157.5, 44.6875, 78.04878048780488, 96.39344262295081, 294.5054945054945, 100.0]\n",
      "Result2 (def team ) : [278.6111111111111, 170.83333333333334, 170.83333333333334, 77.12264150943396]\n",
      "Result2 (def team )sum : 697.4004192872118\n"
     ]
    }
   ],
   "source": [
    "TotalAttackPower=[]\n",
    "file.seek(0)\n",
    "reader=csv.reader(file)\n",
    "header = next(reader)\n",
    "\n",
    "for row in reader:\n",
    "    if row[2]==\"\" or row[3]==\"\" and row[12]==\"FALSE\":\n",
    "        TotalAttackPower.append(int(row[6])*int(row[8]))\n",
    "    if row[2]==\"\" or row[3]==\"\" and row[12]==\"TRUE\":\n",
    "        TotalAttackPower.append(int(row[6])*int(row[8])+75)\n",
    "    if row[2]!=\"\" and row[3]!=\"\" and row[12]==\"FALSE\":\n",
    "        TotalAttackPower.append((int(row[6])*int(row[8]))*2)\n",
    "    if row[2]!=\"\" and row[3]!=\"\" and row[12]==\"TRUE\":\n",
    "        TotalAttackPower.append(((int(row[6])*int(row[8]))*2)+75)\n",
    "       \n",
    "#_________________________________________ToTal Def Power_______________________________________________________#\n",
    "TotaldiffPower=[]\n",
    "file.seek(0)\n",
    "reader=csv.reader(file)\n",
    "header = next(reader)\n",
    "\n",
    "for row in reader:\n",
    "    if row[2]==\"\" or row[3]==\"\" and row[12]==\"FALSE\":\n",
    "        TotaldiffPower.append(int(row[7])*int(row[9]))\n",
    "    if row[2]==\"\" or row[3]==\"\" and row[12]==\"TRUE\":\n",
    "        TotaldiffPower.append(int(row[7])*int(row[9])+75)\n",
    "    if row[2]!=\"\" and row[3]!=\"\" and row[12]==\"FALSE\":\n",
    "        TotaldiffPower.append((int(row[7])*int(row[9]))*2)\n",
    "    if row[2]!=\"\" and row[3]!=\"\" and row[12]==\"TRUE\":\n",
    "        TotaldiffPower.append(((int(row[7])*int(row[9]))*2)+75)\n",
    "        \n",
    "#_________________________________________RESULT1 , Result 2_______________________________________________________#\n",
    "        \n",
    "Result1=[]\n",
    "Result2=[]\n",
    "Result3=[]\n",
    "file.seek(0)\n",
    "reader=csv.reader(file)\n",
    "header = next(reader)    \n",
    "\n",
    "\n",
    "i=0\n",
    "for row in reader  :\n",
    "    if row[12]!=\"TRUE\":\n",
    "        Result1.append(TotalAttackPower[i]/int(row[5]))\n",
    "    else:\n",
    "        Result2.append(TotaldiffPower[i]/int(row[5]))\n",
    "        \n",
    "    i+=1\n",
    "\n",
    "print(\"Result1 (attack team):\",Result1)\n",
    "print(\"Result2 (def team ) :\",Result2)\n",
    "s=sum(Result2)\n",
    "print(\"Result2 (def team )sum :\",s)"
   ]
  },
  {
   "cell_type": "code",
   "execution_count": null,
   "metadata": {},
   "outputs": [],
   "source": []
  }
 ],
 "metadata": {
  "kernelspec": {
   "display_name": "Python 3",
   "language": "python",
   "name": "python3"
  },
  "language_info": {
   "codemirror_mode": {
    "name": "ipython",
    "version": 3
   },
   "file_extension": ".py",
   "mimetype": "text/x-python",
   "name": "python",
   "nbconvert_exporter": "python",
   "pygments_lexer": "ipython3",
   "version": "3.7.3"
  }
 },
 "nbformat": 4,
 "nbformat_minor": 2
}
