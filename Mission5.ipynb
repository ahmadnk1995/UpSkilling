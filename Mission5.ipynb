{
 "cells": [
  {
   "cell_type": "markdown",
   "metadata": {},
   "source": [
    "#  Q1) FUNCTION TO CHECK IF NUMBER IS PERFECT"
   ]
  },
  {
   "cell_type": "code",
   "execution_count": 7,
   "metadata": {},
   "outputs": [
    {
     "name": "stdout",
     "output_type": "stream",
     "text": [
      "True\n"
     ]
    }
   ],
   "source": [
    "def perfect(n):\n",
    "    sum=0\n",
    "    for i in range(1,n):\n",
    "        if n%i==0:\n",
    "            sum+=i\n",
    "    if(sum==n):\n",
    "        return True\n",
    "    else:\n",
    "        return False\n",
    "        \n",
    "        \n",
    "print(perfect(28))"
   ]
  },
  {
   "cell_type": "markdown",
   "metadata": {},
   "source": [
    "#  Q2) Write a Python function that accepts ahyphen-separated sequence of words as input and prints the words in a hyphen-separated sequence after sorting them alphabetically\n",
    "Sample Items : green-red-yellow-black-white \n",
    "Expected Result : black-green-red-white-yellow "
   ]
  },
  {
   "cell_type": "code",
   "execution_count": 12,
   "metadata": {},
   "outputs": [
    {
     "name": "stdout",
     "output_type": "stream",
     "text": [
      "['black', 'green', 'red', 'white', 'yellow']\n"
     ]
    }
   ],
   "source": [
    "def sort1(s1):\n",
    "    return sorted(s1)\n",
    "\n",
    "print(sort1([ \"green\",\"red\",\"yellow\",\"black\",\"white\"]))"
   ]
  },
  {
   "cell_type": "markdown",
   "metadata": {},
   "source": [
    "# Q3) Write a Python function to check whether a string is a pangram or not. "
   ]
  },
  {
   "cell_type": "code",
   "execution_count": 22,
   "metadata": {},
   "outputs": [
    {
     "data": {
      "text/plain": [
       "False"
      ]
     },
     "execution_count": 22,
     "metadata": {},
     "output_type": "execute_result"
    }
   ],
   "source": [
    "def pangram(s1):\n",
    "    B=True \n",
    "    s2=s1.split()\n",
    "    c=[]\n",
    "    \n",
    "    for i in s2:\n",
    "        for j in range((len(i))):\n",
    "            if i[j] in c:\n",
    "                B=False\n",
    "            else:\n",
    "                c+=i[j]\n",
    "        c=[]\n",
    "    return B\n",
    "        \n",
    "    \n",
    "pangram(\"ahm kofo\")"
   ]
  },
  {
   "cell_type": "markdown",
   "metadata": {},
   "source": [
    "# Q4) Write a Python function that accepts a string and calculate the number of upper case letters and lower case letters. "
   ]
  },
  {
   "cell_type": "code",
   "execution_count": 27,
   "metadata": {},
   "outputs": [
    {
     "name": "stdout",
     "output_type": "stream",
     "text": [
      "upper case :  3\n",
      "lower case :  8\n"
     ]
    }
   ],
   "source": [
    "def cases(s1):\n",
    "    uc=0\n",
    "    lc=0\n",
    "    for i in s1:\n",
    "        if i == i.upper() and i.isalpha():\n",
    "            uc+=1\n",
    "        elif i ==i.lower() and i.isalpha():\n",
    "            lc+=1\n",
    "    print(\"upper case : \",uc)\n",
    "    print(\"lower case : \",lc)\n",
    "    \n",
    "    \n",
    "cases(\"ahma,dKoFa Hi\")\n",
    "            \n",
    "        "
   ]
  },
  {
   "cell_type": "markdown",
   "metadata": {},
   "source": [
    "# Q5) Write a Python function to get the sum of a non-negative integer. \n",
    "(using recursion)\n",
    "TestData: sumDigits(345) = 12 \n",
    "sumDigits(45) = 9 "
   ]
  },
  {
   "cell_type": "code",
   "execution_count": 31,
   "metadata": {},
   "outputs": [
    {
     "name": "stdout",
     "output_type": "stream",
     "text": [
      "12\n"
     ]
    }
   ],
   "source": [
    "def sumDigits(i):\n",
    "    if i==0:\n",
    "        return 0\n",
    "    else:\n",
    "        return i%10 + sumDigits(i//10)\n",
    "    \n",
    "print(sumDigits(345))"
   ]
  },
  {
   "cell_type": "markdown",
   "metadata": {},
   "source": [
    "# Q6) Write a Python function to find the greatest common divisor (gcd) of two integers. (using recursion)"
   ]
  },
  {
   "cell_type": "code",
   "execution_count": 49,
   "metadata": {},
   "outputs": [
    {
     "name": "stdout",
     "output_type": "stream",
     "text": [
      "2\n"
     ]
    }
   ],
   "source": [
    "def gcd(n1,n2):\n",
    "    if n2 == 0:\n",
    "        return n1\n",
    "    else:\n",
    "       # print(n1%n2)\n",
    "        return gcd(n2,n1%n2)\n",
    "    \n",
    "#note(for me)   a,b if b = 0  n1 i the gcd\n",
    "        #\n",
    "    \n",
    "print(gcd(12,14))\n"
   ]
  },
  {
   "cell_type": "markdown",
   "metadata": {},
   "source": [
    "# Q7) Write a Python function to find the (LCM) of two integers."
   ]
  },
  {
   "cell_type": "code",
   "execution_count": 46,
   "metadata": {},
   "outputs": [
    {
     "name": "stdout",
     "output_type": "stream",
     "text": [
      "12\n"
     ]
    }
   ],
   "source": [
    "def lcm(n1,n2):\n",
    "    g=n1*n2\n",
    "    for i in range(n1,g+1):\n",
    "        if i%n1==0 and i%n2==0:\n",
    "            return i\n",
    "        \n",
    "print(lcm(4,6))"
   ]
  },
  {
   "cell_type": "markdown",
   "metadata": {},
   "source": [
    "8\n"
   ]
  },
  {
   "cell_type": "code",
   "execution_count": 87,
   "metadata": {},
   "outputs": [
    {
     "name": "stdout",
     "output_type": "stream",
     "text": [
      "[1]\n",
      "[1, 1]\n",
      "[1, 2, 1]\n",
      "[1, 3, 3, 1]\n",
      "[1, 4, 6, 4, 1]\n",
      "[1, 5, 10, 10, 5, 1]\n"
     ]
    },
    {
     "data": {
      "text/plain": [
       "True"
      ]
     },
     "execution_count": 87,
     "metadata": {},
     "output_type": "execute_result"
    }
   ],
   "source": [
    "def pascal_triangle(n):\n",
    "    t = [1]\n",
    "    y = [0]\n",
    "    for x in range(max(n,0)):\n",
    "        print(t)\n",
    "        t =[l+r for l,r in zip(t+y, y+t)]\n",
    "    return n>=1\n",
    "pascal_triangle(6) "
   ]
  },
  {
   "cell_type": "markdown",
   "metadata": {},
   "source": [
    "# Q9) Write a Python program to get the current value of the recursion limit. "
   ]
  },
  {
   "cell_type": "code",
   "execution_count": 50,
   "metadata": {},
   "outputs": [
    {
     "name": "stdout",
     "output_type": "stream",
     "text": [
      "recursion limit in memort :  3000\n"
     ]
    }
   ],
   "source": [
    "import sys\n",
    "\n",
    "\n",
    "print(\"recursion limit in memort : \",sys.getrecursionlimit())"
   ]
  },
  {
   "cell_type": "markdown",
   "metadata": {},
   "source": [
    "# Q10) Write a Python program to get numbers divisible by fifteen from a list using an anonymous function."
   ]
  },
  {
   "cell_type": "code",
   "execution_count": 51,
   "metadata": {},
   "outputs": [
    {
     "name": "stdout",
     "output_type": "stream",
     "text": [
      "[0, 15, 30, 45, 60, 75, 90, 105, 120, 135, 150, 165, 180, 195]\n"
     ]
    }
   ],
   "source": [
    "list1=[i for i in range(0,200)] \n",
    "div_by_fifteen = list ( filter(lambda x : (x%15==0),list1))\n",
    "print(div_by_fifteen)"
   ]
  },
  {
   "cell_type": "markdown",
   "metadata": {},
   "source": [
    "# Q11)Write a Python function to filter the positive numbers from a list."
   ]
  },
  {
   "cell_type": "code",
   "execution_count": 53,
   "metadata": {},
   "outputs": [
    {
     "name": "stdout",
     "output_type": "stream",
     "text": [
      "[1, 4, 5, 6]\n"
     ]
    }
   ],
   "source": [
    "list1=[-1,1,-2,-3,4,5,6,-20] \n",
    "post = list ( filter(lambda x : x>0 ,list1))\n",
    "print(post)"
   ]
  },
  {
   "cell_type": "markdown",
   "metadata": {},
   "source": [
    "# Q12) Write a Python function to compute the product of a list of integers."
   ]
  },
  {
   "cell_type": "code",
   "execution_count": 69,
   "metadata": {},
   "outputs": [
    {
     "name": "stdout",
     "output_type": "stream",
     "text": [
      "Product of the numbers :  1350\n"
     ]
    }
   ],
   "source": [
    "from functools import reduce\n",
    "nums = [1,2,3,45,5]\n",
    "pro = reduce( (lambda x, y: x * y), nums)\n",
    "print(\"Product of the numbers : \",pro)\n"
   ]
  },
  {
   "cell_type": "markdown",
   "metadata": {},
   "source": [
    "# Q13) A palindromic number reads the same both ways. The largest palindrome made from the product of two 2-digit numbers is 9009 = 91 × 99. Write a Python function to find the largest palindrome made from the product of two 3-digit numbers. "
   ]
  },
  {
   "cell_type": "code",
   "execution_count": 70,
   "metadata": {},
   "outputs": [
    {
     "name": "stdout",
     "output_type": "stream",
     "text": [
      "580085\n"
     ]
    }
   ],
   "source": [
    "def larg():\n",
    "    for i in range(999,99,-1):\n",
    "        for j in range(999,99,-1):\n",
    "            s=str(i*j)\n",
    "            g=s[::-1]\n",
    "            if(s==g):\n",
    "                print(i*j)\n",
    "                return\n",
    "            \n",
    "larg()"
   ]
  },
  {
   "cell_type": "markdown",
   "metadata": {},
   "source": [
    "# Q14) 14. The number, 197, is called a circular prime because all rotations of the digits: 197, 971, and 719, are themselves prime. \n",
    "\n",
    "There are thirteen such primes below 100: 2, 3, 5, 7, 11, 13, 17, 31, 37, 71, 73, 79, and 97. Write a Python function to find How many circular primes are there below one million? and print them.\n"
   ]
  },
  {
   "cell_type": "code",
   "execution_count": 76,
   "metadata": {
    "scrolled": true
   },
   "outputs": [
    {
     "name": "stdout",
     "output_type": "stream",
     "text": [
      "2\n",
      "3\n",
      "5\n",
      "7\n",
      "11\n",
      "13\n",
      "17\n"
     ]
    }
   ],
   "source": [
    "#i think the code is correct  im not recognaizing the error tel now \n",
    "\n",
    "import itertools\n",
    "def prime_million ():\n",
    "    f=True\n",
    "    def isprime(n):\n",
    "        if int(n) == 1:\n",
    "            return False\n",
    "        for d in range(2,int(n)):\n",
    "            if n%d==0:\n",
    "                return False\n",
    "        return True\n",
    "\n",
    "    for i in range(1,10000):\n",
    "        if (isprime(i))==True:\n",
    "\n",
    "            for p in itertools.permutations(str(i)):\n",
    "                m=\"\".join(str(x)for x in p)\n",
    "                if (isprime(int(m))==False):\n",
    "                    f=False\n",
    "            if f:\n",
    "                print(i)\n",
    "                \n",
    "prime_million()"
   ]
  },
  {
   "cell_type": "markdown",
   "metadata": {},
   "source": [
    "# Q15) Letd(n)bedefinedasthesumofproperdivisorsofn(numberslessthannwhichdivideevenly into n). If d(a) = b and d(b) = a, where a ! = b, then a and b are an amicable pair and each of a and b are called amicable numbers. For example, the proper divisors of 220 are 1, 2, 4, 5, 10, 11, 20, 22, 44, 55 and 110; therefore d(220) = 284. The proper divisors of 284 are 1, 2, 4, 71 and 142; so d(284) = 220. Write a Python function to evaluate the sum of all the amicable numbers"
   ]
  },
  {
   "cell_type": "code",
   "execution_count": 79,
   "metadata": {},
   "outputs": [],
   "source": [
    "def properdiv(x,y):\n",
    "    x= 220\n",
    "    y=284\n",
    "    sum1=0\n",
    "    sum2=0\n",
    "    for i in range(1,x):\n",
    "        if x%i==0:\n",
    "            sum1+=+i\n",
    "\n",
    "    for j in range(1,y):\n",
    "        if (y%j==0):\n",
    "            sum2+=j\n",
    "        \n",
    "    if (sum1==y and sum2==x):\n",
    "        print(\"true\")"
   ]
  },
  {
   "cell_type": "markdown",
   "metadata": {},
   "source": [
    "Q16)  In England the currency is made up of pound, £, and pence, p, and there are eight coins in general circulation: 1p, 2p, 5p, 10p, 20p, 50p, £1 (100p) and £2 (200p).\n"
   ]
  },
  {
   "cell_type": "code",
   "execution_count": null,
   "metadata": {},
   "outputs": [],
   "source": [
    "#مش عاااااارف "
   ]
  },
  {
   "cell_type": "markdown",
   "metadata": {},
   "source": [
    "17. Given 3 poles (A, B, C) with N disks stacked on A, move all the disks from A to C such that a disk with a larger radius is always below a disk with a smaller one. Only 1 disk can be moved at a time"
   ]
  },
  {
   "cell_type": "code",
   "execution_count": 78,
   "metadata": {},
   "outputs": [
    {
     "name": "stdout",
     "output_type": "stream",
     "text": [
      "[] [] [4, 3, 2, 1]\n"
     ]
    }
   ],
   "source": [
    "#google help\n",
    "def hanoi(n, source, helper, target):\n",
    "    if n > 0:\n",
    "        # move tower of size n - 1 to helper:\n",
    "        hanoi(n - 1, source, target, helper)\n",
    "        # move disk from source peg to target peg\n",
    "        if source:\n",
    "            target.append(source.pop())\n",
    "        # move tower of size n-1 from helper to target\n",
    "        hanoi(n - 1, helper, source, target)\n",
    "        \n",
    "\n",
    "source = [4,3,2,1]\n",
    "target = []\n",
    "helper = []\n",
    "hanoi(len(source),source,helper,target)\n",
    "\n",
    "print (source, helper, target)"
   ]
  },
  {
   "cell_type": "code",
   "execution_count": null,
   "metadata": {},
   "outputs": [],
   "source": []
  }
 ],
 "metadata": {
  "kernelspec": {
   "display_name": "Python 3",
   "language": "python",
   "name": "python3"
  },
  "language_info": {
   "codemirror_mode": {
    "name": "ipython",
    "version": 3
   },
   "file_extension": ".py",
   "mimetype": "text/x-python",
   "name": "python",
   "nbconvert_exporter": "python",
   "pygments_lexer": "ipython3",
   "version": "3.7.3"
  }
 },
 "nbformat": 4,
 "nbformat_minor": 2
}
