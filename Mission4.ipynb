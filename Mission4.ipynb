{
 "cells": [
  {
   "cell_type": "markdown",
   "metadata": {},
   "source": [
    "1. Write a Python program to find the second largest number in a list."
   ]
  },
  {
   "cell_type": "code",
   "execution_count": 1,
   "metadata": {},
   "outputs": [
    {
     "name": "stdout",
     "output_type": "stream",
     "text": [
      "20\n"
     ]
    }
   ],
   "source": [
    "l1 = [5,6,9,10,20,30]\n",
    "l1.remove(max(l1))\n",
    "print(max(l1))"
   ]
  },
  {
   "cell_type": "markdown",
   "metadata": {},
   "source": [
    "2. Write a Python program to find the index of the second largest number in a list. "
   ]
  },
  {
   "cell_type": "code",
   "execution_count": 2,
   "metadata": {},
   "outputs": [
    {
     "name": "stdout",
     "output_type": "stream",
     "text": [
      "4\n"
     ]
    }
   ],
   "source": [
    "l1 = [5,6,9,10,20,30]\n",
    "l1.remove(max(l1))\n",
    "print(l1.index(max(l1)))"
   ]
  },
  {
   "cell_type": "markdown",
   "metadata": {},
   "source": [
    "3. Write a Python program to check a container is empty or not. "
   ]
  },
  {
   "cell_type": "code",
   "execution_count": 6,
   "metadata": {},
   "outputs": [
    {
     "name": "stdout",
     "output_type": "stream",
     "text": [
      "4\n",
      "not Empty List\n"
     ]
    }
   ],
   "source": [
    "l1 = [1,2,3,4]\n",
    "print(len(l1))\n",
    "\n",
    "if len(l1)==0:\n",
    "    print(\"empty\")\n",
    "else:\n",
    "    print(\"not Empty List\")"
   ]
  },
  {
   "cell_type": "markdown",
   "metadata": {},
   "source": [
    "4. Write a Python program using Sieve of Eratosthenes method for computing primes upto a specified number. "
   ]
  },
  {
   "cell_type": "markdown",
   "metadata": {},
   "source": [
    "5. Given a list slice it into a 3 equal chunks and print each list. "
   ]
  },
  {
   "cell_type": "code",
   "execution_count": 7,
   "metadata": {},
   "outputs": [
    {
     "name": "stdout",
     "output_type": "stream",
     "text": [
      "[1, 2, 3]\n",
      "[4, 5, 6]\n",
      "[6, 7, 8]\n"
     ]
    }
   ],
   "source": [
    "l=[1,2,3,4,5,6,7,8]\n",
    "\n",
    "if len(l)%2==0:\n",
    "    a= round(len(l)/3)\n",
    "else:\n",
    "    a= len(l)//3+1\n",
    "    \n",
    "print(l[:a])\n",
    "print(l[a:a+a])\n",
    "print(l[-a:])\n",
    "    "
   ]
  },
  {
   "cell_type": "markdown",
   "metadata": {},
   "source": [
    "6. Write a Python program to sort a list in descending order. "
   ]
  },
  {
   "cell_type": "code",
   "execution_count": 15,
   "metadata": {},
   "outputs": [
    {
     "name": "stdout",
     "output_type": "stream",
     "text": [
      "[200, 8, 7, 5, 5, 4, 3, 1]\n"
     ]
    }
   ],
   "source": [
    "l=[1,5,3,4,5,200,7,8]\n",
    "l.sort()\n",
    "l.reverse()\n",
    "print(l)"
   ]
  },
  {
   "cell_type": "markdown",
   "metadata": {},
   "source": [
    "7. Write a Python program to reverse a list. "
   ]
  },
  {
   "cell_type": "code",
   "execution_count": 16,
   "metadata": {},
   "outputs": [
    {
     "name": "stdout",
     "output_type": "stream",
     "text": [
      "[10, 9, 8, 6, 5, 4, 3, 2, 1]\n"
     ]
    }
   ],
   "source": [
    "l=[1,2,3,4,5,6,8,9,10]\n",
    "l.reverse()\n",
    "print(l)"
   ]
  },
  {
   "cell_type": "markdown",
   "metadata": {},
   "source": [
    "8. Write a Python program to flatten a 2-D list."
   ]
  },
  {
   "cell_type": "code",
   "execution_count": 1,
   "metadata": {},
   "outputs": [
    {
     "name": "stdout",
     "output_type": "stream",
     "text": [
      "[1, 2, 3, 4, 5, 6, 6, 7, 8, 9]\n"
     ]
    }
   ],
   "source": [
    "matrix = [[1, 2, 3], [4, 5,6], [6, 7, 8, 9]] \n",
    "\n",
    "\n",
    "ar1d = []\n",
    "\n",
    "\n",
    "for row in matrix:\n",
    "    for col in row:\n",
    "        ar1d.append(col)\n",
    "        \n",
    "        \n",
    "print(ar1d)"
   ]
  },
  {
   "cell_type": "markdown",
   "metadata": {},
   "source": [
    "9. Given an input list removes the element at index 4 and add it to the 2nd position and also at the end of the list. "
   ]
  },
  {
   "cell_type": "code",
   "execution_count": 19,
   "metadata": {
    "scrolled": true
   },
   "outputs": [
    {
     "name": "stdout",
     "output_type": "stream",
     "text": [
      "[1, 2, 4, 5, 6, 7, 8, 3, 4]\n"
     ]
    }
   ],
   "source": [
    "l1= [1,2,3,5,4,6,7,8,3,100]\n",
    "v=l1[4]\n",
    "del l1[4]\n",
    "\n",
    "l1[2]=v\n",
    "l1[len(l1)-1]=v\n",
    "\n",
    "print(l1)"
   ]
  },
  {
   "cell_type": "markdown",
   "metadata": {},
   "source": [
    "10. Given a two list of equal size create a set such that it shows only the common elements from both lists. "
   ]
  },
  {
   "cell_type": "code",
   "execution_count": 27,
   "metadata": {},
   "outputs": [
    {
     "name": "stdout",
     "output_type": "stream",
     "text": [
      "{'1', '2', '3', '4'}\n"
     ]
    }
   ],
   "source": [
    "l1 = [1,2,3,4,5]\n",
    "l2 =[1,2,3,4,10,9,11]\n",
    "\n",
    "l=[]\n",
    "\n",
    "for i in l1:\n",
    "    if i in l2:\n",
    "        l+=str(i)\n",
    "        \n",
    "for i in l2:\n",
    "    if i in l1:\n",
    "        l+=str(i)\n",
    "        \n",
    "\n",
    "a= set(l)\n",
    "\n",
    "print(a)"
   ]
  },
  {
   "cell_type": "markdown",
   "metadata": {},
   "source": [
    "11. Given a two list of equal size create a tuple such that it shows elements from both lists in pairs "
   ]
  },
  {
   "cell_type": "code",
   "execution_count": 28,
   "metadata": {
    "scrolled": true
   },
   "outputs": [
    {
     "name": "stdout",
     "output_type": "stream",
     "text": [
      "11\n",
      "22\n",
      "33\n",
      "44\n",
      "510\n"
     ]
    }
   ],
   "source": [
    "l1 = [1,2,3,4,5]\n",
    "l2 = [1,2,3,4,10]\n",
    "\n",
    "l=()\n",
    "\n",
    "for i in range(len(l1)):\n",
    "    l = str(l1[i])+str(l2[i])\n",
    "    print(l)\n",
    "        "
   ]
  },
  {
   "cell_type": "markdown",
   "metadata": {},
   "source": [
    "12. Write a Python program to iterate and extract all key-value pair of a dictionary and print them"
   ]
  },
  {
   "cell_type": "code",
   "execution_count": 29,
   "metadata": {},
   "outputs": [
    {
     "name": "stdout",
     "output_type": "stream",
     "text": [
      "name ahmad\n",
      "age 24\n",
      "id 3\n"
     ]
    }
   ],
   "source": [
    "s = {\n",
    "     'name':\"ahmad\",\n",
    "     'age':\"24\",\n",
    "     'id':3\n",
    "\n",
    "     }\n",
    "\n",
    "\n",
    "for i in s:\n",
    "    print(i,s[str(i)])"
   ]
  },
  {
   "cell_type": "markdown",
   "metadata": {},
   "source": [
    "13. Iterate a given list and Check if a given element already exists in a dictionary as a key’s value if not delete it from the list. "
   ]
  },
  {
   "cell_type": "code",
   "execution_count": 30,
   "metadata": {
    "scrolled": true
   },
   "outputs": [
    {
     "name": "stdout",
     "output_type": "stream",
     "text": [
      "name\n",
      "['name']\n"
     ]
    }
   ],
   "source": [
    "\n",
    "s = {\n",
    "     'name':\"ahmad\",\n",
    "     'age':\"24\",\n",
    "     'id':3\n",
    "\n",
    "     }\n",
    "\n",
    "l1 = ['name',\"ali\"]\n",
    "\n",
    "\n",
    "for i in l1:\n",
    "    if i in s:\n",
    "        print(i)\n",
    "    else:\n",
    "        l1.remove(i)\n",
    "        \n",
    "        \n",
    "print (l1)"
   ]
  },
  {
   "cell_type": "markdown",
   "metadata": {},
   "source": [
    "14. Given a dictionary get all values from the dictionary and add it in a list but don’t add duplicates. "
   ]
  },
  {
   "cell_type": "code",
   "execution_count": 31,
   "metadata": {},
   "outputs": [
    {
     "name": "stdout",
     "output_type": "stream",
     "text": [
      "['ahmad', '24', 3]\n"
     ]
    }
   ],
   "source": [
    "s = {\n",
    "     'name':\"ahmad\",\n",
    "     'age':\"24\",\n",
    "     'id':3\n",
    "\n",
    "     }\n",
    "\n",
    "l1 = []\n",
    "v=\"\"\n",
    "\n",
    "for i in s.values():\n",
    "    if i not in l1:\n",
    "        l1.append(i)\n",
    "        \n",
    "        \n",
    "print (l1)\n"
   ]
  },
  {
   "cell_type": "markdown",
   "metadata": {},
   "source": [
    "15. Write a Python program whichaccepts asequence ofcomma-separated numbersfrom userand generate a list and tuple with those numbers. Sample data : 3, 5, 7, 23 Output : List : [’3’, ’ 5’, ’ 7’, ’ 23’] Tuple : (’3’, ’ 5’, ’ 7’, ’ 23’)"
   ]
  },
  {
   "cell_type": "code",
   "execution_count": 34,
   "metadata": {},
   "outputs": [
    {
     "name": "stdout",
     "output_type": "stream",
     "text": [
      "enter numbers 1,2,3,4,5\n",
      "('1', '2', '3', '4', '5')\n",
      "['1', '2', '3', '4', '5']\n"
     ]
    }
   ],
   "source": [
    "\n",
    "x =input(\"enter numbers \")\n",
    "\n",
    "l1=x.split(sep=',')\n",
    "\n",
    "t = tuple(l1)\n",
    "print(t)\n",
    "print(l1)"
   ]
  },
  {
   "cell_type": "markdown",
   "metadata": {},
   "source": [
    "16. Write a Python program to count the number 4 in a given list."
   ]
  },
  {
   "cell_type": "code",
   "execution_count": 20,
   "metadata": {},
   "outputs": [
    {
     "name": "stdout",
     "output_type": "stream",
     "text": [
      "2\n"
     ]
    }
   ],
   "source": [
    "l1= [1,2,3,5,4,6,7,8,4,100]\n",
    "\n",
    "print(l1.count(4))"
   ]
  },
  {
   "cell_type": "markdown",
   "metadata": {},
   "source": [
    "17. Write a Python program to print all even numbers from a given numbers list in the same order and stop the printing if any numbers that come after 237 in the sequence. Sample numbers list : numbers = [386, 462, 47, 418, 907, 344, 236, 375, 823, 566, 597, 978, 328, 615, 953, 345, 399, 162, 758, 219, 918, 237, 412, 566, 826, 248, 866, 950, 626, 949, 687, 217, 815, 67, 104, 58, 512, 24, 892, 894, 767, 553, 81, 379, 843, 831, 445, 742, 717, 958, 743, 527]\n"
   ]
  },
  {
   "cell_type": "code",
   "execution_count": 35,
   "metadata": {},
   "outputs": [
    {
     "name": "stdout",
     "output_type": "stream",
     "text": [
      "2\n",
      "4\n",
      "200\n"
     ]
    }
   ],
   "source": [
    "numbers = [1,2,3,4,200,237,500,9000,200,237]\n",
    "\n",
    "for i in numbers:\n",
    "    if(i>=237):\n",
    "        break\n",
    "    \n",
    "    if i % 2 ==0:\n",
    "        print(i)"
   ]
  },
  {
   "cell_type": "markdown",
   "metadata": {},
   "source": [
    "18. Write a Python program to print the length of the series and the series starting from the 3rd term, ending at the 3rd last term and the sum of a series."
   ]
  },
  {
   "cell_type": "code",
   "execution_count": 37,
   "metadata": {},
   "outputs": [
    {
     "name": "stdout",
     "output_type": "stream",
     "text": [
      "first 3 elements :  [1, 2, 3]\n",
      "last 3 elements :  [6, 7, 8]\n",
      "sum :  36\n"
     ]
    }
   ],
   "source": [
    "l=[1,2,3,4,5,6,7,8]\n",
    "\n",
    "print(\"first 3 elements : \", l[:3])\n",
    "print(\"last 3 elements : \" ,l[-3:])\n",
    "print(\"sum : \" ,sum(l))"
   ]
  },
  {
   "cell_type": "markdown",
   "metadata": {},
   "source": [
    "19. Write a Python program to get a list, sorted in increasing order by the last element in each tuple from a given list of non-empty tuples. Sample List : [(2, 5), (1, 2), (4, 4), (2, 3), (2, 1)] Expected Result : [(2, 1), (1, 2), (2, 3), (4, 4), (2, 5)]"
   ]
  },
  {
   "cell_type": "code",
   "execution_count": 36,
   "metadata": {},
   "outputs": [
    {
     "name": "stdout",
     "output_type": "stream",
     "text": [
      "[(2, 1, 4), (1, 5, 6), (2, 3, 7)]\n"
     ]
    }
   ],
   "source": [
    "li = [\n",
    "(2,3,7),\n",
    "(1,5,6),\n",
    "(2,1,4)\n",
    "]\n",
    "\n",
    "def abc(x):\n",
    "    return x[-1]\n",
    "\n",
    "print(sorted (li , key = abc))"
   ]
  },
  {
   "cell_type": "markdown",
   "metadata": {},
   "source": [
    "20. Write a Python program to create a list by concatenating a given list which range goes from 1 to n. Sample list : [’p’, ’q’] „„ n = 5 Sample Output : [’p1’, ’q1’, ’p2’, ’q2’, ’p3’, ’q3’, ’p4’, ’q4’, ’p5’, ’q5’]"
   ]
  },
  {
   "cell_type": "code",
   "execution_count": 26,
   "metadata": {},
   "outputs": [
    {
     "name": "stdout",
     "output_type": "stream",
     "text": [
      "['p1', 'q1', 'p2', 'q2', 'p3', 'q3', 'p4', 'q4', 'p5', 'q5']\n"
     ]
    }
   ],
   "source": [
    "sl=['p','q']\n",
    "n=5\n",
    "l=[]\n",
    "v1=\"\"\n",
    "v2=\"\"\n",
    "for i in range(1,6):\n",
    "    l.append(sl[0]+str(i))\n",
    "    l.append(sl[1]+str(i))\n",
    "print(l)"
   ]
  },
  {
   "cell_type": "markdown",
   "metadata": {},
   "source": [
    "#21. Write a Python program to find the biggest row sum of a given matrix. \n"
   ]
  },
  {
   "cell_type": "code",
   "execution_count": 23,
   "metadata": {},
   "outputs": [
    {
     "name": "stdout",
     "output_type": "stream",
     "text": [
      "30\n"
     ]
    }
   ],
   "source": [
    "matrix = [[1, 2, 3], [4, 5,6], [6, 7, 8, 9]] \n",
    "s=0\n",
    "for row in matrix:\n",
    "    m=0\n",
    "    for col in row:\n",
    "        m+=col\n",
    "    \n",
    "    if s < m :\n",
    "        s=m\n",
    "        \n",
    "print(s)"
   ]
  },
  {
   "cell_type": "markdown",
   "metadata": {},
   "source": [
    "22. Write a Python program to find the biggest column Multiplication of a matrix.  # note "
   ]
  },
  {
   "cell_type": "code",
   "execution_count": 20,
   "metadata": {},
   "outputs": [
    {
     "name": "stdout",
     "output_type": "stream",
     "text": [
      "[[1, 2, 3, 4, 5], [5, 5, 5, 5, 5], [10, 20, 30, 40, 50]]\n",
      "maxcol :  1250\n"
     ]
    }
   ],
   "source": [
    "m = [[1, 2, 3,4,5],  \n",
    "     [5,5,5,5,5],  \n",
    "     [10,20,30,40,50]]  \n",
    "\n",
    "print(m)\n",
    "m1=0\n",
    "for i in range(5):\n",
    "    multi=1\n",
    "    for j in range(3):\n",
    "        multi= multi * m[j][i]\n",
    "    if m1 < multi:\n",
    "        m1=multi\n",
    "        \n",
    "print('maxcol : ', m1)"
   ]
  },
  {
   "cell_type": "markdown",
   "metadata": {},
   "source": [
    "23. Write a guessing game where the user must guess a secret number. After every guess the programtellstheuserwhethertheirnumberwastoolargeortoosmall. Attheendthenumber of tries needed should be printed. It counts only as one try if they input the same number multiple times consecutively"
   ]
  },
  {
   "cell_type": "code",
   "execution_count": 45,
   "metadata": {},
   "outputs": [
    {
     "name": "stdout",
     "output_type": "stream",
     "text": [
      "gusss number : 1\n",
      "small\n",
      "gusss number : 2\n",
      "small\n",
      "gusss number : 3\n",
      "small\n",
      "gusss number : 4\n",
      "small\n",
      "gusss number : 5\n",
      "small\n",
      "gusss number : 0\n",
      "you fail 5 times \n"
     ]
    }
   ],
   "source": [
    "a =set()\n",
    "\n",
    "g = 7\n",
    "\n",
    "c=0\n",
    "while True:\n",
    "    i=int(input(\"gusss number : \"))\n",
    "    if i == 7:\n",
    "        print(\"you win ^_^\")\n",
    "        break\n",
    "    if c==5:\n",
    "        print(\"you fail 5 times \")\n",
    "        break\n",
    "    if i < 7:\n",
    "        print(\"small\")\n",
    "    if i > 7:\n",
    "        print(\"large\")\n",
    "    if i not in a:\n",
    "        c=c+1\n",
    "    a.add(i)    "
   ]
  },
  {
   "cell_type": "markdown",
   "metadata": {},
   "source": [
    "24. Write a python program to transpose a matrix. "
   ]
  },
  {
   "cell_type": "code",
   "execution_count": 21,
   "metadata": {},
   "outputs": [
    {
     "name": "stdout",
     "output_type": "stream",
     "text": [
      "m1 :  [[1, 2, 3, 4, 5], [5, 5, 5, 5, 5], [10, 20, 30, 40, 50]]\n",
      "m2 :  [[1, 1, 1, 1, 1], [2, 2, 2, 2, 2], [3, 3, 3, 3, 3]]\n",
      "m1 :  [[1, 1, 1, 1, 1], [2, 2, 2, 2, 2], [3, 3, 3, 3, 3]]\n",
      "m2 :  [[1, 1, 1, 1, 1], [2, 2, 2, 2, 2], [3, 3, 3, 3, 3]]\n"
     ]
    }
   ],
   "source": [
    "\n",
    "m1 = [[1, 2, 3,4,5],  \n",
    "     [5,5,5,5,5],  \n",
    "     [10,20,30,40,50]]  \n",
    "\n",
    "\n",
    "m2 = [[1,1,1,1,1],\n",
    "      [2,2,2,2,2],\n",
    "      [3,3,3,3,3]]\n",
    "\n",
    "print (\"m1 : \"  , m1)\n",
    "print(\"m2 : \", m2)   \n",
    "\n",
    "\n",
    "for i in range (5):\n",
    "    for j in range (3):\n",
    "        m1[j][i]=m2[j][i]\n",
    "        \n",
    "print (\"m1 : \"  , m1)\n",
    "print(\"m2 : \", m2)  \n",
    "        "
   ]
  },
  {
   "cell_type": "markdown",
   "metadata": {},
   "source": [
    "25. Write a python program to perform a 2 matrix multiplication (following the algebra rules of matrix multiplication)."
   ]
  },
  {
   "cell_type": "code",
   "execution_count": 22,
   "metadata": {},
   "outputs": [
    {
     "name": "stdout",
     "output_type": "stream",
     "text": [
      "m1 :  [[1, 2, 3, 4, 5], [5, 5, 5, 5, 5], [10, 20, 30, 40, 50]]\n",
      "m2 :  [[1, 1, 1, 1, 1], [2, 2, 2, 2, 2], [3, 3, 3, 3, 3]]\n",
      "res :  m1 * m2  [1, 2, 3, 4, 5, 10, 10, 10, 10, 10, 30, 60, 90, 120, 150]\n"
     ]
    }
   ],
   "source": [
    "m1 = [[1, 2, 3,4,5],  \n",
    "     [5,5,5,5,5],  \n",
    "     [10,20,30,40,50]]  \n",
    "\n",
    "\n",
    "m2 = [[1,1,1,1,1],\n",
    "      [2,2,2,2,2],\n",
    "      [3,3,3,3,3]]\n",
    "\n",
    "result = []\n",
    "\n",
    "print (\"m1 : \"  , m1)\n",
    "print(\"m2 : \", m2)   \n",
    "\n",
    "m3=[]\n",
    "\n",
    "for i in range (3):\n",
    "    for j in range (5):\n",
    "      result.append(m1[i][j]*m2[i][j])\n",
    "        \n",
    "print (\"res :  m1 * m2 \"  , result)"
   ]
  },
  {
   "cell_type": "markdown",
   "metadata": {},
   "source": [
    "26. Write a python program to inverse a matrix."
   ]
  },
  {
   "cell_type": "code",
   "execution_count": 24,
   "metadata": {},
   "outputs": [
    {
     "name": "stdout",
     "output_type": "stream",
     "text": [
      "m1 :  [[1, 2, 3, 4, 5], [5, 5, 5, 5, 5], [10, 20, 30, 40, 50]]\n",
      "[50, 40, 30, 20, 10, 5, 5, 5, 5, 5, 5, 4, 3, 2, 1]\n"
     ]
    }
   ],
   "source": [
    "m1 = [[1, 2, 3,4,5],  \n",
    "     [5,5,5,5,5],  \n",
    "     [10,20,30,40,50]]  \n",
    "\n",
    "print (\"m1 : \"  , m1)\n",
    "\n",
    "m3=[]\n",
    "\n",
    "for i in range (2,-1,-1):\n",
    "    for j in range(4,-1,-1):\n",
    "       m3.append(m1[i][j])\n",
    "      \n",
    "print(m3)"
   ]
  },
  {
   "cell_type": "markdown",
   "metadata": {},
   "source": [
    "27. Write a Python program to print all permutations of a sequence of numbers"
   ]
  },
  {
   "cell_type": "code",
   "execution_count": 25,
   "metadata": {},
   "outputs": [
    {
     "name": "stdout",
     "output_type": "stream",
     "text": [
      "[(1, 2, 3), (1, 3, 2), (2, 1, 3), (2, 3, 1), (3, 1, 2), (3, 2, 1)]\n"
     ]
    }
   ],
   "source": [
    "import itertools\n",
    "print(list(itertools.permutations([1, 2, 3])))\n"
   ]
  },
  {
   "cell_type": "markdown",
   "metadata": {},
   "source": [
    "28. Write a Python program to sort (ascending and descending) a dictionary by its values."
   ]
  },
  {
   "cell_type": "code",
   "execution_count": 26,
   "metadata": {},
   "outputs": [
    {
     "name": "stdout",
     "output_type": "stream",
     "text": [
      "yazeed\n",
      "b\n",
      "a\n"
     ]
    }
   ],
   "source": [
    "d1 = {5:\"b\",2:\"a\",3:\"yazeed\"}\n",
    "\n",
    "\n",
    "\n",
    "for i in sorted(d1.values() , reverse = True):\n",
    "    print(i)"
   ]
  },
  {
   "cell_type": "markdown",
   "metadata": {},
   "source": [
    "29. Write a Python program to remove duplicates from Dictionary values."
   ]
  },
  {
   "cell_type": "code",
   "execution_count": 27,
   "metadata": {},
   "outputs": [
    {
     "name": "stdout",
     "output_type": "stream",
     "text": [
      "{5: 'b', 3: 'yazeed'}\n",
      "{5: 'b', 2: 'b', 3: 'yazeed'}\n"
     ]
    }
   ],
   "source": [
    "d1 = {5:\"b\",2:\"b\",3:\"yazeed\"}\n",
    "l ={ }\n",
    "for key , value in d1.items():\n",
    "    if value  not in l.values():\n",
    "        l[key] = value\n",
    "print(l)\n",
    "print(d1)"
   ]
  },
  {
   "cell_type": "markdown",
   "metadata": {},
   "source": [
    "30. Write a Python program to print all unique values in a dictionary with their keys. Sample Data : [”V”:”S001”, ”V”: ”S002”, ”VI”: ”S001”, ”VI”: ”S005”, ”VII”:”S005”, ”V”:”S009”,”VIII”:”S007”] Expected Output : Unique Values: ’S005’, ’S002’, ’S007’, ’S001’, ’S009’"
   ]
  },
  {
   "cell_type": "code",
   "execution_count": 28,
   "metadata": {},
   "outputs": [
    {
     "name": "stdout",
     "output_type": "stream",
     "text": [
      "{'b', 'yazeed'}\n"
     ]
    }
   ],
   "source": [
    "d1 = {5:\"b\",2:\"b\",3:\"yazeed\"}\n",
    "\n",
    "\n",
    "l =set()\n",
    "\n",
    "for v in d1.values():\n",
    "    l.add(v)\n",
    "    \n",
    "print(l)\n"
   ]
  },
  {
   "cell_type": "markdown",
   "metadata": {},
   "source": [
    "#31. Write a Python program to find the keys of the highest 3 values in a dictionary. "
   ]
  },
  {
   "cell_type": "code",
   "execution_count": 29,
   "metadata": {},
   "outputs": [
    {
     "name": "stdout",
     "output_type": "stream",
     "text": [
      "[3, 9, 9]\n",
      "5\n",
      "10\n",
      "a\n"
     ]
    }
   ],
   "source": [
    "d1 = {5:3,2:2,3:1,10:9,\"a\":9}\n",
    "\n",
    "\n",
    "l1 = list()\n",
    "for i in d1.values():\n",
    "    l1.append(i)\n",
    "\n",
    "l1.sort()\n",
    "s =len(l1) \n",
    "l1 = l1[s-3:s]   \n",
    "print(l1)\n",
    "\n",
    "\n",
    "for i  in d1.keys():\n",
    "    if (d1[i] in l1):\n",
    "        print(i)"
   ]
  },
  {
   "cell_type": "markdown",
   "metadata": {},
   "source": [
    "#32. Given a list, traverse it and count the occurrence of each element\n",
    " and create a dictionary to show the count of each element."
   ]
  },
  {
   "cell_type": "code",
   "execution_count": 30,
   "metadata": {},
   "outputs": [
    {
     "name": "stdout",
     "output_type": "stream",
     "text": [
      "{8: 1, 4: 1, 2: 2, 1: 1}\n"
     ]
    }
   ],
   "source": [
    "l1 = [1,2,2,4,8]\n",
    "l1.reverse()\n",
    "\n",
    "d= { }\n",
    "for i in l1:\n",
    "    d[i]=l1.count(i)\n",
    "    \n",
    "    \n",
    "print(d)"
   ]
  },
  {
   "cell_type": "markdown",
   "metadata": {},
   "source": [
    "33. Given two sets find the intersection and remove the resulted elements from the first set."
   ]
  },
  {
   "cell_type": "code",
   "execution_count": 33,
   "metadata": {},
   "outputs": [
    {
     "name": "stdout",
     "output_type": "stream",
     "text": [
      "{4}\n",
      "{2}\n"
     ]
    }
   ],
   "source": [
    "s1={2,4}\n",
    "s2={1,5,6,4}\n",
    "\n",
    "g = s1.intersection(s1,s2)\n",
    "print(g)\n",
    "\n",
    "s1=s1-g\n",
    "print(s1)"
   ]
  },
  {
   "cell_type": "markdown",
   "metadata": {},
   "source": [
    "34. Given two sets, Checks if One Set is subset or superset of Another Set. if it is a subset, delete all elements (not the set) from that set"
   ]
  },
  {
   "cell_type": "code",
   "execution_count": 35,
   "metadata": {},
   "outputs": [
    {
     "name": "stdout",
     "output_type": "stream",
     "text": [
      "set()\n"
     ]
    }
   ],
   "source": [
    "s1={1,4}\n",
    "s2={1,5,6,4}\n",
    "\n",
    "if s1.issubset(s2):\n",
    "    s1.clear()\n",
    "    \n",
    "    \n",
    "print(s1)"
   ]
  },
  {
   "cell_type": "markdown",
   "metadata": {},
   "source": [
    "35. Write a Python program to print out a set containing all the item from list_1 which are not present in list_2. Test Data : list_1 = [”White”, ”Black”, ”Red”] list_2 = [”Red”, ”Green”] Expected Output : ’Black’, ’White"
   ]
  },
  {
   "cell_type": "code",
   "execution_count": 25,
   "metadata": {},
   "outputs": [
    {
     "name": "stdout",
     "output_type": "stream",
     "text": [
      "['White', 'Black']\n"
     ]
    }
   ],
   "source": [
    "l1=['White', 'Black', 'Red'] \n",
    "l2=['Red', 'Green']\n",
    "l11=[]\n",
    "for i in l1:\n",
    "    if i not in l2:\n",
    "        l11.append(i) \n",
    "print(l11)"
   ]
  },
  {
   "cell_type": "markdown",
   "metadata": {},
   "source": [
    "36. Write a Python program to find a distinct pair of numbers whose all product are odd from a sequence of integer values. Sample Input: [1, 4, 7, 3] Sample Output: 1, 3 1, 7 3, 7"
   ]
  },
  {
   "cell_type": "code",
   "execution_count": 36,
   "metadata": {},
   "outputs": [
    {
     "name": "stdout",
     "output_type": "stream",
     "text": [
      "1 7\n",
      "1 3\n",
      "7 1\n",
      "7 3\n",
      "3 1\n",
      "3 7\n"
     ]
    }
   ],
   "source": [
    "l1 = [1,4,7,3]\n",
    "\n",
    "for i in l1:\n",
    "    for j in l1:\n",
    "        if i % 2 !=0 and j % 2 !=0 and i != j:\n",
    "            print(i,j)"
   ]
  },
  {
   "cell_type": "markdown",
   "metadata": {},
   "source": [
    "37. Write a Python program to compute the summation of the absolute difference of all distinct pairs in an given array (non-decreasing order). Sample array: [1, 2, 3] Then all the distinct pairs will be: 1 2 1 3 2 3 Sample Output: 1 + 2 + 1 = 4"
   ]
  },
  {
   "cell_type": "code",
   "execution_count": 37,
   "metadata": {
    "scrolled": true
   },
   "outputs": [
    {
     "name": "stdout",
     "output_type": "stream",
     "text": [
      "[1]\n",
      "[1, 2]\n",
      "[1, 2, 1]\n",
      "[1, 2, 1, 1]\n",
      "[1, 2, 1, 1, 2]\n",
      "[1, 2, 1, 1, 2, 1]\n",
      "4\n"
     ]
    }
   ],
   "source": [
    "#from net :(\n",
    "lst = [1, 2, 3]  \n",
    "\n",
    "      \n",
    "diffs = [] \n",
    "for i, x in enumerate(lst): \n",
    "    for j, y in enumerate(lst): \n",
    "        if i != j:  \n",
    "            diffs.append(abs(x-y))\n",
    "            print(diffs)\n",
    "              \n",
    "print( int(sum(diffs)/2)  )"
   ]
  },
  {
   "cell_type": "markdown",
   "metadata": {},
   "source": [
    "38. Write a Python program to find the difference between the largest possible integer and the smallest possible integer which are created by maximum 4 digits each digit contains a value from 0 to 9. Input: 3245 Output: Min Int: 2345 Max Int: 5432 Max Difference: 3087"
   ]
  },
  {
   "cell_type": "code",
   "execution_count": 39,
   "metadata": {},
   "outputs": [
    {
     "name": "stdout",
     "output_type": "stream",
     "text": [
      "enter number of 4 digits :1432\n",
      "1234\n",
      "4321\n",
      "max diff : 3087\n"
     ]
    }
   ],
   "source": [
    "v= input(\"enter number of 4 digits :\")\n",
    "g=v\n",
    "l=[]\n",
    "for i in v:\n",
    "    l.append(i)\n",
    "mi=\"\"\n",
    "l.sort()\n",
    "for i in l:\n",
    "    mi+=i\n",
    "print(mi)\n",
    "    \n",
    "l2=[]\n",
    "ma=\"\"\n",
    "for i in g:\n",
    "    l2.append(i)\n",
    "    \n",
    "l2.sort(reverse=True)\n",
    "\n",
    "for i in l2:\n",
    "    ma+=i\n",
    "    \n",
    "print(ma)\n",
    "\n",
    "print(\"max diff :\" , (int(ma)- int(mi)))"
   ]
  },
  {
   "cell_type": "markdown",
   "metadata": {},
   "source": [
    "39. Write a Python program which adds up column and row of given table. Input cell value: 25 69 51 26 68 35 29 54 54 57 45 63 61 68 47 59 Result: 25 69 51 26 171 68 35 29 54 186 54 57 45 63 219 61 68 47 59 235 208 229 172 202 811"
   ]
  },
  {
   "cell_type": "code",
   "execution_count": 42,
   "metadata": {},
   "outputs": [
    {
     "name": "stdout",
     "output_type": "stream",
     "text": [
      "[[1, 2, 3, 4, 5], [5, 5, 5, 5, 5], [10, 20, 30, 40, 50]]\n",
      "[[1, 2, 3, 4, 5], [5, 5, 5, 5, 5], [10, 20, 30, 40, 50], 15, 40, 190]\n",
      "[[1, 2, 3, 4, 5], [5, 5, 5, 5, 5], [10, 20, 30, 40, 50], 16, 43, 81, 130, 190]\n"
     ]
    }
   ],
   "source": [
    "g = [[1, 2, 3,4,5],  \n",
    "     [5,5,5,5,5],  \n",
    "     [10,20,30,40,50]]  \n",
    "m=g.copy()\n",
    "print(g)\n",
    "rs=0\n",
    "cs=0\n",
    "for r in range(3):\n",
    "    for c in range(5):\n",
    "        rs+=m[r][c]\n",
    "    m.append(rs)\n",
    "    \n",
    "print(m)\n",
    "m1=g.copy()\n",
    "\n",
    "for r in range(5):\n",
    "    for c in range(3):\n",
    "        cs+=m1[c][r]\n",
    "    m1.append(cs)\n",
    "    \n",
    "print(m1)\n"
   ]
  },
  {
   "cell_type": "markdown",
   "metadata": {},
   "source": [
    "40. Write a Python program to count the number of strings where the string length is 2 or more and the first and last character are same from a given list of strings.\n",
    "Sample List : [’abc’, ’xyz’, ’aba’, ’1221’] Expected Result : 2 "
   ]
  },
  {
   "cell_type": "code",
   "execution_count": 23,
   "metadata": {},
   "outputs": [
    {
     "name": "stdout",
     "output_type": "stream",
     "text": [
      "aba\n",
      "1221\n",
      "expected result :  2\n"
     ]
    }
   ],
   "source": [
    "l1 = ['abc', 'xyz', 'aba', '1221']\n",
    "c=0\n",
    "for i in l1:\n",
    "    if(len(i)>2) and i == i[::-1]:\n",
    "        print(i)\n",
    "        c+=1\n",
    "        \n",
    "print(\"expected result : \" , c)"
   ]
  },
  {
   "cell_type": "markdown",
   "metadata": {},
   "source": [
    "41. Write a Python program that takes two lists and returns True if they have at least 3 common member"
   ]
  },
  {
   "cell_type": "code",
   "execution_count": 21,
   "metadata": {},
   "outputs": [
    {
     "name": "stdout",
     "output_type": "stream",
     "text": [
      "true\n"
     ]
    }
   ],
   "source": [
    "l1=[1,2,3,5,6,7,8,9]\n",
    "l2=[2,4,5,5,6,7,8,9,10]\n",
    "l11=[]\n",
    "for i in l1:\n",
    "    if i in l2:\n",
    "        l11.append(i)\n",
    "        \n",
    "for i in l2:\n",
    "    if i in l1:\n",
    "        l11.append(i)\n",
    "        \n",
    "if (len(l11))>=3:\n",
    "    print(\"true\")\n",
    "else:\n",
    "    print(\"false\")\n"
   ]
  },
  {
   "cell_type": "markdown",
   "metadata": {},
   "source": [
    "42. Write a Python program to generate a list of 15 values and print the list with the first and last 5 elements are squared. "
   ]
  },
  {
   "cell_type": "code",
   "execution_count": 33,
   "metadata": {},
   "outputs": [
    {
     "name": "stdout",
     "output_type": "stream",
     "text": [
      "[4, 3, 4, 5, 6, 7, 8, 9, 10, 11, 12, 13, 14, 15, 256]\n"
     ]
    }
   ],
   "source": [
    "l1=[]\n",
    "for i in range(2,17):\n",
    "    l1+=[i]    \n",
    "    \n",
    "l1[0]=l1[0]*l1[0]\n",
    "\n",
    "l1[len(l1)-1]=l1[len(l1)-1]*l1[len(l1)-1]\n",
    "print(l1)"
   ]
  },
  {
   "cell_type": "markdown",
   "metadata": {},
   "source": [
    "43. The sum of the squares of the first ten natural numbers is, 12 + 22 + ... + 102 = 385 The square of the sum of the first ten natural numbers is,(1 + 2 + ... + 10)2 = 552 = 3025 Hence the difference between the sum of the squares of the first ten natural numbers and the square of the sum is 3025 − 385 = 2640. Find the difference between the sum of the squares of the first one hundred natural numbers and the square of the sum."
   ]
  },
  {
   "cell_type": "code",
   "execution_count": 43,
   "metadata": {},
   "outputs": [
    {
     "name": "stdout",
     "output_type": "stream",
     "text": [
      "25164150\n"
     ]
    }
   ],
   "source": [
    "sum1 = 0\n",
    "for i in range(101):\n",
    "    sum1+=i**2\n",
    "sum2=0\n",
    "for i in range(101):\n",
    "    sum2+=i\n",
    "sum2= sum2*sum2\n",
    "print(sum2-sum1)"
   ]
  },
  {
   "cell_type": "markdown",
   "metadata": {},
   "source": [
    "44. Write a Python program to convert list to list of dictionaries. Sample lists: [”Name”, ”Age”, ”ID”, ”Phone”], [”Yazeed”, ”21”, 1536698”, ”0798529788”] Expected Output: {’color Name’: ’Black’, ’Age: ’21’ , ‘ID’: ’1536698’, ‘Phone’: ’0798529788’} "
   ]
  },
  {
   "cell_type": "code",
   "execution_count": 32,
   "metadata": {},
   "outputs": [
    {
     "name": "stdout",
     "output_type": "stream",
     "text": [
      "{'name': 1, 'age': 2, 'id': 3, 'phone': 4}\n"
     ]
    }
   ],
   "source": [
    "d1 = {\"item1\": 45.50,'item2':35,'item3': 41.30,'item4':55,'item5': 24}\n",
    "\n",
    "l1 = [\"name\",\"age\",\"id\",\"phone\"]\n",
    "l2 = [1,2,3,4]\n",
    "\n",
    "d={}\n",
    "\n",
    "for i in range(len(l1)):\n",
    "    d[l1[i]]=l2[i]\n",
    "    \n",
    "print(d)"
   ]
  },
  {
   "cell_type": "markdown",
   "metadata": {},
   "source": [
    "45. Write a Python program to get the top three items in a shop. Sample data: ’item1’: 45.50, ’item2’:35, ’item3’: 41.30, ’item4’:55, ’item5’: 24 Expected Output: item4 55 item1 45.5 item3 41.3"
   ]
  },
  {
   "cell_type": "code",
   "execution_count": 31,
   "metadata": {},
   "outputs": [
    {
     "name": "stdout",
     "output_type": "stream",
     "text": [
      "[41.3, 45.5, 55]\n",
      "item1 : 45.5\n",
      "item3 : 41.3\n",
      "item4 : 55\n"
     ]
    }
   ],
   "source": [
    "d1 = {\"item1\": 45.50,'item2':35,'item3': 41.30,'item4':55,'item5': 24}\n",
    "\n",
    "\n",
    "l1 = list()\n",
    "for i in d1.values():\n",
    "    l1.append(i)\n",
    "\n",
    "l1.sort()\n",
    "s =len(l1) \n",
    "l1 = l1[s-3:s]   \n",
    "print(l1)\n",
    "\n",
    "\n",
    "for key,value  in d1.items():\n",
    "    if (value in l1):\n",
    "        print(key,\":\",value)"
   ]
  },
  {
   "cell_type": "markdown",
   "metadata": {},
   "source": [
    "#46. Write a Python program to replace dictionary values with their sum. "
   ]
  },
  {
   "cell_type": "code",
   "execution_count": 38,
   "metadata": {},
   "outputs": [
    {
     "name": "stdout",
     "output_type": "stream",
     "text": [
      "{'name': 6, 'age': 6, 'id': 6}\n"
     ]
    }
   ],
   "source": [
    "d1 = {\n",
    "     'name':1,\n",
    "     'age':2,\n",
    "     'id':3\n",
    "\n",
    "     }\n",
    "\n",
    "\n",
    "\n",
    "s =sum(d1.values())\n",
    "       \n",
    "\n",
    "for i in d1:\n",
    "    d1[i]=s\n",
    " \n",
    "        \n",
    "print (d1)"
   ]
  },
  {
   "cell_type": "code",
   "execution_count": null,
   "metadata": {},
   "outputs": [],
   "source": []
  }
 ],
 "metadata": {
  "kernelspec": {
   "display_name": "Python 3",
   "language": "python",
   "name": "python3"
  },
  "language_info": {
   "codemirror_mode": {
    "name": "ipython",
    "version": 3
   },
   "file_extension": ".py",
   "mimetype": "text/x-python",
   "name": "python",
   "nbconvert_exporter": "python",
   "pygments_lexer": "ipython3",
   "version": "3.7.3"
  }
 },
 "nbformat": 4,
 "nbformat_minor": 2
}
