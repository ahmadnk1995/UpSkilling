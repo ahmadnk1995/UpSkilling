{
 "cells": [
  {
   "cell_type": "markdown",
   "metadata": {},
   "source": [
    "This is My First Python Script"
   ]
  },
  {
   "cell_type": "code",
   "execution_count": null,
   "metadata": {},
   "outputs": [],
   "source": [
    "print (\"Hello world\")"
   ]
  },
  {
   "cell_type": "markdown",
   "metadata": {},
   "source": [
    "q1"
   ]
  },
  {
   "cell_type": "code",
   "execution_count": null,
   "metadata": {},
   "outputs": [],
   "source": [
    "n=\"1234.6\"\n",
    "print(float(n)) \n",
    "print(type(n)) \n",
    "print(type(float(n)))"
   ]
  },
  {
   "cell_type": "markdown",
   "metadata": {},
   "source": [
    "q2"
   ]
  },
  {
   "cell_type": "code",
   "execution_count": null,
   "metadata": {},
   "outputs": [],
   "source": [
    "x = 5\n",
    "y = 6\n",
    "print (x,y)"
   ]
  },
  {
   "cell_type": "markdown",
   "metadata": {},
   "source": [
    "q3"
   ]
  },
  {
   "cell_type": "code",
   "execution_count": null,
   "metadata": {},
   "outputs": [],
   "source": [
    "x = int (input(\"Enter number\"))\n",
    "print(\"divisible by 3\") if x%3==0 else print (\"not divisible by 3\")"
   ]
  },
  {
   "cell_type": "markdown",
   "metadata": {},
   "source": [
    "q4\n"
   ]
  },
  {
   "cell_type": "code",
   "execution_count": 2,
   "metadata": {
    "scrolled": true
   },
   "outputs": [
    {
     "name": "stdout",
     "output_type": "stream",
     "text": [
      "Enter number 1 :1\n",
      "Enter number 2 :2\n",
      "Enter number 3 :3\n",
      "39.5\n"
     ]
    }
   ],
   "source": [
    "a = int ( input(\"Enter number 1 :\"))\n",
    "b = int (input(\"Enter number 2 :\"))\n",
    "c = int (input(\"Enter number 3 :\"))\n",
    "x1 = float ( ((b * -1)+(c**4))/ (2*a)  )\n",
    "print (x1)\n",
    "x2 =  ( (a+(b**3)) ** 2 ) / (c-(a**2))\n",
    "print (x2)"
   ]
  },
  {
   "cell_type": "markdown",
   "metadata": {},
   "source": [
    "q5\n"
   ]
  },
  {
   "cell_type": "code",
   "execution_count": 5,
   "metadata": {},
   "outputs": [
    {
     "name": "stdout",
     "output_type": "stream",
     "text": [
      "Enter number 1 :1\n",
      "Enter number 2 :100\n",
      "100\n"
     ]
    }
   ],
   "source": [
    "a = int ( input(\"Enter number 1 :\"))\n",
    "b = int (input(\"Enter number 2 :\"))\n",
    "print ( max (a,b) )"
   ]
  },
  {
   "cell_type": "markdown",
   "metadata": {},
   "source": [
    "q6"
   ]
  },
  {
   "cell_type": "code",
   "execution_count": 7,
   "metadata": {},
   "outputs": [
    {
     "name": "stdout",
     "output_type": "stream",
     "text": [
      "Enter number 1 :1\n",
      "Enter number 2 :2\n",
      "Enter number 2 :3\n",
      "3\n"
     ]
    }
   ],
   "source": [
    "a = int ( input(\"Enter number 1 :\"))\n",
    "b = int (input(\"Enter number 2 :\"))\n",
    "c = int (input(\"Enter number 2 :\"))\n",
    "print ( max (a,b, c) )"
   ]
  },
  {
   "cell_type": "markdown",
   "metadata": {},
   "source": [
    "q7"
   ]
  },
  {
   "cell_type": "code",
   "execution_count": 10,
   "metadata": {},
   "outputs": [
    {
     "name": "stdout",
     "output_type": "stream",
     "text": [
      "Enter number 1 :9\n",
      "Enter number 2 :1\n",
      "9.0\n"
     ]
    }
   ],
   "source": [
    "a = int ( input(\"Enter number 1 :\"))\n",
    "b = int (input(\"Enter number 2 :\"))\n",
    "if b==0:\n",
    "    print(\"b is 0\")\n",
    "else:\n",
    "        print(a/b)\n",
    "        \n"
   ]
  },
  {
   "cell_type": "markdown",
   "metadata": {},
   "source": [
    "q8\n"
   ]
  },
  {
   "cell_type": "code",
   "execution_count": 4,
   "metadata": {
    "scrolled": true
   },
   "outputs": [
    {
     "name": "stdout",
     "output_type": "stream",
     "text": [
      "Enter number  of days :500\n",
      "1.36986301369863\n",
      "71.42857\n"
     ]
    }
   ],
   "source": [
    "x = int (input(\"Enter number  of days :\"))\n",
    "\n",
    "\n"
   ]
  },
  {
   "cell_type": "markdown",
   "metadata": {},
   "source": [
    "q9\n"
   ]
  },
  {
   "cell_type": "code",
   "execution_count": 1,
   "metadata": {},
   "outputs": [
    {
     "name": "stdout",
     "output_type": "stream",
     "text": [
      "Enter the temperature in Celsius :30\n",
      "86.0\n"
     ]
    }
   ],
   "source": [
    "x = float (input(\"Enter the temperature in Celsius :\"))\n",
    "print ( (x*1.8)+32)"
   ]
  },
  {
   "cell_type": "markdown",
   "metadata": {},
   "source": [
    "q10\n"
   ]
  },
  {
   "cell_type": "code",
   "execution_count": 7,
   "metadata": {},
   "outputs": [
    {
     "name": "stdout",
     "output_type": "stream",
     "text": [
      "Enter number 1 :10\n",
      "Enter number 2 :5\n",
      "15.0\n"
     ]
    }
   ],
   "source": [
    "x = int ( input(\"Enter number 1 :\"))\n",
    "y = int (input(\"Enter number 2 :\"))\n",
    "\n",
    "if (x-y)==0:\n",
    "    print(\"division by zero\")\n",
    "else:\n",
    "    z =  float( ((x*x)-(y*y))/(x-y) )\n",
    "    print (z)\n"
   ]
  },
  {
   "cell_type": "markdown",
   "metadata": {},
   "source": [
    "q11"
   ]
  },
  {
   "cell_type": "code",
   "execution_count": 8,
   "metadata": {},
   "outputs": [
    {
     "name": "stdout",
     "output_type": "stream",
     "text": [
      "Enter number  :200\n",
      "Very Superior\n"
     ]
    }
   ],
   "source": [
    "n = int ( input(\"Enter number  :\"))\n",
    "\n",
    "if n>=130:\n",
    "  print(\"Very Superior\")\n",
    "elif n>=120 and n<=129:\n",
    "  print(\"Superior\")\n",
    "elif n>=110 and n<=119:\n",
    "  print(\"High Average\")  \n",
    "elif n>=90 and n<=109:\n",
    "  print(\"Average\")  \n",
    "elif n>=80 and n<=89:\n",
    "  print(\"Low Average\")  \n",
    "elif n>=70 and n<=79:\n",
    "  print(\"Borderline\") \n",
    "else:\n",
    "  print(\"Extremely Low\")\n",
    "\n",
    "\n"
   ]
  },
  {
   "cell_type": "markdown",
   "metadata": {},
   "source": [
    "q12"
   ]
  },
  {
   "cell_type": "code",
   "execution_count": 9,
   "metadata": {},
   "outputs": [
    {
     "name": "stdout",
     "output_type": "stream",
     "text": [
      "Enter number  :55\n",
      "E\n"
     ]
    }
   ],
   "source": [
    "\n",
    "n = int ( input(\"Enter number  :\"))\n",
    "\n",
    "if ( n<0 or n>100):\n",
    "    print (\"wronge entry\")\n",
    "else:\n",
    "    if n>=90:\n",
    "        print(\"A\")\n",
    "    elif n>=80 and n<9:\n",
    "        print(\"B\")\n",
    "    elif n>=70 and n<80:\n",
    "        print(\"C\")  \n",
    "    elif n>=60 and n<70:\n",
    "         print(\"D\")  \n",
    "    elif n>=50 and n<60:\n",
    "        print(\"E\")  \n",
    "    else:\n",
    "         print(\"F\")\n",
    "    \n",
    "\n",
    "\n"
   ]
  },
  {
   "cell_type": "markdown",
   "metadata": {},
   "source": [
    "q13"
   ]
  },
  {
   "cell_type": "code",
   "execution_count": 11,
   "metadata": {},
   "outputs": [
    {
     "name": "stdout",
     "output_type": "stream",
     "text": [
      "Enter a  :10\n",
      "Enter b  :10\n",
      "Enter c  :100\n",
      "not equals\n"
     ]
    }
   ],
   "source": [
    "a = int ( input(\"Enter a  :\"))\n",
    "b = int ( input(\"Enter b  :\"))\n",
    "c = int ( input(\"Enter c  :\"))\n",
    "\n",
    "if ( (a*a) +(b*b) ) == (c*c):\n",
    "    print(\"equals\")\n",
    "else:\n",
    "    print(\"not equals\")\n",
    "    \n",
    "    "
   ]
  },
  {
   "cell_type": "markdown",
   "metadata": {},
   "source": [
    "q14"
   ]
  },
  {
   "cell_type": "code",
   "execution_count": 12,
   "metadata": {},
   "outputs": [
    {
     "name": "stdout",
     "output_type": "stream",
     "text": [
      "please enter character : f\n",
      "f consonant\n"
     ]
    }
   ],
   "source": [
    "ch = input(\"please enter character : \")\n",
    "\n",
    "if( ch == 'A' or ch == 'E' or ch == 'I' or ch == 'O' or ch == 'U' or ch == 'a' or ch == 'e' or ch == 'i' or ch == 'o' or ch == 'u' ): \n",
    "    print( ch, \"vowel\")\n",
    "else:\n",
    "    print(ch, \"consonant\")"
   ]
  },
  {
   "cell_type": "markdown",
   "metadata": {},
   "source": [
    "q15\n"
   ]
  },
  {
   "cell_type": "code",
   "execution_count": 13,
   "metadata": {},
   "outputs": [
    {
     "name": "stdout",
     "output_type": "stream",
     "text": [
      "Please Enter a Number : 20\n",
      "even\n"
     ]
    }
   ],
   "source": [
    "n=int(input(\"Please Enter a Number : \"));  \n",
    "if(n%2!=0):  \n",
    "    print(\"odd\")  \n",
    "else:  \n",
    "    print(\"even\") "
   ]
  },
  {
   "cell_type": "markdown",
   "metadata": {},
   "source": [
    "q16"
   ]
  },
  {
   "cell_type": "code",
   "execution_count": 14,
   "metadata": {},
   "outputs": [
    {
     "name": "stdout",
     "output_type": "stream",
     "text": [
      "2019-10-15 17:50:53.670060\n"
     ]
    }
   ],
   "source": [
    "import datetime\n",
    "time = datetime.datetime.now()\n",
    "print (time)"
   ]
  },
  {
   "cell_type": "markdown",
   "metadata": {},
   "source": [
    "q17"
   ]
  },
  {
   "cell_type": "code",
   "execution_count": 15,
   "metadata": {},
   "outputs": [
    {
     "name": "stdout",
     "output_type": "stream",
     "text": [
      "Input the radius of the circle : 5\n",
      "78.5\n"
     ]
    }
   ],
   "source": [
    "pi = 3.14\n",
    "radius = float(input (\"Input the radius of the circle : \"))\n",
    "print((pi * radius**2))"
   ]
  },
  {
   "cell_type": "markdown",
   "metadata": {},
   "source": [
    "q18"
   ]
  },
  {
   "cell_type": "code",
   "execution_count": 16,
   "metadata": {},
   "outputs": [
    {
     "name": "stdout",
     "output_type": "stream",
     "text": [
      "Input your First Name : ahmad\n",
      "Input your Last Name : kofahi\n",
      "['i', 'h', 'a', 'f', 'o', 'k'] ['d', 'a', 'm', 'h', 'a']\n"
     ]
    }
   ],
   "source": [
    "fname = input(\"Input your First Name : \")\n",
    "lname = input(\"Input your Last Name : \")\n",
    "\n",
    "print ( list (reversed (lname))  ,  list(reversed (fname)))"
   ]
  },
  {
   "cell_type": "markdown",
   "metadata": {},
   "source": [
    "q19"
   ]
  },
  {
   "cell_type": "code",
   "execution_count": 17,
   "metadata": {},
   "outputs": [
    {
     "name": "stdout",
     "output_type": "stream",
     "text": [
      "enter n1 : 11\n",
      "enter n2 : 12\n",
      "enter n3 : 2019\n",
      "The examination will start from : 11/12/2019\n"
     ]
    }
   ],
   "source": [
    "n1 = input(\"enter n1 : \")\n",
    "n2 = input(\"enter n2 : \")\n",
    "n3 = input(\"enter n3 : \")\n",
    "\n",
    "print (\"The examination will start from : \" + n1 +\"/\" +n2+\"/\"+n3)"
   ]
  },
  {
   "cell_type": "markdown",
   "metadata": {},
   "source": [
    "q20"
   ]
  },
  {
   "cell_type": "code",
   "execution_count": 18,
   "metadata": {},
   "outputs": [
    {
     "name": "stdout",
     "output_type": "stream",
     "text": [
      "enter num : 5\n",
      "615\n"
     ]
    }
   ],
   "source": [
    "n =  (input(\"enter num : \"))\n",
    "\n",
    "print(int(n)+int(n*2)+int(n*3))"
   ]
  },
  {
   "cell_type": "markdown",
   "metadata": {},
   "source": [
    "q21"
   ]
  },
  {
   "cell_type": "code",
   "execution_count": 19,
   "metadata": {},
   "outputs": [
    {
     "name": "stdout",
     "output_type": "stream",
     "text": [
      "Help on built-in function print in module builtins:\n",
      "\n",
      "print(...)\n",
      "    print(value, ..., sep=' ', end='\\n', file=sys.stdout, flush=False)\n",
      "    \n",
      "    Prints the values to a stream, or to sys.stdout by default.\n",
      "    Optional keyword arguments:\n",
      "    file:  a file-like object (stream); defaults to the current sys.stdout.\n",
      "    sep:   string inserted between values, default a space.\n",
      "    end:   string appended after the last value, default a newline.\n",
      "    flush: whether to forcibly flush the stream.\n",
      "\n"
     ]
    }
   ],
   "source": [
    "help(print)\n"
   ]
  },
  {
   "cell_type": "markdown",
   "metadata": {},
   "source": [
    "q22"
   ]
  },
  {
   "cell_type": "code",
   "execution_count": 20,
   "metadata": {},
   "outputs": [
    {
     "name": "stdout",
     "output_type": "stream",
     "text": [
      "\n",
      "a string that you \"don't\" have to escape\n",
      "This\n",
      "is a  ....... multi-line\n",
      "heredoc string --------> example\n",
      "\n"
     ]
    }
   ],
   "source": [
    "print(\"\"\"\n",
    "a string that you \"don't\" have to escape\n",
    "This\n",
    "is a  ....... multi-line\n",
    "heredoc string --------> example\n",
    "\"\"\")"
   ]
  },
  {
   "cell_type": "markdown",
   "metadata": {},
   "source": [
    "q23"
   ]
  },
  {
   "cell_type": "code",
   "execution_count": 21,
   "metadata": {},
   "outputs": [
    {
     "name": "stdout",
     "output_type": "stream",
     "text": [
      "9\n"
     ]
    }
   ],
   "source": [
    "from datetime import date\n",
    "f_date = date(2014, 7, 2)\n",
    "l_date = date(2014, 7, 11)\n",
    "delta = l_date - f_date\n",
    "print(delta.days)"
   ]
  },
  {
   "cell_type": "markdown",
   "metadata": {},
   "source": [
    "q24"
   ]
  },
  {
   "cell_type": "code",
   "execution_count": 22,
   "metadata": {},
   "outputs": [
    {
     "name": "stdout",
     "output_type": "stream",
     "text": [
      "enter radius : 6.0\n",
      "The volume of the sphere is:  904.3199999999999\n"
     ]
    }
   ],
   "source": [
    "pi = 3.14\n",
    "r= float( input(\"enter radius : \" ))\n",
    "V= 4.0/3.0*pi* r**3\n",
    "print('The volume of the sphere is: ',V)"
   ]
  },
  {
   "cell_type": "markdown",
   "metadata": {},
   "source": [
    "q25"
   ]
  },
  {
   "cell_type": "code",
   "execution_count": 23,
   "metadata": {},
   "outputs": [
    {
     "name": "stdout",
     "output_type": "stream",
     "text": [
      "Enter num : 22\n",
      "10\n"
     ]
    }
   ],
   "source": [
    "n = int (input(\"Enter num : \" ))\n",
    "if n<=17:\n",
    "    print( 17 - n)\n",
    "else:\n",
    "    print( (n - 17) * 2 )\n",
    "    \n",
    "    "
   ]
  },
  {
   "cell_type": "markdown",
   "metadata": {},
   "source": [
    "q26"
   ]
  },
  {
   "cell_type": "code",
   "execution_count": 24,
   "metadata": {},
   "outputs": [
    {
     "name": "stdout",
     "output_type": "stream",
     "text": [
      "enter num : -20\n",
      "-100.0\n"
     ]
    }
   ],
   "source": [
    "x = float ( input(\"enter num : \"))\n",
    "\n",
    "if x<100  or x<1000 or x<2000 :\n",
    "     print((x/5)*25)\n",
    "else:\n",
    "    print(\"wronge entry \")\n",
    "    \n",
    "    \n",
    "        "
   ]
  },
  {
   "cell_type": "markdown",
   "metadata": {},
   "source": [
    "q27"
   ]
  },
  {
   "cell_type": "code",
   "execution_count": 25,
   "metadata": {},
   "outputs": [
    {
     "name": "stdout",
     "output_type": "stream",
     "text": [
      "enter num1 :1\n",
      "enter num2 :2\n",
      "enter num3 :3\n",
      "6\n"
     ]
    }
   ],
   "source": [
    "x = int (input(\"enter num1 :\"))\n",
    "y = int (input(\"enter num2 :\"))\n",
    "z = int (input(\"enter num3 :\"))\n",
    "\n",
    "s = x+y+z\n",
    "if x==y==z:\n",
    "    s=s*3\n",
    "\n",
    "print(s)\n",
    "    "
   ]
  },
  {
   "cell_type": "markdown",
   "metadata": {},
   "source": [
    "q28"
   ]
  },
  {
   "cell_type": "code",
   "execution_count": 26,
   "metadata": {},
   "outputs": [
    {
     "name": "stdout",
     "output_type": "stream",
     "text": [
      "enter x :1\n",
      "enter y :2\n",
      "y= 1 x =  2\n"
     ]
    }
   ],
   "source": [
    "x = int (input(\"enter x :\"))\n",
    "y = int (input(\"enter y :\"))\n",
    "temp = y\n",
    "y=x\n",
    "x=temp\n",
    "print(\"y=\" ,y , \"x = \" ,x )\n",
    "\n",
    "\n"
   ]
  },
  {
   "cell_type": "markdown",
   "metadata": {},
   "source": [
    "q29"
   ]
  },
  {
   "cell_type": "code",
   "execution_count": 27,
   "metadata": {},
   "outputs": [
    {
     "name": "stdout",
     "output_type": "stream",
     "text": [
      "enter char : a\n",
      "enter string : ahmad\n",
      "true\n"
     ]
    }
   ],
   "source": [
    "c = input(\"enter char : \")\n",
    "s = input(\"enter string : \")\n",
    "\n",
    "if c in s:\n",
    "    print(\"true\")\n",
    "else:\n",
    "    print(\"false\")\n"
   ]
  },
  {
   "cell_type": "markdown",
   "metadata": {},
   "source": [
    "q30"
   ]
  },
  {
   "cell_type": "code",
   "execution_count": 28,
   "metadata": {},
   "outputs": [
    {
     "name": "stdout",
     "output_type": "stream",
     "text": [
      "enter base : 10\n",
      "enter height : 20\n",
      "area =  100.0\n"
     ]
    }
   ],
   "source": [
    "b = int(input(\"enter base : \"))\n",
    "h = int(input(\"enter height : \"))\n",
    "area = b*h/2\n",
    "print(\"area = \", area)"
   ]
  },
  {
   "cell_type": "markdown",
   "metadata": {},
   "source": [
    "q31"
   ]
  },
  {
   "cell_type": "code",
   "execution_count": 29,
   "metadata": {},
   "outputs": [
    {
     "name": "stdout",
     "output_type": "stream",
     "text": [
      "enter number 1: 1\n",
      "enter number 2: 2\n",
      "enter number 3: 3\n",
      "6\n"
     ]
    }
   ],
   "source": [
    "n1 = int(input(\"enter number 1: \"))\n",
    "n2 = int(input(\"enter number 2: \"))\n",
    "n3 = int(input(\"enter number 3: \"))\n",
    "\n",
    "if n1 == n2 or n2 == n3 or n1==n3 :\n",
    "    print(0)\n",
    "else:\n",
    "    print(  (n1) + (n2) + (n3) )"
   ]
  },
  {
   "cell_type": "markdown",
   "metadata": {},
   "source": [
    "q32"
   ]
  },
  {
   "cell_type": "code",
   "execution_count": 30,
   "metadata": {},
   "outputs": [
    {
     "name": "stdout",
     "output_type": "stream",
     "text": [
      "enter number 1: 100\n",
      "enter number 2: 50\n",
      "210\n"
     ]
    }
   ],
   "source": [
    "n1 = int(input(\"enter number 1: \"))\n",
    "n2 = int(input(\"enter number 2: \"))\n",
    "\n",
    "s = n1+n2\n",
    "if s in range(15, 20):\n",
    "        print (20)\n",
    "elif s in range(30, 40):\n",
    "    print (50)\n",
    "elif s in range(150, 167):\n",
    "    print (210)\n",
    "else:\n",
    "    print(s)\n",
    "    \n",
    "    \n",
    "        "
   ]
  },
  {
   "cell_type": "markdown",
   "metadata": {},
   "source": [
    "q33"
   ]
  },
  {
   "cell_type": "code",
   "execution_count": 31,
   "metadata": {
    "scrolled": true
   },
   "outputs": [
    {
     "name": "stdout",
     "output_type": "stream",
     "text": [
      "enter number 1: 20\n",
      "enter number 2: 30\n",
      "false\n"
     ]
    }
   ],
   "source": [
    "n1 = int(input(\"enter number 1: \"))\n",
    "n2 = int(input(\"enter number 2: \"))\n",
    "\n",
    "if (n1==n2) or (n1-n2)== 5 or (n1+n2) == 5:\n",
    "    print(\"true\")\n",
    "else:\n",
    "    print(\"false\")\n",
    "        "
   ]
  },
  {
   "cell_type": "markdown",
   "metadata": {},
   "source": [
    "q34"
   ]
  },
  {
   "cell_type": "code",
   "execution_count": null,
   "metadata": {},
   "outputs": [],
   "source": [
    "x = int(input(\"enter x : \"))\n",
    "y = int(input(\"enter y :\"))\n",
    "\n",
    "print (x*x+2*x*y+y*y)\n"
   ]
  },
  {
   "cell_type": "markdown",
   "metadata": {},
   "source": [
    "q35"
   ]
  },
  {
   "cell_type": "code",
   "execution_count": 32,
   "metadata": {},
   "outputs": [
    {
     "name": "stdout",
     "output_type": "stream",
     "text": [
      "enter amt : 1\n",
      "enter years :2\n",
      "enter rate : 3\n",
      "1.0609\n"
     ]
    }
   ],
   "source": [
    "amt = int(input(\"enter amt : \"))\n",
    "years = int(input(\"enter years :\"))\n",
    "rate = int(input(\"enter rate : \"))\n",
    "\n",
    "print ( amt *((1+(0.01*rate))**years))"
   ]
  },
  {
   "cell_type": "markdown",
   "metadata": {},
   "source": [
    "36"
   ]
  },
  {
   "cell_type": "code",
   "execution_count": 2,
   "metadata": {},
   "outputs": [
    {
     "name": "stdout",
     "output_type": "stream",
     "text": [
      "enter x1 : 1\n",
      "enter y1 : 2\n",
      "enter x2 : 1\n",
      "enter y2 : 2\n",
      "0.0\n"
     ]
    }
   ],
   "source": [
    "\n",
    "\n",
    "x1 = int(input(\"enter x1 : \"))\n",
    "y1 = int(input(\"enter y1 : \"))\n",
    "\n",
    "x2 = int(input(\"enter x2 : \"))\n",
    "y2 = int(input(\"enter y2 : \"))\n",
    "\n",
    "\n",
    "print (    (2**(1/2)) * ( (x2 - x1)**2 + (y2 - y1)**2 )         )\n"
   ]
  },
  {
   "cell_type": "markdown",
   "metadata": {},
   "source": [
    "q37"
   ]
  },
  {
   "cell_type": "code",
   "execution_count": 5,
   "metadata": {},
   "outputs": [
    {
     "name": "stdout",
     "output_type": "stream",
     "text": [
      "ahmad\n",
      "Wall time: 0 ns\n"
     ]
    }
   ],
   "source": [
    "print(\"ahmad\")\n",
    "%time"
   ]
  },
  {
   "cell_type": "markdown",
   "metadata": {},
   "source": [
    "q38"
   ]
  },
  {
   "cell_type": "code",
   "execution_count": 6,
   "metadata": {},
   "outputs": [
    {
     "name": "stdout",
     "output_type": "stream",
     "text": [
      "enter feets 6\n",
      "enter inches 2\n",
      "187.96\n"
     ]
    }
   ],
   "source": [
    "feet = int (input(\"enter feets \"))\n",
    "inch = int (input(\"enter inches \"))\n",
    "#1 meter = 100 \n",
    "#1 foot = 12 inches, 1 inch = 2.54 cm\n",
    "#12 x 2.54 = 30.48\n",
    "#1 foot is equal to 30.48 cm, 1 cm is equal to 0.032808399 feet\n",
    "\n",
    "i =  int(inch + (feet*12))\n",
    "print(i*2.54)\n"
   ]
  },
  {
   "cell_type": "markdown",
   "metadata": {},
   "source": [
    "q39"
   ]
  },
  {
   "cell_type": "code",
   "execution_count": 9,
   "metadata": {},
   "outputs": [],
   "source": [
    "#idk .. !!"
   ]
  },
  {
   "cell_type": "markdown",
   "metadata": {},
   "source": [
    "q40"
   ]
  },
  {
   "cell_type": "code",
   "execution_count": 10,
   "metadata": {},
   "outputs": [
    {
     "name": "stdout",
     "output_type": "stream",
     "text": [
      "enter feet 100\n",
      "1200\n",
      "33.333333333333336\n",
      "0.01893939393939394\n"
     ]
    }
   ],
   "source": [
    "feet = int(input(\"enter feet \"))\n",
    "\n",
    "# foot = 12 inch \n",
    "print (feet*12)\n",
    "# 1yard = 3 foot\n",
    "print(feet/3)\n",
    "#mile = 5,280 feet\n",
    "print(feet/5280)"
   ]
  },
  {
   "cell_type": "markdown",
   "metadata": {},
   "source": [
    "q41"
   ]
  },
  {
   "cell_type": "code",
   "execution_count": 11,
   "metadata": {},
   "outputs": [
    {
     "name": "stdout",
     "output_type": "stream",
     "text": [
      "enter min's : 1\n",
      "43800\n",
      "1440\n",
      "525600\n"
     ]
    }
   ],
   "source": [
    "min_PER_mon  = 43800\n",
    "min_PER_DAY  = 1440\n",
    "min_per_year = 525600\n",
    "\n",
    "min = int (input(\"enter min's : \"))\n",
    "\n",
    "min_PER_mon *=min\n",
    "min_PER_DAY *=min\n",
    "min_per_year *=min\n",
    "\n",
    "print(min_PER_mon)\n",
    "print(min_PER_DAY)\n",
    "print(min_per_year)"
   ]
  },
  {
   "cell_type": "markdown",
   "metadata": {},
   "source": [
    "q42"
   ]
  },
  {
   "cell_type": "code",
   "execution_count": 12,
   "metadata": {},
   "outputs": [
    {
     "name": "stdout",
     "output_type": "stream",
     "text": [
      "enter years : 1\n",
      "12\n",
      "365\n"
     ]
    }
   ],
   "source": [
    "\n",
    "\n",
    "years = int (input(\"enter years : \"))\n",
    "\n",
    "print (years*12)\n",
    "print (years*365)\n",
    "\n"
   ]
  },
  {
   "cell_type": "markdown",
   "metadata": {},
   "source": [
    "q43"
   ]
  },
  {
   "cell_type": "code",
   "execution_count": 13,
   "metadata": {},
   "outputs": [
    {
     "name": "stdout",
     "output_type": "stream",
     "text": [
      "enter w : 85\n",
      "enter h : 5.8\n",
      "2.5267538644470866\n"
     ]
    }
   ],
   "source": [
    "#weight / (height * height)\n",
    "\n",
    "w = float (input(\"enter w : \"))\n",
    "h = float (input(\"enter h : \"))\n",
    "\n",
    "print (w/(h*h))\n"
   ]
  },
  {
   "cell_type": "markdown",
   "metadata": {},
   "source": [
    "q44"
   ]
  },
  {
   "cell_type": "code",
   "execution_count": 14,
   "metadata": {},
   "outputs": [
    {
     "name": "stdout",
     "output_type": "stream",
     "text": [
      "['1', '2', '5', '5', '9']\n"
     ]
    }
   ],
   "source": [
    "print (sorted(\"59215\"))"
   ]
  },
  {
   "cell_type": "markdown",
   "metadata": {},
   "source": [
    "q45"
   ]
  },
  {
   "cell_type": "code",
   "execution_count": 15,
   "metadata": {},
   "outputs": [
    {
     "name": "stdout",
     "output_type": "stream",
     "text": [
      "Help on built-in module math:\n",
      "\n",
      "NAME\n",
      "    math\n",
      "\n",
      "DESCRIPTION\n",
      "    This module is always available.  It provides access to the\n",
      "    mathematical functions defined by the C standard.\n",
      "\n",
      "FUNCTIONS\n",
      "    acos(x, /)\n",
      "        Return the arc cosine (measured in radians) of x.\n",
      "    \n",
      "    acosh(x, /)\n",
      "        Return the inverse hyperbolic cosine of x.\n",
      "    \n",
      "    asin(x, /)\n",
      "        Return the arc sine (measured in radians) of x.\n",
      "    \n",
      "    asinh(x, /)\n",
      "        Return the inverse hyperbolic sine of x.\n",
      "    \n",
      "    atan(x, /)\n",
      "        Return the arc tangent (measured in radians) of x.\n",
      "    \n",
      "    atan2(y, x, /)\n",
      "        Return the arc tangent (measured in radians) of y/x.\n",
      "        \n",
      "        Unlike atan(y/x), the signs of both x and y are considered.\n",
      "    \n",
      "    atanh(x, /)\n",
      "        Return the inverse hyperbolic tangent of x.\n",
      "    \n",
      "    ceil(x, /)\n",
      "        Return the ceiling of x as an Integral.\n",
      "        \n",
      "        This is the smallest integer >= x.\n",
      "    \n",
      "    copysign(x, y, /)\n",
      "        Return a float with the magnitude (absolute value) of x but the sign of y.\n",
      "        \n",
      "        On platforms that support signed zeros, copysign(1.0, -0.0)\n",
      "        returns -1.0.\n",
      "    \n",
      "    cos(x, /)\n",
      "        Return the cosine of x (measured in radians).\n",
      "    \n",
      "    cosh(x, /)\n",
      "        Return the hyperbolic cosine of x.\n",
      "    \n",
      "    degrees(x, /)\n",
      "        Convert angle x from radians to degrees.\n",
      "    \n",
      "    erf(x, /)\n",
      "        Error function at x.\n",
      "    \n",
      "    erfc(x, /)\n",
      "        Complementary error function at x.\n",
      "    \n",
      "    exp(x, /)\n",
      "        Return e raised to the power of x.\n",
      "    \n",
      "    expm1(x, /)\n",
      "        Return exp(x)-1.\n",
      "        \n",
      "        This function avoids the loss of precision involved in the direct evaluation of exp(x)-1 for small x.\n",
      "    \n",
      "    fabs(x, /)\n",
      "        Return the absolute value of the float x.\n",
      "    \n",
      "    factorial(x, /)\n",
      "        Find x!.\n",
      "        \n",
      "        Raise a ValueError if x is negative or non-integral.\n",
      "    \n",
      "    floor(x, /)\n",
      "        Return the floor of x as an Integral.\n",
      "        \n",
      "        This is the largest integer <= x.\n",
      "    \n",
      "    fmod(x, y, /)\n",
      "        Return fmod(x, y), according to platform C.\n",
      "        \n",
      "        x % y may differ.\n",
      "    \n",
      "    frexp(x, /)\n",
      "        Return the mantissa and exponent of x, as pair (m, e).\n",
      "        \n",
      "        m is a float and e is an int, such that x = m * 2.**e.\n",
      "        If x is 0, m and e are both 0.  Else 0.5 <= abs(m) < 1.0.\n",
      "    \n",
      "    fsum(seq, /)\n",
      "        Return an accurate floating point sum of values in the iterable seq.\n",
      "        \n",
      "        Assumes IEEE-754 floating point arithmetic.\n",
      "    \n",
      "    gamma(x, /)\n",
      "        Gamma function at x.\n",
      "    \n",
      "    gcd(x, y, /)\n",
      "        greatest common divisor of x and y\n",
      "    \n",
      "    hypot(x, y, /)\n",
      "        Return the Euclidean distance, sqrt(x*x + y*y).\n",
      "    \n",
      "    isclose(a, b, *, rel_tol=1e-09, abs_tol=0.0)\n",
      "        Determine whether two floating point numbers are close in value.\n",
      "        \n",
      "          rel_tol\n",
      "            maximum difference for being considered \"close\", relative to the\n",
      "            magnitude of the input values\n",
      "          abs_tol\n",
      "            maximum difference for being considered \"close\", regardless of the\n",
      "            magnitude of the input values\n",
      "        \n",
      "        Return True if a is close in value to b, and False otherwise.\n",
      "        \n",
      "        For the values to be considered close, the difference between them\n",
      "        must be smaller than at least one of the tolerances.\n",
      "        \n",
      "        -inf, inf and NaN behave similarly to the IEEE 754 Standard.  That\n",
      "        is, NaN is not close to anything, even itself.  inf and -inf are\n",
      "        only close to themselves.\n",
      "    \n",
      "    isfinite(x, /)\n",
      "        Return True if x is neither an infinity nor a NaN, and False otherwise.\n",
      "    \n",
      "    isinf(x, /)\n",
      "        Return True if x is a positive or negative infinity, and False otherwise.\n",
      "    \n",
      "    isnan(x, /)\n",
      "        Return True if x is a NaN (not a number), and False otherwise.\n",
      "    \n",
      "    ldexp(x, i, /)\n",
      "        Return x * (2**i).\n",
      "        \n",
      "        This is essentially the inverse of frexp().\n",
      "    \n",
      "    lgamma(x, /)\n",
      "        Natural logarithm of absolute value of Gamma function at x.\n",
      "    \n",
      "    log(...)\n",
      "        log(x, [base=math.e])\n",
      "        Return the logarithm of x to the given base.\n",
      "        \n",
      "        If the base not specified, returns the natural logarithm (base e) of x.\n",
      "    \n",
      "    log10(x, /)\n",
      "        Return the base 10 logarithm of x.\n",
      "    \n",
      "    log1p(x, /)\n",
      "        Return the natural logarithm of 1+x (base e).\n",
      "        \n",
      "        The result is computed in a way which is accurate for x near zero.\n",
      "    \n",
      "    log2(x, /)\n",
      "        Return the base 2 logarithm of x.\n",
      "    \n",
      "    modf(x, /)\n",
      "        Return the fractional and integer parts of x.\n",
      "        \n",
      "        Both results carry the sign of x and are floats.\n",
      "    \n",
      "    pow(x, y, /)\n",
      "        Return x**y (x to the power of y).\n",
      "    \n",
      "    radians(x, /)\n",
      "        Convert angle x from degrees to radians.\n",
      "    \n",
      "    remainder(x, y, /)\n",
      "        Difference between x and the closest integer multiple of y.\n",
      "        \n",
      "        Return x - n*y where n*y is the closest integer multiple of y.\n",
      "        In the case where x is exactly halfway between two multiples of\n",
      "        y, the nearest even value of n is used. The result is always exact.\n",
      "    \n",
      "    sin(x, /)\n",
      "        Return the sine of x (measured in radians).\n",
      "    \n",
      "    sinh(x, /)\n",
      "        Return the hyperbolic sine of x.\n",
      "    \n",
      "    sqrt(x, /)\n",
      "        Return the square root of x.\n",
      "    \n",
      "    tan(x, /)\n",
      "        Return the tangent of x (measured in radians).\n",
      "    \n",
      "    tanh(x, /)\n",
      "        Return the hyperbolic tangent of x.\n",
      "    \n",
      "    trunc(x, /)\n",
      "        Truncates the Real x to the nearest Integral toward 0.\n",
      "        \n",
      "        Uses the __trunc__ magic method.\n",
      "\n",
      "DATA\n",
      "    e = 2.718281828459045\n",
      "    inf = inf\n",
      "    nan = nan\n",
      "    pi = 3.141592653589793\n",
      "    tau = 6.283185307179586\n",
      "\n",
      "FILE\n",
      "    (built-in)\n",
      "\n",
      "\n"
     ]
    }
   ],
   "source": [
    "help('math')"
   ]
  },
  {
   "cell_type": "markdown",
   "metadata": {},
   "source": [
    "q46"
   ]
  },
  {
   "cell_type": "code",
   "execution_count": 17,
   "metadata": {},
   "outputs": [
    {
     "name": "stdout",
     "output_type": "stream",
     "text": [
      "97\n"
     ]
    }
   ],
   "source": [
    "print(ord('a'))"
   ]
  },
  {
   "cell_type": "markdown",
   "metadata": {},
   "source": [
    "q47"
   ]
  },
  {
   "cell_type": "code",
   "execution_count": 18,
   "metadata": {},
   "outputs": [],
   "source": [
    "#Write a Python program to find the available built-in modules. (built-in modules doesn’t\n",
    "#require to be PIP’ed install) ??!!!  high - level "
   ]
  },
  {
   "cell_type": "markdown",
   "metadata": {},
   "source": [
    "q48"
   ]
  },
  {
   "cell_type": "code",
   "execution_count": 19,
   "metadata": {},
   "outputs": [
    {
     "name": "stdout",
     "output_type": "stream",
     "text": [
      "56\n"
     ]
    }
   ],
   "source": [
    "import sys\n",
    "a = \" ahmad \"\n",
    "print(sys.getsizeof(a))"
   ]
  },
  {
   "cell_type": "markdown",
   "metadata": {},
   "source": [
    "q49"
   ]
  },
  {
   "cell_type": "code",
   "execution_count": 22,
   "metadata": {},
   "outputs": [
    {
     "name": "stdout",
     "output_type": "stream",
     "text": [
      "ahmahd\n"
     ]
    }
   ],
   "source": [
    "s1=\"a\"\n",
    "s2=\"h\"\n",
    "s3=\"m\"\n",
    "s4=\"a\"\n",
    "s5=\"d\"\n",
    "s6=s1+s2+s3+s4+s5\n",
    "print(s7)\n"
   ]
  },
  {
   "cell_type": "markdown",
   "metadata": {},
   "source": [
    "q50\n"
   ]
  },
  {
   "cell_type": "code",
   "execution_count": 24,
   "metadata": {},
   "outputs": [
    {
     "name": "stdout",
     "output_type": "stream",
     "text": [
      "no\n"
     ]
    }
   ],
   "source": [
    "s=\"123d\"\n",
    "\n",
    "b = True\n",
    "\n",
    "\n",
    "for a in s:\n",
    "    if(a != '0' or a !='1' or a !='2' or a !='3' or a !='4' or a !='5' or a !='6' or a !='7' or a !='8' or a !='9'  ):\n",
    "        b=False\n",
    "    \n",
    "if b==True :\n",
    "    print(\"yes\")\n",
    "else:\n",
    "    print(\"no\")\n",
    "            \n",
    "\n",
    "\n",
    "    "
   ]
  },
  {
   "cell_type": "markdown",
   "metadata": {},
   "source": [
    "q51"
   ]
  },
  {
   "cell_type": "code",
   "execution_count": 27,
   "metadata": {},
   "outputs": [
    {
     "data": {
      "text/plain": [
       "1"
      ]
     },
     "execution_count": 27,
     "metadata": {},
     "output_type": "execute_result"
    }
   ],
   "source": [
    "import os\n",
    "os.system(\"ls\")"
   ]
  },
  {
   "cell_type": "markdown",
   "metadata": {},
   "source": [
    "q52"
   ]
  },
  {
   "cell_type": "code",
   "execution_count": 28,
   "metadata": {},
   "outputs": [
    {
     "name": "stdout",
     "output_type": "stream",
     "text": [
      "Enter a number: -100\n",
      "Negative\n"
     ]
    }
   ],
   "source": [
    "num = float(input(\"Enter a number: \"))\n",
    "if num > 0:\n",
    "   print(\"Positive\")\n",
    "elif num == 0:\n",
    "   print(\"Zero\")\n",
    "else:\n",
    "   print(\"Negative\")"
   ]
  },
  {
   "cell_type": "markdown",
   "metadata": {},
   "source": [
    "q53"
   ]
  },
  {
   "cell_type": "code",
   "execution_count": 30,
   "metadata": {},
   "outputs": [
    {
     "name": "stdout",
     "output_type": "stream",
     "text": [
      "enter value123\n"
     ]
    }
   ],
   "source": [
    "n = int(input(\"enter value\"))"
   ]
  },
  {
   "cell_type": "markdown",
   "metadata": {},
   "source": [
    "q54"
   ]
  },
  {
   "cell_type": "code",
   "execution_count": 31,
   "metadata": {},
   "outputs": [
    {
     "name": "stdout",
     "output_type": "stream",
     "text": [
      "1920283486112\n",
      "1920283486112\n"
     ]
    }
   ],
   "source": [
    "str1 = \"a\"\n",
    "str2 = \"a\"\n",
    "\n",
    "print((id(str1)))\n",
    "print((id(str2)))"
   ]
  },
  {
   "cell_type": "markdown",
   "metadata": {},
   "source": [
    "q55"
   ]
  },
  {
   "cell_type": "code",
   "execution_count": 32,
   "metadata": {},
   "outputs": [
    {
     "name": "stdout",
     "output_type": "stream",
     "text": [
      "equals\n"
     ]
    }
   ],
   "source": [
    "str1 = \"a\"\n",
    "str2 = \"a\"\n",
    "\n",
    "if str1==str2:\n",
    "    print(\"equals\")\n",
    "else:\n",
    "    print(\"not equals \")\n",
    "\n",
    "     \n",
    "    "
   ]
  },
  {
   "cell_type": "markdown",
   "metadata": {},
   "source": [
    "q56"
   ]
  },
  {
   "cell_type": "code",
   "execution_count": 35,
   "metadata": {},
   "outputs": [
    {
     "name": "stdout",
     "output_type": "stream",
     "text": [
      "\n"
     ]
    }
   ],
   "source": [
    "a=100\n",
    "a=\"\"\n",
    "print(a)\n"
   ]
  },
  {
   "cell_type": "markdown",
   "metadata": {},
   "source": [
    "q57"
   ]
  },
  {
   "cell_type": "code",
   "execution_count": 41,
   "metadata": {},
   "outputs": [
    {
     "name": "stdout",
     "output_type": "stream",
     "text": [
      "False\n"
     ]
    }
   ],
   "source": [
    "\n",
    "str1 = 'AAA'\n",
    "print(any(c.islower() for c in str1))"
   ]
  },
  {
   "cell_type": "markdown",
   "metadata": {},
   "source": [
    "q58"
   ]
  },
  {
   "cell_type": "code",
   "execution_count": 42,
   "metadata": {},
   "outputs": [
    {
     "name": "stdout",
     "output_type": "stream",
     "text": [
      "0aa\n"
     ]
    }
   ],
   "source": [
    "s1 =\"aa\"\n",
    "s1= \"0\"+s1\n",
    "print(s1)"
   ]
  },
  {
   "cell_type": "markdown",
   "metadata": {},
   "source": [
    "q59"
   ]
  },
  {
   "cell_type": "code",
   "execution_count": 44,
   "metadata": {},
   "outputs": [
    {
     "name": "stdout",
     "output_type": "stream",
     "text": [
      "0.00011019999965355964\n"
     ]
    }
   ],
   "source": [
    "#not given #resources used \n",
    "from timeit import default_timer\n",
    "\n",
    "start = default_timer()\n",
    "x= \"aaaaa\"\n",
    "print(default_timer()-start)"
   ]
  },
  {
   "cell_type": "markdown",
   "metadata": {},
   "source": [
    "q60"
   ]
  },
  {
   "cell_type": "code",
   "execution_count": 45,
   "metadata": {},
   "outputs": [
    {
     "name": "stdout",
     "output_type": "stream",
     "text": [
      "0b1100\n"
     ]
    }
   ],
   "source": [
    "x=12\n",
    "print(bin(x))"
   ]
  },
  {
   "cell_type": "markdown",
   "metadata": {},
   "source": [
    "q61"
   ]
  },
  {
   "cell_type": "code",
   "execution_count": 46,
   "metadata": {},
   "outputs": [
    {
     "name": "stdout",
     "output_type": "stream",
     "text": [
      "Input the value of x & y\n",
      "1 2\n",
      "The value of x & y are:  1 2\n"
     ]
    }
   ],
   "source": [
    "#not given\n",
    "print(\"Input the value of x & y\")\n",
    "x, y = map(int, input().split())\n",
    "print(\"The value of x & y are: \",x,y)"
   ]
  },
  {
   "cell_type": "markdown",
   "metadata": {},
   "source": [
    "q62"
   ]
  },
  {
   "cell_type": "code",
   "execution_count": 48,
   "metadata": {},
   "outputs": [
    {
     "name": "stdout",
     "output_type": "stream",
     "text": [
      "enter decimal number : 4\n",
      "0x4\n"
     ]
    }
   ],
   "source": [
    "x = int(input(\"enter decimal number : \"))\n",
    "print(hex(x))\n"
   ]
  },
  {
   "cell_type": "markdown",
   "metadata": {},
   "source": [
    "q63"
   ]
  },
  {
   "cell_type": "code",
   "execution_count": 51,
   "metadata": {},
   "outputs": [
    {
     "name": "stdout",
     "output_type": "stream",
     "text": [
      "0\n"
     ]
    }
   ],
   "source": [
    "var = \"123543424\"\n",
    "sorted(var)\n",
    "for var in  range(1):\n",
    "    print(var)"
   ]
  },
  {
   "cell_type": "markdown",
   "metadata": {},
   "source": [
    "q64 "
   ]
  },
  {
   "cell_type": "code",
   "execution_count": null,
   "metadata": {},
   "outputs": [],
   "source": []
  }
 ],
 "metadata": {
  "kernelspec": {
   "display_name": "Python 3",
   "language": "python",
   "name": "python3"
  },
  "language_info": {
   "codemirror_mode": {
    "name": "ipython",
    "version": 3
   },
   "file_extension": ".py",
   "mimetype": "text/x-python",
   "name": "python",
   "nbconvert_exporter": "python",
   "pygments_lexer": "ipython3",
   "version": "3.7.3"
  }
 },
 "nbformat": 4,
 "nbformat_minor": 2
}
