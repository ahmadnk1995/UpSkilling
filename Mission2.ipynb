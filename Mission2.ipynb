{
 "cells": [
  {
   "cell_type": "markdown",
   "metadata": {},
   "source": [
    "1. Reverse a given number loops and equations and return true if it is the same as the original number."
   ]
  },
  {
   "cell_type": "code",
   "execution_count": null,
   "metadata": {},
   "outputs": [],
   "source": [
    "n= int(input(\"enter Num : \" ))\n",
    "\n",
    "rev=int(0)\n",
    "\n",
    "last = n%10\n",
    "while n!=0:\n",
    "    rev=rev*10+last\n",
    "    n//= 10\n",
    "    last = int (n%10)  \n",
    "print(rev)    \n",
    "\n",
    "    "
   ]
  },
  {
   "cell_type": "markdown",
   "metadata": {},
   "source": [
    "2. Return the number of times that the string “Emma” appears anywhere in the given string. "
   ]
  },
  {
   "cell_type": "code",
   "execution_count": null,
   "metadata": {},
   "outputs": [],
   "source": [
    "n = input(\"enter any string :\")\n",
    "print(n.count(\"Emma\"))"
   ]
  },
  {
   "cell_type": "markdown",
   "metadata": {},
   "source": [
    "3. Print the following pattern. \n",
    "1 \n",
    "2 2 \n",
    "3 3 3 \n",
    "4 4 4 4 \n",
    "5 5 5 5 5   \n"
   ]
  },
  {
   "cell_type": "code",
   "execution_count": null,
   "metadata": {},
   "outputs": [],
   "source": [
    "for i in range (1,6):\n",
    "    print(str(i)*i)"
   ]
  },
  {
   "cell_type": "markdown",
   "metadata": {},
   "source": [
    "4. Given a string of odd length greater than 7, return a string made of the middle three chars of a given String."
   ]
  },
  {
   "cell_type": "code",
   "execution_count": null,
   "metadata": {},
   "outputs": [],
   "source": [
    "s = input(\" Enter String : \" )\n",
    "\n",
    "l = int(len(s))\n",
    "\n",
    "l=l//2\n",
    "print(str (s [l-1:l+2] ))"
   ]
  },
  {
   "cell_type": "markdown",
   "metadata": {},
   "source": [
    "5. Given 2 strings, s1 and s2, create a new string by appending s2 in the middle of s1."
   ]
  },
  {
   "cell_type": "code",
   "execution_count": null,
   "metadata": {},
   "outputs": [],
   "source": [
    "s1 = input(\" Enter String : \" )\n",
    "s2 = input(\" Enter String : \" )\n",
    "\n",
    "l1 = len(s1)\n",
    "l1 = l1//2\n",
    "\n",
    "h = s1[:l1:]+s2+s1[l1:]\n",
    " \n",
    "print(h)\n"
   ]
  },
  {
   "cell_type": "markdown",
   "metadata": {},
   "source": [
    "6. Given 2 strings, s1, and s2 return a new string made of the first, middle and last char each input string."
   ]
  },
  {
   "cell_type": "code",
   "execution_count": null,
   "metadata": {},
   "outputs": [],
   "source": [
    "s1 = input(\" Enter String : \" )\n",
    "s2 = input(\" Enter String : \" )\n",
    "\n",
    "l1 = len(s1)\n",
    "l1 = l1//2\n",
    "\n",
    "l2= len(s2)\n",
    "l2= l2//2\n",
    "\n",
    "news1 = s1[0] + s1[l1] + s1[len(s1)-1]\n",
    "news2 = s2[0] + s2[l2] + s2[len(s2)-1]\n",
    "\n",
    "news3= news1+news2\n",
    "\n",
    "print(news3)\n"
   ]
  },
  {
   "cell_type": "markdown",
   "metadata": {},
   "source": [
    "7. arrange String characters such that lowercase letters should come first"
   ]
  },
  {
   "cell_type": "code",
   "execution_count": null,
   "metadata": {
    "scrolled": true
   },
   "outputs": [],
   "source": [
    "s1 = input(\" Enter String : \" )\n",
    "\n",
    "svar=\"\"\n",
    "cvar=\"\"\n",
    "for i in s1:\n",
    "    if i  == i.lower():\n",
    "       \n",
    "        svar+=i\n",
    "    else:\n",
    "        cvar+=i\n",
    "        \n",
    "all1 = svar+cvar  \n",
    "\n",
    "print(all1)      \n",
    "\n"
   ]
  },
  {
   "cell_type": "markdown",
   "metadata": {},
   "source": [
    "8. Sort a given string alphabetically. "
   ]
  },
  {
   "cell_type": "code",
   "execution_count": null,
   "metadata": {},
   "outputs": [],
   "source": [
    "a=\"zxy\"\n",
    "b = ''.join(sorted(a))\n",
    "print(b)"
   ]
  },
  {
   "cell_type": "markdown",
   "metadata": {},
   "source": [
    "##### 9. Given a string input Count all lower case, upper case, digits, and special symbols Sample Input: ”My?Name!Is956Yazeed” Sample Output: Number of upper case: 4 Number of lower case: 10 Number of digits: 3 Number of special symbols: 2 "
   ]
  },
  {
   "cell_type": "code",
   "execution_count": null,
   "metadata": {},
   "outputs": [],
   "source": [
    "x = input( \"Enter any string please :\")\n",
    "uc=0\n",
    "lc=0\n",
    "digit=0\n",
    "s=0\n",
    "for i in x:\n",
    "    if i.isalpha() and i==i.upper():\n",
    "        uc+=1\n",
    "    elif i.isalpha() and i==i.lower():\n",
    "        lc+=1\n",
    "    elif i.isnumeric():\n",
    "        digit+=1\n",
    "    else:\n",
    "        s+=1\n",
    "        \n",
    "print(uc)\n",
    "print(lc)\n",
    "print(digit)\n",
    "print(s)\n",
    "\n"
   ]
  },
  {
   "cell_type": "markdown",
   "metadata": {},
   "source": [
    "10. Write c program that takes a positive integer n as an input from the user and calculates the sum up to n."
   ]
  },
  {
   "cell_type": "code",
   "execution_count": null,
   "metadata": {},
   "outputs": [],
   "source": [
    "#rule : (n)(n + 1)/2\n",
    "n = int(input(\"Enter a positive integer: \"))\n",
    "sum = n * (n+1) / 2\n",
    "print(sum)"
   ]
  },
  {
   "cell_type": "markdown",
   "metadata": {},
   "source": [
    "11. Use the While or for statement to write a program that computes and displays the factorial of a positive integer n entered by the user."
   ]
  },
  {
   "cell_type": "code",
   "execution_count": null,
   "metadata": {},
   "outputs": [],
   "source": [
    "n= int(input(\"enter number : to calculate fact : \"))\n",
    "for  i  in range (4,0,-1):\n",
    "    n*=i\n",
    "print(n)\n",
    "\n",
    "\n"
   ]
  },
  {
   "cell_type": "markdown",
   "metadata": {},
   "source": [
    "12. Write a program that uses a while loop to display valuesfrom -5 through 5, using an increment of 0.5."
   ]
  },
  {
   "cell_type": "code",
   "execution_count": null,
   "metadata": {},
   "outputs": [],
   "source": [
    "c = -5.0\n",
    "while  c<=5:\n",
    "    print(c)\n",
    "    c+=0.5"
   ]
  },
  {
   "cell_type": "markdown",
   "metadata": {},
   "source": [
    "13. Write a c program that prints the following star pattern:\n",
    "* * * *\n",
    "* * *\n",
    "* * \n",
    "*"
   ]
  },
  {
   "cell_type": "code",
   "execution_count": null,
   "metadata": {},
   "outputs": [],
   "source": [
    "r=4\n",
    "for i in range (4):\n",
    "    print(\"*\"*r)\n",
    "    r=r-1"
   ]
  },
  {
   "cell_type": "markdown",
   "metadata": {},
   "source": [
    "14. Write a c program that prints the following star pattern:\n",
    "*\n",
    "* *\n",
    "* * *\n",
    "* * * *\n",
    "* * * * *\n",
    "* * * *\n",
    "* * *\n",
    "* *\n",
    "*"
   ]
  },
  {
   "cell_type": "code",
   "execution_count": null,
   "metadata": {},
   "outputs": [],
   "source": [
    "for i in range (6):\n",
    "    print('*'*i)\n",
    "r=4\n",
    "for i in range (4):\n",
    "    print(\"*\"*r)\n",
    "    r=r-1"
   ]
  },
  {
   "cell_type": "markdown",
   "metadata": {},
   "source": [
    "15. Write a c program that prints the following star pattern\n",
    "7\n",
    "* 6\n",
    "* * 5 \n",
    "* * * 4 \n",
    "* * * * 3\n"
   ]
  },
  {
   "cell_type": "code",
   "execution_count": null,
   "metadata": {},
   "outputs": [],
   "source": [
    "\n",
    "n=7\n",
    "for i in range (5):\n",
    "    print('*'*i,n)\n",
    "    n=n-1\n"
   ]
  },
  {
   "cell_type": "markdown",
   "metadata": {},
   "source": [
    "16. Write a c program that prints the following star pattern:\n",
    "    *\n",
    "   * *\n",
    "  * * *\n",
    " * * * *\n",
    "* * * * *"
   ]
  },
  {
   "cell_type": "code",
   "execution_count": null,
   "metadata": {},
   "outputs": [],
   "source": [
    "num  = 5\n",
    "\n",
    "for i in range (0,num):\n",
    "    for j in range (0,num-i-1):\n",
    "        print(end=\" \")\n",
    "    for j in range (0,i+1):\n",
    "        print('*',end=\" \")\n",
    "    print()"
   ]
  },
  {
   "cell_type": "markdown",
   "metadata": {},
   "source": [
    "17. Write a c program that prints the following star pattern:\n",
    "* * * * *\n",
    " * * * *\n",
    "  * * *\n",
    "   * *\n",
    "    *"
   ]
  },
  {
   "cell_type": "code",
   "execution_count": null,
   "metadata": {},
   "outputs": [],
   "source": [
    "num  = 5\n",
    "\n",
    "for i in range (num,0,-1):\n",
    "    for j in range (0,num-i):\n",
    "        print(end=\" \")\n",
    "    for j in range (0,i):\n",
    "        print('*',end=\" \")\n",
    "    print()"
   ]
  },
  {
   "cell_type": "markdown",
   "metadata": {},
   "source": [
    "18. Write a c program that prints the following star pattern:\n",
    "    * \n",
    "   * * \n",
    "  * * * \n",
    " * * * * \n",
    "* * * * * \n",
    " * * * * \n",
    "  * * * \n",
    "   * * \n",
    "    * "
   ]
  },
  {
   "cell_type": "code",
   "execution_count": null,
   "metadata": {},
   "outputs": [],
   "source": [
    "num  = 5\n",
    "\n",
    "\n",
    "for i in range (0,num):\n",
    "    for j in range (0,num-i-1):\n",
    "        print(end=\" \")\n",
    "    for j in range (0,i+1):\n",
    "        print('*',end=\" \")\n",
    "    print()\n",
    "    \n",
    "    \n",
    "    num  = 5\n",
    "    \n",
    "\n",
    "for i in range (num,0,-1):\n",
    "    for j in range (0,num-i):\n",
    "        print(end=\" \")\n",
    "    for j in range (0,i):\n",
    "        print('*',end=\" \")\n",
    "    print()"
   ]
  },
  {
   "cell_type": "markdown",
   "metadata": {},
   "source": [
    "19. Write programs that implement the following equations:\n",
    "\n",
    "1 -  series n^2 from 1 to 100\n",
    "2 -  series n^2 * (n-5) from 6 tp 100"
   ]
  },
  {
   "cell_type": "code",
   "execution_count": null,
   "metadata": {},
   "outputs": [],
   "source": [
    "sum1=0.0\n",
    "\n",
    "for i in range (1,101):\n",
    "    sum+=i**2\n",
    "print (sum1)\n",
    "\n",
    "sum2=0.0\n",
    "\n",
    "for i in range (6,101):\n",
    "    sum2+= i**2 * (i-5)\n",
    "\n",
    "print (sum2)\n",
    "    "
   ]
  },
  {
   "cell_type": "markdown",
   "metadata": {},
   "source": [
    "20. Write a Python program to print Fibonacci series up to 10th term. "
   ]
  },
  {
   "cell_type": "code",
   "execution_count": null,
   "metadata": {},
   "outputs": [],
   "source": [
    "nterms = 10\n",
    "n1 = 0\n",
    "n2 = 1\n",
    "count = 0\n",
    "while count < 10:\n",
    "       print(n1)\n",
    "       nth = n1 + n2\n",
    "       n1 = n2\n",
    "       n2 = nth\n",
    "       count += 1"
   ]
  },
  {
   "cell_type": "markdown",
   "metadata": {},
   "source": [
    "21. Write a Python program to print GCD between any two given numbers."
   ]
  },
  {
   "cell_type": "code",
   "execution_count": null,
   "metadata": {},
   "outputs": [],
   "source": [
    "print (\" enter the small number then the large number \")\n",
    "\n",
    "x = int( input(\"enter x : \" ))\n",
    "y = int( input(\"enter y : \" ))\n",
    "\n",
    "while(y):\n",
    "       x, y = y, x % y\n",
    "\n",
    "print(x)"
   ]
  },
  {
   "cell_type": "markdown",
   "metadata": {},
   "source": [
    "22. Write a Python program to print LCM between any two given numbers. "
   ]
  },
  {
   "cell_type": "code",
   "execution_count": null,
   "metadata": {},
   "outputs": [],
   "source": [
    " \n",
    "print (\" enter the small number then the large number \")\n",
    "\n",
    "x = int( input(\"enter x : \" ))\n",
    "y = int( input(\"enter y : \" ))\n",
    "\n",
    "gcd = 0\n",
    "while(y):\n",
    "       x, y = y, x % y\n",
    "gcd=x\n",
    "        \n",
    "print ( a*b/gcd)"
   ]
  },
  {
   "cell_type": "markdown",
   "metadata": {},
   "source": [
    "23. Write a Python program to find the sum of all natural odd numbers between 1 and 100. "
   ]
  },
  {
   "cell_type": "code",
   "execution_count": null,
   "metadata": {},
   "outputs": [],
   "source": [
    "for i in range(1,101):\n",
    "    if(i%2!=0):\n",
    "        print (i , end = '  ')\n",
    "        "
   ]
  },
  {
   "cell_type": "markdown",
   "metadata": {},
   "source": [
    "24. Write a Python program to find the sum of all natural prime numbers between 1 and 100. "
   ]
  },
  {
   "cell_type": "code",
   "execution_count": null,
   "metadata": {},
   "outputs": [],
   "source": [
    "\n",
    "sum=0\n",
    "for num in range(101):  \n",
    "   if num > 1:  \n",
    "       for i in range(2,num):  \n",
    "           if (num % i) == 0:  \n",
    "               break  \n",
    "       else:  \n",
    "           sum+=num\n",
    "               \n",
    "print(sum)"
   ]
  },
  {
   "cell_type": "markdown",
   "metadata": {},
   "source": [
    "25. Write a Python program to find the product of all natural even numbers between 1 and 100"
   ]
  },
  {
   "cell_type": "code",
   "execution_count": null,
   "metadata": {},
   "outputs": [],
   "source": [
    "\n",
    "sum=0\n",
    "for num in range(101):  \n",
    "   if num > 1:  \n",
    "       for i in range(2,num):  \n",
    "           if (num % i) == 0:  \n",
    "               break  \n",
    "       else:\n",
    "           if num%2==0\n",
    "           sum+= num * num\n",
    "               \n",
    "print(sum)"
   ]
  },
  {
   "cell_type": "markdown",
   "metadata": {},
   "source": [
    "26. Write a Python program that prints the multiplication tables of all numbers between 0 and 9. "
   ]
  },
  {
   "cell_type": "code",
   "execution_count": null,
   "metadata": {},
   "outputs": [],
   "source": [
    "for l in range(0,10):\n",
    "    for i in range(1,11):\n",
    "        print(l,'x',i,'=',l*i)"
   ]
  },
  {
   "cell_type": "markdown",
   "metadata": {},
   "source": [
    "27. Write a Python program to input a number from user and count number of digits in the given integer."
   ]
  },
  {
   "cell_type": "code",
   "execution_count": null,
   "metadata": {},
   "outputs": [],
   "source": [
    "n = int(input(\"enter number : \"))\n",
    "\n",
    "c=0\n",
    "\n",
    "while n!=0:\n",
    "    c=c+1\n",
    "    n=n//10\n",
    "    \n",
    "\n",
    "print(c)"
   ]
  },
  {
   "cell_type": "markdown",
   "metadata": {},
   "source": [
    "28. Write a Python program to input a number from user and find if the number is Palindrome. "
   ]
  },
  {
   "cell_type": "code",
   "execution_count": 2,
   "metadata": {},
   "outputs": [
    {
     "name": "stdout",
     "output_type": "stream",
     "text": [
      " Enter any number : 1124425\n",
      "The given number is NOT a palindrome\n"
     ]
    }
   ],
   "source": [
    "num = input(' Enter any number : ')\n",
    "val = int(num)\n",
    "if num == str(num)[::-1]:\n",
    "    print('The given number is PALINDROME')\n",
    "else:\n",
    "    print('The given number is NOT a palindrome')"
   ]
  },
  {
   "cell_type": "markdown",
   "metadata": {},
   "source": [
    "29. Write a Python program to input a number and calculate the sum of its digits. "
   ]
  },
  {
   "cell_type": "code",
   "execution_count": 3,
   "metadata": {},
   "outputs": [
    {
     "name": "stdout",
     "output_type": "stream",
     "text": [
      "enter number : 111\n",
      "3\n"
     ]
    }
   ],
   "source": [
    "n = int(input(\"enter number : \"))\n",
    "sum=0\n",
    "while n!=0:\n",
    "    sum+= n%10\n",
    "    n=n//10\n",
    "    \n",
    "print(sum)"
   ]
  },
  {
   "cell_type": "markdown",
   "metadata": {},
   "source": [
    "30. Write a Python program find the maximum number to get of 3-3 digit palindrome(do not use strings)."
   ]
  },
  {
   "cell_type": "code",
   "execution_count": 4,
   "metadata": {},
   "outputs": [],
   "source": [
    "#ambiguous"
   ]
  },
  {
   "cell_type": "markdown",
   "metadata": {},
   "source": [
    "31. Given a string, return the sum and average of the digits that appear in the string, ignoring all other characters. "
   ]
  },
  {
   "cell_type": "code",
   "execution_count": 5,
   "metadata": {},
   "outputs": [
    {
     "name": "stdout",
     "output_type": "stream",
     "text": [
      "enter number : 123\n",
      "sum :  6\n",
      "avg :  2.0\n"
     ]
    }
   ],
   "source": [
    "n = input(\"enter number : \")\n",
    "sum=0\n",
    "c =0\n",
    "for i in n:\n",
    "    if(i.isnumeric()):\n",
    "        sum+= int(i)\n",
    "        c+=1\n",
    "        \n",
    "print(\"sum : \"  , sum)\n",
    "print(\"avg : \" , sum/c)\n",
    "\n",
    "    "
   ]
  },
  {
   "cell_type": "markdown",
   "metadata": {},
   "source": [
    "32. Find all occurrences of “USA” in given string ignoring the case"
   ]
  },
  {
   "cell_type": "code",
   "execution_count": 6,
   "metadata": {},
   "outputs": [
    {
     "name": "stdout",
     "output_type": "stream",
     "text": [
      "enter string : usa usa usa usa usa UsA\n",
      " number of occurrences  6\n"
     ]
    }
   ],
   "source": [
    "s = input(\"enter string : \")\n",
    "\n",
    "temp = s.upper()\n",
    "print ( \" number of occurrences \" ,temp.count(\"USA\") )"
   ]
  },
  {
   "cell_type": "markdown",
   "metadata": {},
   "source": [
    "33. ApplytheStringcharactersbalanceTest(occurrencesofallappearedcharactersmustbeequal). "
   ]
  },
  {
   "cell_type": "code",
   "execution_count": 7,
   "metadata": {},
   "outputs": [
    {
     "name": "stdout",
     "output_type": "stream",
     "text": [
      "enter string 1 : a\n",
      "enter string 2 : b\n",
      "False\n"
     ]
    }
   ],
   "source": [
    "s1 = input(\"enter string 1 : \")\n",
    "s2 = input(\"enter string 2 : \")\n",
    "flag = True\n",
    "for char in s1:\n",
    "    if char in s2:\n",
    "        continue\n",
    "    else:\n",
    "        flag = False\n",
    "        \n",
    "print(flag)"
   ]
  },
  {
   "cell_type": "markdown",
   "metadata": {},
   "source": [
    "34. Given a string and and int n, remove n characters from string by each time until the string has no more characters."
   ]
  },
  {
   "cell_type": "code",
   "execution_count": 8,
   "metadata": {},
   "outputs": [
    {
     "name": "stdout",
     "output_type": "stream",
     "text": [
      "enter string 1 : ahmad12324\n",
      "enter num 2\n",
      "ahmad134\n"
     ]
    }
   ],
   "source": [
    "s1 = input(\"enter string 1 : \")\n",
    "n =int(input(\"enter num \"))\n",
    "\n",
    "\n",
    "for i in s1 :\n",
    "    if(i==str(n)):\n",
    "       s2 =  s1.replace(str(n),\"\")\n",
    "        \n",
    "print(s2)\n",
    "        \n",
    "    "
   ]
  },
  {
   "cell_type": "markdown",
   "metadata": {},
   "source": [
    "35. Accept string from the user and display only those characters which are present at an even index "
   ]
  },
  {
   "cell_type": "code",
   "execution_count": 9,
   "metadata": {},
   "outputs": [
    {
     "name": "stdout",
     "output_type": "stream",
     "text": [
      "enter string 1 : 123456\n",
      "2\n",
      "4\n",
      "6\n"
     ]
    }
   ],
   "source": [
    "s1 = input(\"enter string 1 : \")\n",
    "\n",
    "for i in range (1,len(s1),2):\n",
    "    print(s1[i])\n",
    "    \n",
    "\n",
    "    \n",
    "        \n",
    "\n",
    "        \n",
    "    "
   ]
  },
  {
   "cell_type": "markdown",
   "metadata": {},
   "source": [
    "36. Remove duplicate from a string and print the results."
   ]
  },
  {
   "cell_type": "code",
   "execution_count": null,
   "metadata": {},
   "outputs": [],
   "source": [
    "s1 = input(\"enter string :\")\n",
    "\n",
    "for  i in range(len(s1)) :\n",
    "    for j in range(1,len(s1)):\n",
    "        if(s1[i] is s1[j]):\n",
    "          s2 =  s1.replace(s1[j],\"\")\n",
    "print(s2)"
   ]
  },
  {
   "cell_type": "markdown",
   "metadata": {},
   "source": [
    "37. Remove duplicate from a string and print how much time each character appeared. "
   ]
  },
  {
   "cell_type": "code",
   "execution_count": null,
   "metadata": {},
   "outputs": [],
   "source": [
    "from collections import OrderedDict\n",
    "str1 = \" ahmad\"\n",
    "print (\"\".join(OrderedDict.fromkeys(str1)) )"
   ]
  },
  {
   "cell_type": "markdown",
   "metadata": {},
   "source": [
    "38. Find all unique character, numbers, ...etc. in a string and print them."
   ]
  },
  {
   "cell_type": "code",
   "execution_count": null,
   "metadata": {},
   "outputs": [],
   "source": [
    "x = input( \"Enter any string please :\")\n",
    "for i in x:\n",
    "    if i.isalpha()==False:\n",
    "        print(i , end = \" \")\n",
    "   \n"
   ]
  },
  {
   "cell_type": "markdown",
   "metadata": {},
   "source": [
    "39. Write a Python program to accept a filename from the user as a string and print the extension of that file. Sample filename : abc.java Output : java"
   ]
  },
  {
   "cell_type": "code",
   "execution_count": null,
   "metadata": {},
   "outputs": [],
   "source": [
    "f = input(\" enter  the Filename: \")\n",
    "f_extns = f.split(\".\")\n",
    "print (\"The extension of the file is : \" + f_extns[-1])"
   ]
  },
  {
   "cell_type": "markdown",
   "metadata": {},
   "source": [
    "40. Write a Python program to get a new string from a given string where ”Is” has been added to the front. If the given string already begins with ”Is” then return the string unchanged. "
   ]
  },
  {
   "cell_type": "code",
   "execution_count": null,
   "metadata": {},
   "outputs": [],
   "source": [
    "s = input(\" enter  s: \")\n",
    "if len(s) >= 2 and s[:2] == \"Is\":\n",
    "    print(s)\n",
    "else:\n",
    "    print(\"Is\" + s)"
   ]
  },
  {
   "cell_type": "markdown",
   "metadata": {},
   "source": [
    "41. Write a Python program to get a string which is n (non-negative integer) copies of a given string"
   ]
  },
  {
   "cell_type": "code",
   "execution_count": null,
   "metadata": {},
   "outputs": [],
   "source": [
    "n = int(input (\"enter n :\"))\n",
    "s = input(\"enter strin \")\n",
    "\n",
    "print (s*n)"
   ]
  },
  {
   "cell_type": "markdown",
   "metadata": {},
   "source": [
    "42. Write a Python program to get the n (non-negative integer) copies of the first 2 characters of a given string. Return the n copies of the whole string if the length is less than 2."
   ]
  },
  {
   "cell_type": "code",
   "execution_count": null,
   "metadata": {},
   "outputs": [],
   "source": [
    "n = int(input (\"enter n :\"))\n",
    "str = input(\"enter strin \")\n",
    "\n",
    "flen = 2\n",
    "if flen > len(str):\n",
    "    flen = len(str)\n",
    "substr = str[:flen]\n",
    "  \n",
    "result = \"\"\n",
    "for i in range(n):\n",
    "    result = result + substr\n",
    "    \n",
    "print(result)"
   ]
  },
  {
   "cell_type": "markdown",
   "metadata": {},
   "source": [
    "43. WriteaPythonprogramtoprintoutthesetofallthecharactersfromSt1whicharenotpresent in St2 "
   ]
  },
  {
   "cell_type": "code",
   "execution_count": null,
   "metadata": {},
   "outputs": [],
   "source": [
    "\n",
    "str1 = input(\"enter str1 :\")\n",
    "str2 = input(\"enter str2 :\")\n",
    "s3=\"\"\n",
    "for  i in str1:\n",
    "    for j in str2:\n",
    "        if(i!=j):\n",
    "          s3+=i\n",
    "            \n",
    "print(s3)      \n",
    "\n"
   ]
  },
  {
   "cell_type": "markdown",
   "metadata": {},
   "source": [
    "44. Write a Python program to display your given details like name, age, address in three different lines."
   ]
  },
  {
   "cell_type": "code",
   "execution_count": null,
   "metadata": {},
   "outputs": [],
   "source": [
    "name = \"ahmad\"\n",
    "age = 24\n",
    "address = \" irbid - jordan \"\n",
    "print(\"Name: {}\\nAge: {}\\nAddress: {}\".format(name, age, address))"
   ]
  },
  {
   "cell_type": "markdown",
   "metadata": {},
   "source": [
    "45. Write a Python program to sort three integers without using conditional statements, loops or strings."
   ]
  },
  {
   "cell_type": "code",
   "execution_count": null,
   "metadata": {},
   "outputs": [],
   "source": [
    "x = int(input(\"Input first number: \"))\n",
    "y = int(input(\"Input second number: \"))\n",
    "z = int(input(\"Input third number: \"))\n",
    "\n",
    "a1 = min(x, y, z)\n",
    "a3 = max(x, y, z)\n",
    "a2 = (x + y + z) - a1 - a3\n",
    "print(\"Numbers in sorted order: \", a1, a2, a3)"
   ]
  },
  {
   "cell_type": "code",
   "execution_count": null,
   "metadata": {},
   "outputs": [],
   "source": [
    "46. WriteaPythonprogramtogetthesummationoftheASCIIvaluesofaaacharactersinastring. "
   ]
  },
  {
   "cell_type": "code",
   "execution_count": null,
   "metadata": {},
   "outputs": [],
   "source": [
    "str1 = input(\"enter str1 :\")\n",
    "\n",
    "sum = 0\n",
    " \n",
    "for i in str1:\n",
    "     sum+=ord(i)\n",
    "\n",
    "print(sum)"
   ]
  },
  {
   "cell_type": "code",
   "execution_count": null,
   "metadata": {},
   "outputs": [],
   "source": [
    "47. Write a Python program to convert a byte string to a list of integers. "
   ]
  },
  {
   "cell_type": "code",
   "execution_count": null,
   "metadata": {},
   "outputs": [],
   "source": [
    "\n",
    "\n",
    "x = b\"string\"\n",
    "print()\n",
    "print(list(x))\n",
    "print()"
   ]
  },
  {
   "cell_type": "code",
   "execution_count": null,
   "metadata": {},
   "outputs": [],
   "source": [
    "48. Write a Python program to get the identity of an object. "
   ]
  },
  {
   "cell_type": "code",
   "execution_count": null,
   "metadata": {},
   "outputs": [],
   "source": [
    "str1  = \"aaa\"\n",
    "obj1_address = id(str1)\n",
    "print(obj1_address)\n"
   ]
  },
  {
   "cell_type": "code",
   "execution_count": null,
   "metadata": {},
   "outputs": [],
   "source": [
    "49. Write a Python program to get the system time."
   ]
  },
  {
   "cell_type": "code",
   "execution_count": null,
   "metadata": {},
   "outputs": [],
   "source": [
    "import datetime\n",
    "time = datetime.datetime.now()\n",
    "print (time)"
   ]
  },
  {
   "cell_type": "code",
   "execution_count": null,
   "metadata": {},
   "outputs": [],
   "source": [
    "50. Write a Python program to find the ASCII string of a given number. "
   ]
  },
  {
   "cell_type": "code",
   "execution_count": null,
   "metadata": {},
   "outputs": [],
   "source": [
    "n = int(input(\"enter n :\"))\n",
    "\n",
    "print(chr(n))"
   ]
  },
  {
   "cell_type": "markdown",
   "metadata": {},
   "source": [
    "51. Write a Python program to prove that two string variables of same value point same memory location. "
   ]
  },
  {
   "cell_type": "code",
   "execution_count": null,
   "metadata": {},
   "outputs": [],
   "source": [
    "n=\"a\"\n",
    "x=\"a\"\n",
    "\n",
    "if x is n :\n",
    "    print(\"true\")"
   ]
  },
  {
   "cell_type": "markdown",
   "metadata": {},
   "source": [
    "52. Write a Python function that takes a positive integer and returns the sum of the cube of all the positive integers smaller than the specified number."
   ]
  },
  {
   "cell_type": "code",
   "execution_count": null,
   "metadata": {},
   "outputs": [],
   "source": [
    "n = int(input(\"enter n :\"))\n",
    "n -= 1\n",
    "total = 0\n",
    "while n > 0:\n",
    "    total += n * n * n\n",
    "    n -= 1\n",
    "print (total)"
   ]
  },
  {
   "cell_type": "markdown",
   "metadata": {},
   "source": [
    "53. Write a Python program to add two positive integers without using the ’+’ operator. Note: Use bit wise operations to add two numbers "
   ]
  },
  {
   "cell_type": "code",
   "execution_count": null,
   "metadata": {},
   "outputs": [],
   "source": [
    "a = int(input(\"enter a :\"))\n",
    "b = int(input(\"enter b :\"))\n",
    "while b != 0:\n",
    "        data = a & b\n",
    "        a = a ^ b\n",
    "        b = data << 1\n",
    "print (a)"
   ]
  },
  {
   "cell_type": "markdown",
   "metadata": {},
   "source": [
    "54. Write a Python program to get all strobogrammatic numbers that are of length n. A strobogrammatic number is a number whose numeral is rotationally symmetric, so that it appears the same when rotated 180 degrees. In other words, the numeral looks the same rightside up and upside down (e.g., 69, 96, 1001). For example, Given n = 2, return [”11”, ”69”, ”88”, ”96”]. Given n = 3, return [’818’, ’111’, ’916’, ’619’, ’808’, ’101’, ’906’, ’609’, ’888’, ’181’, ’986’, ’689’]"
   ]
  },
  {
   "cell_type": "code",
   "execution_count": null,
   "metadata": {},
   "outputs": [],
   "source": [
    "# using google .. # and im still not understanding what is this ..\n",
    "#https://github.com/keon/algorithms/blob/master/math/generate_strobogrammtic.py\n",
    "def gen_strobogrammatic(n):\n",
    "    \"\"\"\n",
    "    :type n: int\n",
    "    :rtype: List[str]\n",
    "    \"\"\"\n",
    "    result = helper(n, n)\n",
    "    return result\n",
    "\n",
    "\n",
    "def helper(n, length):\n",
    "    if n == 0:\n",
    "        return [\"\"]\n",
    "    if n == 1:\n",
    "        return [\"1\", \"0\", \"8\"]\n",
    "    middles = helper(n-2, length)\n",
    "    result = []\n",
    "    for middle in middles:\n",
    "        if n != length:\n",
    "            result.append(\"0\" + middle + \"0\")\n",
    "        result.append(\"8\" + middle + \"8\")\n",
    "        result.append(\"1\" + middle + \"1\")\n",
    "        result.append(\"9\" + middle + \"6\")\n",
    "        result.append(\"6\" + middle + \"9\")\n",
    "    return result\n",
    "\n",
    "print(\"n = 2: \\n\",gen_strobogrammatic(2))\n",
    "print(\"n = 3: \\n\",gen_strobogrammatic(3))\n",
    "print(\"n = 4: \\n\",gen_strobogrammatic(4))\n"
   ]
  },
  {
   "cell_type": "markdown",
   "metadata": {},
   "source": [
    "55. Write a Python program to find the median among n given numbers. "
   ]
  },
  {
   "cell_type": "code",
   "execution_count": null,
   "metadata": {},
   "outputs": [],
   "source": [
    "# n nuumbers ? in list or in  var or what please complain .."
   ]
  },
  {
   "cell_type": "markdown",
   "metadata": {},
   "source": [
    "56. Write a Python program to find all the divisors of a given number. "
   ]
  },
  {
   "cell_type": "code",
   "execution_count": null,
   "metadata": {},
   "outputs": [],
   "source": [
    "n=int(input(\"Enter an number:\"))\n",
    "print(\"DIVISORS :\")\n",
    "for i in range(1,n+1):\n",
    "    if(n%i==0):\n",
    "        print(i)"
   ]
  },
  {
   "cell_type": "markdown",
   "metadata": {},
   "source": [
    "57. Write a Python program to find the number of divisors of a given integer is even or odd."
   ]
  },
  {
   "cell_type": "code",
   "execution_count": null,
   "metadata": {},
   "outputs": [],
   "source": [
    "n=int(input(\"Enter an number:\"))\n",
    "for i in range(n):\n",
    "    x = len([i for i in range(1,n+1) if not n % i])\n",
    "print( x)"
   ]
  },
  {
   "cell_type": "markdown",
   "metadata": {},
   "source": [
    "58. Write a Python program to create a sequence where the first four members of the sequence are equal to one, and each successive term of the sequence is equal to the sum of the four previous ones. Find the Nth member of the sequence.\n"
   ]
  },
  {
   "cell_type": "code",
   "execution_count": null,
   "metadata": {},
   "outputs": [],
   "source": [
    "# i need more complain"
   ]
  },
  {
   "cell_type": "markdown",
   "metadata": {},
   "source": [
    "59. WriteaPythonprogramthatacceptapositivenumberandsubtractfromthisnumberthesum of its digits and so on. Continues this operation until the number is positive "
   ]
  },
  {
   "cell_type": "code",
   "execution_count": null,
   "metadata": {},
   "outputs": [],
   "source": [
    "n = int(input(\"enter pos n :\"))\n",
    "n1=n\n",
    "sum = 0\n",
    "while n > 0:\n",
    "    sum+= n%10\n",
    "    n=n/10\n",
    "    \n",
    "while n1>0:\n",
    "    n1-=sum\n",
    "    \n",
    "print(n1)"
   ]
  },
  {
   "cell_type": "markdown",
   "metadata": {},
   "source": [
    "60. Write a Python program to find the digits which are absent in a given mobile number. "
   ]
  },
  {
   "cell_type": "code",
   "execution_count": null,
   "metadata": {},
   "outputs": [],
   "source": [
    "n = input(\"numbers  :\")\n",
    "all_nums = set([0,1,2,3,4,5,6,7,8,9])\n",
    "n = set([int(i) for i in n])\n",
    "n = n.symmetric_difference(all_nums)\n",
    "n = sorted(n)\n",
    "print(n)"
   ]
  },
  {
   "cell_type": "markdown",
   "metadata": {},
   "source": [
    "61. Write a Python program to check whether three given lengths (integers) of three sides form a right triangle. Print ”Yes” if the given sides form a right triangle otherwise print ”No”. Input: Integers separated by a single space. 1 = length of the side = 1,000 Input three integers(sides of a triangle) 8 6 7 N"
   ]
  },
  {
   "cell_type": "code",
   "execution_count": null,
   "metadata": {},
   "outputs": [],
   "source": [
    "a=8\n",
    "b=6\n",
    "c=7\n",
    "a*=a\n",
    "b*=b\n",
    "c*=c\n",
    "\n",
    "if(a+b==c or a+c ==b or b+c ==a):\n",
    "    print(\"yes\")\n",
    "else:\n",
    "    print(\"no\")"
   ]
  },
  {
   "cell_type": "markdown",
   "metadata": {},
   "source": [
    "62. Writeapythonprogramtofindheightsofthetopthreebuildingindescendingorderfromeight given buildings. Input: 0 = height of building (integer) = 10,000 Input the heights of eight buildings: 25 35 15 16 30 45 37 39 Heights of the top three buildings: 45 39 37 "
   ]
  },
  {
   "cell_type": "code",
   "execution_count": null,
   "metadata": {},
   "outputs": [],
   "source": [
    "#learnd lists from google ^^ coz we did'nt learnd it till now\n",
    "print(\"Input the heights of eight buildings:\")\n",
    "l = [int(input()) for i in range(8)]\n",
    "print(\"Heights of the top three buildings:\")\n",
    "l = sorted(l)\n",
    "print(*l[:4:-1], sep='\\n')"
   ]
  },
  {
   "cell_type": "code",
   "execution_count": null,
   "metadata": {},
   "outputs": [],
   "source": [
    "#The End  - AhMad Kofahi"
   ]
  }
 ],
 "metadata": {
  "kernelspec": {
   "display_name": "Python 3",
   "language": "python",
   "name": "python3"
  },
  "language_info": {
   "codemirror_mode": {
    "name": "ipython",
    "version": 3
   },
   "file_extension": ".py",
   "mimetype": "text/x-python",
   "name": "python",
   "nbconvert_exporter": "python",
   "pygments_lexer": "ipython3",
   "version": "3.7.3"
  }
 },
 "nbformat": 4,
 "nbformat_minor": 2
}
