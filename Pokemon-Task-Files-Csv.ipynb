{
 "cells": [
  {
   "cell_type": "markdown",
   "metadata": {},
   "source": [
    "#                               TASK2  Pokemon data set                                                        #"
   ]
  },
  {
   "cell_type": "markdown",
   "metadata": {},
   "source": [
    "###  Q1) count the number of legendary Pokemons and print all the details about them. "
   ]
  },
  {
   "cell_type": "code",
   "execution_count": 1,
   "metadata": {},
   "outputs": [
    {
     "name": "stdout",
     "output_type": "stream",
     "text": [
      "<_io.TextIOWrapper name='C:\\\\Users\\\\user\\\\Desktop\\\\FilesTask\\\\Pokemon.csv' mode='r' encoding='cp1252'>\n",
      "data length :  151\n",
      "['#', 'Name', 'Type 1', 'Type 2', 'Total', 'HP', 'Attack', 'Defense', 'Sp. Atk', 'Sp. Def', 'Speed', 'Stage', 'Legendary']\n",
      "[144, 'Articuno', 'Ice', 'Flying', 580, 90, 85, 100, 95, 125, 85, 1, 'TRUE']\n",
      "[145, 'Zapdos', 'Electric', 'Flying', 580, 90, 90, 85, 125, 90, 100, 1, 'TRUE']\n",
      "[146, 'Moltres', 'Fire', 'Flying', 580, 90, 100, 90, 125, 85, 90, 1, 'TRUE']\n",
      "[150, 'Mewtwo', 'Psychic', '', 680, 106, 110, 90, 154, 90, 130, 1, 'TRUE']\n",
      "number of legendary pokimons is : 4\n"
     ]
    }
   ],
   "source": [
    "#_____________________________________________import_____________________________________________#\n",
    "import csv\n",
    "path=\"C:\\\\Users\\\\user\\\\Desktop\\\\FilesTask\\\\Pokemon.csv\"\n",
    "file = open(path)\n",
    "print(file) # will print the discriptions aboute the file \n",
    "reader=csv.reader(file)\n",
    "header = next(reader)\n",
    "#_________________________________________linking__________________________________________________#\n",
    "data = []\n",
    "for row in reader:\n",
    "    number = int(row[0])\n",
    "    name =  (row[1])\n",
    "    type1 = (row[2])\n",
    "    type2 = (row[3])\n",
    "    total = int(row[4])\n",
    "    hp = int(row[5])\n",
    "    attack = int(row[6])\n",
    "    defense = int(row[7])\n",
    "    spatk = int(row[8])\n",
    "    spdef = int(row[9])\n",
    "    speed = int(row[10])\n",
    "    stage = int(row[11])\n",
    "    leg = (row[12])\n",
    "    data.append([number,name,type1,type2,total,hp,attack,defense,spatk,spdef,speed,stage,leg])\n",
    "lin=len((data))\n",
    "print(\"data length : \",lin)\n",
    "#_________________________________________Q1__________________________________________________#\n",
    "c=0\n",
    "print(header)\n",
    "for i in range(lin):\n",
    "    if data[i][12]==\"TRUE\":\n",
    "        print(data[i])\n",
    "        c+=1\n",
    "        \n",
    "print(\"number of legendary pokimons is :\",c)\n",
    "        "
   ]
  },
  {
   "cell_type": "markdown",
   "metadata": {},
   "source": [
    "### q2) Count all the unique Pokemon types in the data set. "
   ]
  },
  {
   "cell_type": "code",
   "execution_count": 50,
   "metadata": {},
   "outputs": [
    {
     "name": "stdout",
     "output_type": "stream",
     "text": [
      "pokymon unique types :  {'Flying', 'Normal', 'Fighting', 'Psychic', 'Grass', 'Poison', 'Fairy', 'Ghost', 'Bug', 'Dragon', 'Ground', 'Steel', 'Fire', 'Ice', 'Water', 'Rock', 'Electric'}\n",
      "number of pokymon unique types :  17\n"
     ]
    }
   ],
   "source": [
    "set1=set()\n",
    "for i in range(lin):\n",
    "    set1.add(data[i][2])\n",
    "    set1.add(data[i][3])\n",
    "set1.remove(\"\")\n",
    "print(\"pokymon unique types : \",set1)\n",
    "print(\"number of pokymon unique types : \",len(set1))"
   ]
  },
  {
   "cell_type": "markdown",
   "metadata": {},
   "source": [
    "### q3) Count the number Pokemons who got a single types. "
   ]
  },
  {
   "cell_type": "code",
   "execution_count": 49,
   "metadata": {},
   "outputs": [
    {
     "name": "stdout",
     "output_type": "stream",
     "text": [
      "number of pokymons who get a single type :  84\n"
     ]
    }
   ],
   "source": [
    "c=0\n",
    "\n",
    "for i in range(lin):\n",
    "    if data[i][2]!=\"\"and data[i][3]==\"\":\n",
    "        c+=1\n",
    "    if data[i][3]!=\"\"and data[i][2]==\"\":\n",
    "        c+=1\n",
    "print(\"number of pokymons who get a single type : \",c)"
   ]
  },
  {
   "cell_type": "markdown",
   "metadata": {},
   "source": [
    "### q4) Count the number Pokemons who got two types."
   ]
  },
  {
   "cell_type": "code",
   "execution_count": 48,
   "metadata": {},
   "outputs": [
    {
     "name": "stdout",
     "output_type": "stream",
     "text": [
      "number of pokymons who get two types  :  67\n"
     ]
    }
   ],
   "source": [
    "c=0\n",
    "\n",
    "for i in range(lin):\n",
    "    if data[i][2]!=\"\"and data[i][3]!=\"\":\n",
    "        c+=1\n",
    "print(\"number of pokymons who get two types  : \",c)"
   ]
  },
  {
   "cell_type": "markdown",
   "metadata": {},
   "source": [
    "### q5) Print the most frequent Pokemon type in the data set. "
   ]
  },
  {
   "cell_type": "code",
   "execution_count": 47,
   "metadata": {},
   "outputs": [
    {
     "name": "stdout",
     "output_type": "stream",
     "text": [
      "Most pokymon type is :  Poison \n",
      "That has appeard :  33  Times \n"
     ]
    }
   ],
   "source": [
    "max1= 0\n",
    "t=\"\"\n",
    "l1=list()\n",
    "for i in range(lin):\n",
    "    l1.append(data[i][2])\n",
    "    l1.append(data[i][3])\n",
    "    \n",
    "for i in l1:\n",
    "    if i==\"\":\n",
    "        l1.remove(i)\n",
    "\n",
    "for i in l1:\n",
    "    if l1.count(i) > max1:\n",
    "        max1=l1.count(i)\n",
    "        t=i\n",
    "        \n",
    "print(\"Most pokymon type is : \" , t,\"\\nThat has appeard : \",max1 ,\" Times \" )"
   ]
  },
  {
   "cell_type": "markdown",
   "metadata": {},
   "source": [
    "### Q6) Find the average HP of all flying Pokemons"
   ]
  },
  {
   "cell_type": "code",
   "execution_count": null,
   "metadata": {},
   "outputs": [],
   "source": [
    "c=0\n",
    "s=0\n",
    "for i in range(lin):\n",
    "    if data[i][2]==\"Flying\" or data[i][3]==\"Flying\":\n",
    "        s+=data[i][5]\n",
    "        c+=1\n",
    "print(\"sum of hp is : \", s)\n",
    "print(\"number  flying pokimons is  : \", c)        \n",
    "print(\"avarage of hp is : \", s//c)"
   ]
  },
  {
   "cell_type": "markdown",
   "metadata": {},
   "source": [
    "### Q7) Find the Variance and Standard Deviation of the Total column in the data set. "
   ]
  },
  {
   "cell_type": "code",
   "execution_count": 46,
   "metadata": {},
   "outputs": [
    {
     "name": "stdout",
     "output_type": "stream",
     "text": [
      "61469\n",
      "151\n",
      "mean: 407\n",
      "sumx: 1492326\n",
      "variance: 9881.953642384105\n",
      "standard div : 4940.976821192053\n"
     ]
    }
   ],
   "source": [
    "#-----------------------------------------------mean------------------------------------------------------------#  \n",
    "c=0\n",
    "s=0\n",
    "for i in range(lin):\n",
    "    s+=data[i][4]\n",
    "    c+=1  \n",
    "mean = s//c\n",
    "    \n",
    "print(s)\n",
    "print(c)\n",
    "print(\"mean:\",mean)\n",
    "#-----------------------------------------------sum x - mean ^2 --------------------------------------------------#    \n",
    "sumx=0\n",
    "for i in range(lin):\n",
    "    sumx+=(data[i][4] - mean)**2\n",
    "print(\"sumx:\",sumx)\n",
    "#-----------------------------------------------calculate variance -----------------------------------------------#  \n",
    "variance = sumx/lin-1\n",
    "#-----------------------------------------------calculate stdiv --------------------------------------------------#  \n",
    "stan = variance*0.5\n",
    "print(\"variance:\", variance )\n",
    "print(\"standard div :\", stan )"
   ]
  },
  {
   "cell_type": "markdown",
   "metadata": {},
   "source": [
    "### Q8) Find the first 5 Pokemons with the biggest attack power. Attack power is calculated as the (attackspeed*attackpower)*1 if the Pokemon has a single type, and * 2 if the Pokemon has a two types. Also if the Pokemon is legendary we add 75 to the total power calculated."
   ]
  },
  {
   "cell_type": "code",
   "execution_count": 45,
   "metadata": {},
   "outputs": [
    {
     "name": "stdout",
     "output_type": "stream",
     "text": [
      "5\n",
      "[21000, 22575, 23750, 25075, 26800]\n",
      " the first 5 Pokemons with the biggest attack power : \n",
      "[71, 'Victreebel', 'Grass', 'Poison', 490, 80, 105, 65, 100, 70, 70, 3, 'FALSE', 21000, 9100]\n",
      "[103, 'Exeggutor', 'Grass', 'Psychic', 520, 95, 95, 85, 125, 65, 55, 2, 'FALSE', 23750, 11050]\n",
      "[145, 'Zapdos', 'Electric', 'Flying', 580, 90, 90, 85, 125, 90, 100, 1, 'TRUE', 22575, 22575]\n",
      "[146, 'Moltres', 'Fire', 'Flying', 580, 90, 100, 90, 125, 85, 90, 1, 'TRUE', 25075, 25075]\n",
      "[149, 'Dragonite', 'Dragon', 'Flying', 600, 91, 134, 95, 100, 100, 80, 3, 'FALSE', 26800, 19000]\n"
     ]
    }
   ],
   "source": [
    "\n",
    "ATP=[]\n",
    "\n",
    "for i in range(lin):\n",
    "    g=0\n",
    "    if data[i][2]!=\"\" and  data[i][3]==\"\" or data[i][3]!=\"\" and data[i][2]==\"\":\n",
    "        g=(data[i][6]*data[i][8])\n",
    "        if data[i][12]==\"TRUE\":\n",
    "            g+=75\n",
    "        ATP.append(g)\n",
    "        \n",
    "    elif data[i][2]!=\"\" and  data[i][3]!=\"\":\n",
    "        g=(data[i][6]*data[i][8])*2\n",
    "        if data[i][12]==\"TRUE\":\n",
    "            g+=75\n",
    "        ATP.append(g)\n",
    "        \n",
    "ATP.sort()\n",
    "ATP = ATP[len(ATP)-5:len(ATP)]\n",
    "print(len(ATP))\n",
    "\n",
    "\n",
    "print(ATP)\n",
    " \n",
    "print(\" the first 5 Pokemons with the biggest attack power : \")\n",
    "for i in range(lin):   \n",
    "    if data[i][2]!=\"\" and  data[i][3]==\"\" and  data[i][12]==\"TRUE\" or data[i][3]!=\"\" and data[i][2]==\"\" and  data[i][12]==\"TRUE\":\n",
    "           if(data[i][6]*data[i][8])+75 in ATP:\n",
    "                print(data[i])\n",
    "    elif data[i][2]!=\"\" and  data[i][3]==\"\" and  data[i][12]==\"TRUE\" or data[i][3]!=\"\" and data[i][2]==\"\" and  data[i][12]==\"FALSE\":\n",
    "                 if(data[i][6]*data[i][8]) in ATP:\n",
    "                     print(data[i])\n",
    "                     \n",
    "    elif data[i][2]!=\"\" and  data[i][3]!=\"\" and  data[i][12]==\"TRUE\":\n",
    "        if((data[i][6]*data[i][8])*2)+75 in ATP:\n",
    "            print(data[i])\n",
    "    elif data[i][2]!=\"\" and  data[i][3]!=\"\" and  data[i][12]==\"FALSE\":\n",
    "        if((data[i][6]*data[i][8])*2) in ATP:\n",
    "            print(data[i])\n",
    "    "
   ]
  },
  {
   "cell_type": "markdown",
   "metadata": {},
   "source": [
    "### Q9) Find the first 5 Pokemons with the Balance in their attack power and defense power. Total defense power is calculated the same as the attack but using the defense columns instead. We say a pokemon is balanced if the difference between the total attack and different powers are at most 25. "
   ]
  },
  {
   "cell_type": "code",
   "execution_count": 53,
   "metadata": {},
   "outputs": [
    {
     "name": "stdout",
     "output_type": "stream",
     "text": [
      "<_io.TextIOWrapper name='C:\\\\Users\\\\user\\\\Desktop\\\\FilesTask\\\\Pokemon.csv' mode='r' encoding='cp1252'>\n",
      "data length :  151\n",
      "first 5 pokimons with <25 diff between atack - defence are : \n",
      "[1, 'Bulbasaur', 'Grass', 'Poison', 318, 45, 49, 49, 65, 65, 45, 1, 'FALSE', 6370, 6370]\n",
      "[2, 'Ivysaur', 'Grass', 'Poison', 405, 60, 62, 63, 80, 80, 60, 2, 'FALSE', 9920, 10080]\n",
      "[3, 'Venusaur', 'Grass', 'Poison', 525, 80, 82, 83, 100, 100, 80, 3, 'FALSE', 16400, 16600]\n",
      "[7, 'Squirtle', 'Water', '', 314, 44, 48, 65, 50, 64, 43, 1, 'FALSE', 2475, 4235]\n",
      "[8, 'Wartortle', 'Water', '', 405, 59, 63, 80, 65, 80, 58, 2, 'FALSE', 4170, 6475]\n"
     ]
    }
   ],
   "source": [
    "#_____________________________________________import_____________________________________________#\n",
    "import csv\n",
    "path=\"C:\\\\Users\\\\user\\\\Desktop\\\\FilesTask\\\\Pokemon.csv\"\n",
    "file = open(path)\n",
    "print(file) # will print the discriptions aboute the file \n",
    "reader=csv.reader(file)\n",
    "header = next(reader)\n",
    "#_________________________________________linking__________________________________________________#\n",
    "data = []\n",
    "for row in reader:\n",
    "    number = int(row[0])\n",
    "    name =  (row[1])\n",
    "    type1 = (row[2])\n",
    "    type2 = (row[3])\n",
    "    total = int(row[4])\n",
    "    hp = int(row[5])\n",
    "    attack = int(row[6])\n",
    "    defense = int(row[7])\n",
    "    spatk = int(row[8])\n",
    "    spdef = int(row[9])\n",
    "    speed = int(row[10])\n",
    "    stage = int(row[11])\n",
    "    leg = (row[12])\n",
    "    data.append([number,name,type1,type2,total,hp,attack,defense,spatk,spdef,speed,stage,leg])\n",
    "lin=len((data))\n",
    "print(\"data length : \",lin)\n",
    "#_________________________________________3__________________________________________________#\n",
    "\n",
    "\n",
    "\n",
    "data2=data[:]\n",
    "\n",
    "\n",
    "for i in range(lin):\n",
    "    if  data2[i][2]!=\"\" and  data[i][3]==\"\" or data[i][3]!=\"\" and data[i][2]==\"\" and data[i][12]==\"TRUE\":\n",
    "        data2[i].append(data[i][6]*data[i][8]+75)\n",
    "        data2[i].append(data[i][7]*data[i][9]+75)\n",
    "    elif data[i][2]!=\"\" and  data[i][3]==\"\" and  data[i][12]==\"TRUE\" or data[i][3]!=\"\" and data[i][2]==\"\" and  data[i][12]==\"FALSE\":\n",
    "        data2[i].append(data[i][6]*data[i][8]+75)\n",
    "        data2[i].append(data[i][7]*data[i][9]+75)\n",
    "    elif data[i][2]!=\"\" and  data[i][3]!=\"\" and  data[i][12]==\"TRUE\":\n",
    "          data2[i].append(((data[i][6]*data[i][8])*2)+75)\n",
    "          data2[i].append(((data[i][6]*data[i][8])*2)+75)  \n",
    "    elif data[i][2]!=\"\" and  data[i][3]!=\"\" and  data[i][12]==\"FALSE\":\n",
    "        data2[i].append((data[i][6]*data[i][8])*2)\n",
    "        data2[i].append((data[i][7]*data[i][9])*2)\n",
    "        \n",
    "\n",
    "\n",
    "print(\"first 5 pokimons with <25 diff between atack - defence are : \")\n",
    "for i in range(lin):\n",
    "    if data2[i][13] - data2[i][14] <25:\n",
    "        print(data2[i])\n",
    "        c+=1\n",
    "    if c==5:\n",
    "        break     "
   ]
  },
  {
   "cell_type": "markdown",
   "metadata": {},
   "source": [
    "###  Q10) Find a team containing the minimum number of Pokemons required to defeat a Pokemon team consist only from the legendary Pokemons. For the attackers you calculate the total attack power of the Pokemons team using the equation:\n",
    "Attackers total att power / Defenders total HP = result1 For the defenders you calculate the total attack power of the Pokemons team using the equation:\n",
    "Defenders total deff power / Attackers total HP = result2 The final result calculated by subtract the att result from the deff result: result2 - result1 = Final Note: Consider the legendary Pokemons team as the defenders always "
   ]
  },
  {
   "cell_type": "code",
   "execution_count": 61,
   "metadata": {},
   "outputs": [
    {
     "name": "stdout",
     "output_type": "stream",
     "text": [
      "<_io.TextIOWrapper name='C:\\\\Users\\\\user\\\\Desktop\\\\FilesTask\\\\Pokemon.csv' mode='r' encoding='cp1252'>\n",
      "data length :  151\n"
     ]
    }
   ],
   "source": [
    "#_____________________________________________import_____________________________________________#\n",
    "import csv\n",
    "path=\"C:\\\\Users\\\\user\\\\Desktop\\\\FilesTask\\\\Pokemon.csv\"\n",
    "file = open(path)\n",
    "print(file) # will print the discriptions aboute the file \n",
    "reader=csv.reader(file)\n",
    "header = next(reader)\n",
    "#_________________________________________linking__________________________________________________#\n",
    "data = []\n",
    "for row in reader:\n",
    "    number = int(row[0])\n",
    "    name =  (row[1])\n",
    "    type1 = (row[2])\n",
    "    type2 = (row[3])\n",
    "    total = int(row[4])\n",
    "    hp = int(row[5])\n",
    "    attack = int(row[6])\n",
    "    defense = int(row[7])\n",
    "    spatk = int(row[8])\n",
    "    spdef = int(row[9])\n",
    "    speed = int(row[10])\n",
    "    stage = int(row[11])\n",
    "    leg = (row[12])\n",
    "    data.append([number,name,type1,type2,total,hp,attack,defense,spatk,spdef,speed,stage,leg])\n",
    "lin=len((data))\n",
    "print(\"data length : \",lin)\n",
    "#_________________________________________3__________________________________________________#\n",
    "\n",
    "\n",
    "\n",
    "data2=data[:]\n",
    "\n",
    "\n",
    "for i in range(lin):\n",
    "    if  data2[i][2]!=\"\" and  data[i][3]==\"\" or data[i][3]!=\"\" and data[i][2]==\"\" and data[i][12]==\"TRUE\":\n",
    "        data2[i].append(data[i][6]*data[i][8]+75)\n",
    "        data2[i].append(data[i][7]*data[i][9]+75)\n",
    "    elif data[i][2]!=\"\" and  data[i][3]==\"\" and  data[i][12]==\"TRUE\" or data[i][3]!=\"\" and data[i][2]==\"\" and  data[i][12]==\"FALSE\":\n",
    "        data2[i].append(data[i][6]*data[i][8]+75)\n",
    "        data2[i].append(data[i][7]*data[i][9]+75)\n",
    "    elif data[i][2]!=\"\" and  data[i][3]!=\"\" and  data[i][12]==\"TRUE\":\n",
    "          data2[i].append(((data[i][6]*data[i][8])*2)+75)\n",
    "          data2[i].append(((data[i][6]*data[i][8])*2)+75)  \n",
    "    elif data[i][2]!=\"\" and  data[i][3]!=\"\" and  data[i][12]==\"FALSE\":\n",
    "        data2[i].append((data[i][6]*data[i][8])*2)\n",
    "        data2[i].append((data[i][7]*data[i][9])*2)\n",
    "        \n",
    "data3=data[:]\n",
    "\n",
    "for i in range(lin):\n",
    "    data3[i].append(data2[i][13]/data2[i][14])\n",
    "    if data3[i][15]>=2000:\n",
    "        \n",
    "    \n"
   ]
  },
  {
   "cell_type": "code",
   "execution_count": null,
   "metadata": {},
   "outputs": [],
   "source": []
  }
 ],
 "metadata": {
  "kernelspec": {
   "display_name": "Python 3",
   "language": "python",
   "name": "python3"
  },
  "language_info": {
   "codemirror_mode": {
    "name": "ipython",
    "version": 3
   },
   "file_extension": ".py",
   "mimetype": "text/x-python",
   "name": "python",
   "nbconvert_exporter": "python",
   "pygments_lexer": "ipython3",
   "version": "3.7.3"
  }
 },
 "nbformat": 4,
 "nbformat_minor": 2
}
