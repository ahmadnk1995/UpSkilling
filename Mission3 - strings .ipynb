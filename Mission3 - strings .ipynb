{
 "cells": [
  {
   "cell_type": "markdown",
   "metadata": {},
   "source": [
    "1. Reverse a given number loops and equations and return true if it is the same as the original number."
   ]
  },
  {
   "cell_type": "code",
   "execution_count": 2,
   "metadata": {},
   "outputs": [
    {
     "name": "stdout",
     "output_type": "stream",
     "text": [
      "enter Num : 134\n",
      "431\n",
      "false\n"
     ]
    }
   ],
   "source": [
    "n= int(input(\"enter Num : \" ))\n",
    "\n",
    "rev=int(0)\n",
    "temp =n\n",
    "last = n%10\n",
    "while n!=0:\n",
    "    rev=rev*10+last\n",
    "    n//= 10\n",
    "    last = int (n%10)  \n",
    "print(rev)  \n",
    "\n",
    "if ( temp ==rev):\n",
    "    print (\"true\")\n",
    "else:\n",
    "    print(\"false\")\n",
    " \n",
    "\n",
    "    "
   ]
  },
  {
   "cell_type": "markdown",
   "metadata": {},
   "source": [
    "2. Write a Python program to remove the nth index character from a nonempty string."
   ]
  },
  {
   "cell_type": "code",
   "execution_count": 6,
   "metadata": {},
   "outputs": [
    {
     "name": "stdout",
     "output_type": "stream",
     "text": [
      "Enter string : ahmad\n",
      "Enter index to delete it :3\n",
      "ahmd\n"
     ]
    }
   ],
   "source": [
    "s1 = input(\"Enter string : \")\n",
    "n = int(input(\"Enter index to delete it :\" ))\n",
    "var1 = s1[:n] + s1 [n+1:]\n",
    "print(var1)"
   ]
  },
  {
   "cell_type": "markdown",
   "metadata": {},
   "source": [
    "3. Write a Python program to calculate the length of a string. "
   ]
  },
  {
   "cell_type": "code",
   "execution_count": 5,
   "metadata": {},
   "outputs": [
    {
     "name": "stdout",
     "output_type": "stream",
     "text": [
      "5\n"
     ]
    }
   ],
   "source": [
    "s1 = \"ahmad\"\n",
    "print(len(s1))"
   ]
  },
  {
   "cell_type": "markdown",
   "metadata": {},
   "source": [
    "4. loop over a string and each time delete the last two character until no characters left. "
   ]
  },
  {
   "cell_type": "code",
   "execution_count": 7,
   "metadata": {},
   "outputs": [
    {
     "name": "stdout",
     "output_type": "stream",
     "text": [
      "Enter string : gggggg\n",
      "gggg\n",
      "gg\n",
      "\n"
     ]
    }
   ],
   "source": [
    "s1 = input(\"Enter string : \")\n",
    "\n",
    "while len(s1) != 0:\n",
    "    s1 = s1[:-2]\n",
    "    print(s1)"
   ]
  },
  {
   "cell_type": "markdown",
   "metadata": {},
   "source": [
    "5. Write a Python program to create a string contains the unique characters in a string. "
   ]
  },
  {
   "cell_type": "code",
   "execution_count": 9,
   "metadata": {},
   "outputs": [
    {
     "name": "stdout",
     "output_type": "stream",
     "text": [
      " ahmdkofi\n"
     ]
    }
   ],
   "source": [
    "var =  \" ahmad kofahi \"\n",
    "var2 =\"\"\n",
    "for i in var :\n",
    "    if(i not in var2):\n",
    "        var2+=i\n",
    "        \n",
    "print(var2)\n",
    "    "
   ]
  },
  {
   "cell_type": "markdown",
   "metadata": {},
   "source": [
    "6. WriteaPythonprogramtocountthenumberofoccurrencesofcharacters(characterfrequency) in a string.\n",
    "\n"
   ]
  },
  {
   "cell_type": "code",
   "execution_count": 2,
   "metadata": {},
   "outputs": [
    {
     "name": "stdout",
     "output_type": "stream",
     "text": [
      "enter string :ali\n",
      "a occours :  1\n",
      "l occours :  1\n",
      "i occours :  1\n"
     ]
    }
   ],
   "source": [
    "var = input (\"enter string :\")\n",
    "var2=\"\"\n",
    "for i in var:\n",
    "    if i not in var2:\n",
    "        print(i ,\"occours : \", var.count(i))\n",
    "        var2+=i\n",
    "        \n",
    "\n"
   ]
  },
  {
   "cell_type": "markdown",
   "metadata": {},
   "source": [
    "7. Write a Python program to get a string made of the first 2 and the last 2 chars from a given a string. If the string length is less than 2, return instead of the empty string"
   ]
  },
  {
   "cell_type": "code",
   "execution_count": 3,
   "metadata": {},
   "outputs": [
    {
     "name": "stdout",
     "output_type": "stream",
     "text": [
      "enter string :ahmad\n",
      "ahad\n"
     ]
    }
   ],
   "source": [
    "var = input (\"enter string :\")\n",
    "\n",
    "var2=\"\"\n",
    "\n",
    "if  len(var) >2:\n",
    "    var2+=var[0:2]\n",
    "    var2+=var[len(var)-2:len(var)]\n",
    "    print(var2)\n"
   ]
  },
  {
   "cell_type": "markdown",
   "metadata": {},
   "source": [
    "8. Write a Python program to get a string from a given string where all occurrences of its first char have been changed to ’$’, except the first char itself. "
   ]
  },
  {
   "cell_type": "code",
   "execution_count": 4,
   "metadata": {},
   "outputs": [
    {
     "name": "stdout",
     "output_type": "stream",
     "text": [
      "sfadsgadsgwsgweg\n",
      "asf$dsg$dsgwsgweg\n"
     ]
    }
   ],
   "source": [
    "var = \"asfadsgadsgwsgweg\"\n",
    "v=var[0]\n",
    "var2=var[1:]\n",
    "print(var2)\n",
    "var3=v+var2.replace(\"a\",\"$\")\n",
    "print(var3)"
   ]
  },
  {
   "cell_type": "markdown",
   "metadata": {},
   "source": [
    "9. Write a Python program that takes a string split it into list of words and returns the length of each one."
   ]
  },
  {
   "cell_type": "code",
   "execution_count": 5,
   "metadata": {},
   "outputs": [
    {
     "name": "stdout",
     "output_type": "stream",
     "text": [
      "6\n",
      "6\n",
      "6\n"
     ]
    }
   ],
   "source": [
    "var=\"ahnmad kofahi kofahi\"\n",
    "\n",
    "g= var.split()\n",
    "for i in g :\n",
    "    print(len(i))"
   ]
  },
  {
   "cell_type": "markdown",
   "metadata": {},
   "source": [
    "10. Write a Python program to check whether a string starts with specified characters. "
   ]
  },
  {
   "cell_type": "code",
   "execution_count": 6,
   "metadata": {},
   "outputs": [
    {
     "name": "stdout",
     "output_type": "stream",
     "text": [
      "enter char:a\n",
      "yes\n"
     ]
    }
   ],
   "source": [
    "var = input(\"enter char:\")\n",
    "\n",
    "str= \"ahmadkofahi\"\n",
    "if (str[0] is var):\n",
    "    print(\"yes\")\n",
    "else:\n",
    "    print(\"no\")"
   ]
  },
  {
   "cell_type": "markdown",
   "metadata": {},
   "source": [
    "11. Write a Python program to get the last part of a string before a specified character. Sample Input: yazeed.name/python-exercises Sample Output: yazeed.name/python"
   ]
  },
  {
   "cell_type": "code",
   "execution_count": 7,
   "metadata": {},
   "outputs": [
    {
     "name": "stdout",
     "output_type": "stream",
     "text": [
      "enter var:yazeed.name/python-exercises\n",
      "yazeed.name/python\n"
     ]
    }
   ],
   "source": [
    "var = input(\"enter var:\")\n",
    "\n",
    "\n",
    "print(var.rstrip(\"-exercises\"))"
   ]
  },
  {
   "cell_type": "markdown",
   "metadata": {},
   "source": [
    "12. Write a Python program to display a number with a comma separator between every 3 digits. SampleInput: 1240010 SampleOutput: 124,001,0"
   ]
  },
  {
   "cell_type": "code",
   "execution_count": 8,
   "metadata": {},
   "outputs": [
    {
     "name": "stdout",
     "output_type": "stream",
     "text": [
      "enter number:111111111\n",
      "111,111,111\n"
     ]
    }
   ],
   "source": [
    "var = input(\"enter number:\")\n",
    "c = 0\n",
    "var2=\"\"\n",
    "for i in var:\n",
    "    c+=1\n",
    "    var2+=i\n",
    "    if(c%3==0):\n",
    "        var2+=\",\"\n",
    "    \n",
    "    \n",
    "\n",
    "print(var2[0:len(var2)-1])\n"
   ]
  },
  {
   "cell_type": "markdown",
   "metadata": {},
   "source": [
    "13. Write a Python program to strip a set of characters from both sides of a string. "
   ]
  },
  {
   "cell_type": "code",
   "execution_count": 9,
   "metadata": {
    "scrolled": true
   },
   "outputs": [
    {
     "name": "stdout",
     "output_type": "stream",
     "text": [
      "ahmadkofahi\n"
     ]
    }
   ],
   "source": [
    "var = \"www.ahmadkofahi.com\"\n",
    "\n",
    "print(var.strip(\"www.com\"))"
   ]
  },
  {
   "cell_type": "markdown",
   "metadata": {},
   "source": [
    "14. Write a Python program to swap comma and dot in a string. Sample string: ”32.054,23” Expected Output: ”32,054.23”"
   ]
  },
  {
   "cell_type": "code",
   "execution_count": 11,
   "metadata": {},
   "outputs": [
    {
     "name": "stdout",
     "output_type": "stream",
     "text": [
      " ahhmad.ahmad.kofahi.kofahi.kofahi\n"
     ]
    }
   ],
   "source": [
    "var = \" ahhmad,ahmad,kofahi.kofahi.kofahi\"\n",
    "print(var.replace(',','.'))"
   ]
  },
  {
   "cell_type": "markdown",
   "metadata": {},
   "source": [
    "15. Write a Python program to find the second most repeated word in a given string. "
   ]
  },
  {
   "cell_type": "code",
   "execution_count": null,
   "metadata": {},
   "outputs": [],
   "source": [
    "var = input(\"enter text \")\n",
    "\n",
    "\n",
    "v1 =var\n",
    "\n",
    "\n",
    "var2=var.split()\n",
    "v=\"\"\n",
    "m=0\n",
    "for i in var2 :\n",
    "    if var.count(i) > m:\n",
    "        m=var.count(i)\n",
    "        v=i\n",
    "        \n",
    "print(\" most occours : \" ,v)\n",
    "\n",
    "# execute code one more time ^_^ "
   ]
  },
  {
   "cell_type": "markdown",
   "metadata": {},
   "source": [
    "16. Write a Python program to capitalize first and last letters of each word of a given string. "
   ]
  },
  {
   "cell_type": "code",
   "execution_count": 1,
   "metadata": {},
   "outputs": [
    {
     "name": "stdout",
     "output_type": "stream",
     "text": [
      "enter string :ahmad kofahi kofahi\n",
      "['ahmad', 'kofahi', 'kofahi']\n",
      "AhmaDKofahIKofahI\n"
     ]
    }
   ],
   "source": [
    "var = input (\"enter string :\")\n",
    "\n",
    "var2=var.split()\n",
    "\n",
    "print(var2)\n",
    "\n",
    "cap=\"\"\n",
    "\n",
    "for i in var2:\n",
    "    a=int(len(i))\n",
    "    v=\"\"\n",
    "    v+= i[0].upper()\n",
    "    v+= i[1:a-1]\n",
    "    v+= i[a-1].upper()\n",
    "    cap+=v\n",
    "    \n",
    "print(cap)\n",
    "    \n",
    "    \n",
    "\n",
    "  "
   ]
  },
  {
   "cell_type": "code",
   "execution_count": null,
   "metadata": {},
   "outputs": [],
   "source": [
    "# 17. Write a Python program that takes a string, split it into list of words,\n",
    "# and returns the length of the longest one\n",
    "\n",
    "var = input (\"enter string :\")\n",
    "\n",
    "var2 = var.split()\n",
    "\n",
    "m = 0\n",
    "g= var2[0]\n",
    "m=len(var2[0])\n",
    "for i in var2:\n",
    "    if(m < len(i) ):\n",
    "        m=len(i)\n",
    "        g=i\n",
    "\n",
    "print(g)\n",
    "    \n",
    "\n",
    "\n"
   ]
  },
  {
   "cell_type": "markdown",
   "metadata": {},
   "source": [
    "18. On the previous exercise add all the list strings into one string adding the letters ’Y!’ before each"
   ]
  },
  {
   "cell_type": "code",
   "execution_count": null,
   "metadata": {},
   "outputs": [],
   "source": [
    "\n",
    "var = input (\"enter string :\")\n",
    "\n",
    "var2 = var.split()\n",
    "new =\"\"\n",
    "\n",
    "for i in var2:\n",
    "    new+='Y!'+i\n",
    "    \n",
    "print (new)\n",
    "\n",
    "    \n",
    "\n",
    "\n"
   ]
  },
  {
   "cell_type": "markdown",
   "metadata": {},
   "source": [
    "19. Write a Python program to remove a newline in the beginning and ending of a string."
   ]
  },
  {
   "cell_type": "code",
   "execution_count": null,
   "metadata": {},
   "outputs": [],
   "source": [
    "str = input(\"enter string \")\n",
    "\n",
    "print(str.rstrip().lstrip())"
   ]
  },
  {
   "cell_type": "markdown",
   "metadata": {},
   "source": [
    "20. Write a Python program to sort a string lexicographically"
   ]
  },
  {
   "cell_type": "code",
   "execution_count": null,
   "metadata": {},
   "outputs": [],
   "source": [
    "\n",
    "str = input(\"enter string \")\n",
    "\n",
    "print(sorted(str))"
   ]
  },
  {
   "cell_type": "markdown",
   "metadata": {},
   "source": [
    "21. Write a Python program to convert a given string to all uppercase if it contains at least 2 uppercase characters in the first 4 characters else convert it to lower case.\n"
   ]
  },
  {
   "cell_type": "code",
   "execution_count": null,
   "metadata": {},
   "outputs": [],
   "source": [
    "uc = 0\n",
    "\n",
    "str1 = input(\"enter string : \")\n",
    "\n",
    "for i in range(4):\n",
    "    if str1[i]  == str1[i].upper():\n",
    "        uc+=1\n",
    "    \n",
    "    \n",
    "if uc>=2:\n",
    "    print(str1.upper())\n",
    "else:\n",
    "    print(str1.lower())"
   ]
  },
  {
   "cell_type": "markdown",
   "metadata": {},
   "source": [
    "22. WriteaPythonprogramtogetastringmadeof4copiesofthelasttwocharactersofaspecified string (length must be at least 2). Sample function and result : insert_end(’Python’) : onononon insert_end(’Exercises’) : eseseses"
   ]
  },
  {
   "cell_type": "code",
   "execution_count": null,
   "metadata": {},
   "outputs": [],
   "source": [
    "str1 = input(\"enter string contain at least from 2 values : \")\n",
    "\n",
    "a=len(str1)\n",
    "print(str1[a-2:a]*4)"
   ]
  },
  {
   "cell_type": "markdown",
   "metadata": {},
   "source": [
    "23. Write a Python program to create a Caesar cipher. "
   ]
  },
  {
   "cell_type": "code",
   "execution_count": null,
   "metadata": {},
   "outputs": [],
   "source": [
    "var = input(\"enter : \" )\n",
    "g=3\n",
    "for i in var:\n",
    "    s=g+ord(i)\n",
    "    if s > ord('z'):\n",
    "        g-=26\n",
    "        print(chr(ord(i)+g))"
   ]
  },
  {
   "cell_type": "markdown",
   "metadata": {},
   "source": [
    "24. Write a Python program to check if a string contains only letters of the English alphabet. "
   ]
  },
  {
   "cell_type": "code",
   "execution_count": null,
   "metadata": {},
   "outputs": [],
   "source": [
    "str1 = input(\"enter string \")\n",
    "\n",
    "if str1.isalpha():\n",
    "    print(\"all are english\")\n",
    "else:\n",
    "    print(\"not all english\")\n",
    "\n",
    "\n",
    "# if you mean that we must chechk only alphatics from a - z dr yazan then we do for loop and compare with unicode funcion"
   ]
  },
  {
   "cell_type": "markdown",
   "metadata": {},
   "source": [
    "25. Write a Python program to check if a string contains all letters of the English alphabet.\n"
   ]
  },
  {
   "cell_type": "code",
   "execution_count": 1,
   "metadata": {},
   "outputs": [
    {
     "name": "stdout",
     "output_type": "stream",
     "text": [
      "enter string dgssdg\n",
      "all are english\n"
     ]
    }
   ],
   "source": [
    "str1 = input(\"enter string \")\n",
    "\n",
    "if str1.isalpha():\n",
    "    print(\"all are english\")\n",
    "else:\n",
    "    print(\"not all english\")\n",
    "\n",
    "\n",
    "# if you mean that we must chechk only alphatics from a - z dr yazan then we do for loop and compare with unicode funcion"
   ]
  },
  {
   "cell_type": "markdown",
   "metadata": {},
   "source": [
    "26. WriteaPythonprogramconvertingevenindexedcharacterstoupperandoddindexcharacters to lower."
   ]
  },
  {
   "cell_type": "code",
   "execution_count": null,
   "metadata": {},
   "outputs": [],
   "source": [
    "\n",
    "\n",
    "s = input(\"enter string\")\n",
    "\n",
    "for i in range(len(s)):\n",
    "    if i%2==0:\n",
    "        print(s[i].upper())\n",
    "    else:\n",
    "        print(s[i].lower())"
   ]
  },
  {
   "cell_type": "markdown",
   "metadata": {},
   "source": [
    "27. Write a Python program to create a string from two given strings concatenating uncommon characters of the two strings. "
   ]
  },
  {
   "cell_type": "code",
   "execution_count": null,
   "metadata": {},
   "outputs": [],
   "source": [
    "var =  input(\"enter string1:\")\n",
    "var2 = input(\"enter string2:\")\n",
    "var3 =\"\"\n",
    "\n",
    "for i in var:\n",
    "    if i  not in var2 and i not in var3:\n",
    "        var3+=i\n",
    "        \n",
    "for i in var2:\n",
    "    if i  not in var and i not in var3:\n",
    "        var3+=i\n",
    "\n",
    "        \n",
    "print(var3)\n",
    "    "
   ]
  },
  {
   "cell_type": "markdown",
   "metadata": {},
   "source": [
    "28. Write a Python program to chick if a string is Palindrome."
   ]
  },
  {
   "cell_type": "code",
   "execution_count": null,
   "metadata": {},
   "outputs": [],
   "source": [
    "var1 =  input(\"enter string1:\")\n",
    "\n",
    "var2= var1[::-1]\n",
    "print(var1)\n",
    "print(var2)\n",
    "if var1 ==var2:\n",
    "    print(\"true\")\n",
    "else:\n",
    "    print(\"false\")"
   ]
  },
  {
   "cell_type": "markdown",
   "metadata": {},
   "source": [
    "29. Write a Python program to display a floating number in specified numbers (specified number of digits after the ’.’)."
   ]
  },
  {
   "cell_type": "code",
   "execution_count": null,
   "metadata": {},
   "outputs": [],
   "source": [
    "n = float(input(\"Enter number : \"))\n",
    "#\n",
    "print(\"{:.0f}\".format(n));\n"
   ]
  },
  {
   "cell_type": "markdown",
   "metadata": {},
   "source": [
    "30. Write a Python program to create all possible strings by using ’a’, ’e’, ’i’, ’o’, ’u’. Use the characters exactly once"
   ]
  },
  {
   "cell_type": "code",
   "execution_count": null,
   "metadata": {},
   "outputs": [],
   "source": [
    "# i searchd about permutations and i  used built in function   for permutations\n",
    "\n",
    "from itertools import permutations \n",
    "s ='aeiou'\n",
    "perm = sorted(''.join(chars) for chars in permutations(s)) \n",
    "for x in perm: \n",
    "    print(x)"
   ]
  },
  {
   "cell_type": "markdown",
   "metadata": {},
   "source": [
    "31. WriteaPythonprogramtoprintalongtext, convertthestringtoalistandprintallthewords and their frequencies"
   ]
  },
  {
   "cell_type": "code",
   "execution_count": null,
   "metadata": {},
   "outputs": [],
   "source": [
    "\n",
    "\n",
    "var = input (\"enter string :\")\n",
    "var2=var.split()\n",
    "\n",
    "for i in var2:\n",
    "    print(i,var2.count(i))\n",
    "        \n",
    "\n"
   ]
  },
  {
   "cell_type": "markdown",
   "metadata": {},
   "source": [
    "32. Write a Python program to replace each character of a given text with the appropriate number between 0 and 25"
   ]
  },
  {
   "cell_type": "code",
   "execution_count": null,
   "metadata": {},
   "outputs": [],
   "source": [
    "s1= input(\"enter string:\")\n",
    "\n",
    "for i in s1:\n",
    "   n = ord(i)\n",
    "   print(n)\n",
    "#how to concat ?? interpreter here gave me a ambiguas error\n",
    "   print(i , \" : \" , ord(i))\n",
    "   \n",
    "   "
   ]
  },
  {
   "cell_type": "markdown",
   "metadata": {},
   "source": [
    "33. WriteaPythonprogramtofindthenumberofdigitsattheresultoffactorizingagivenpositive numbers n. Range of the number(n): (n = 5; 1*2*3*4*5 = 120; result = 3).\n"
   ]
  },
  {
   "cell_type": "code",
   "execution_count": 3,
   "metadata": {},
   "outputs": [
    {
     "name": "stdout",
     "output_type": "stream",
     "text": [
      "enter n :4\n",
      " fact of   4 is :  1\n",
      " fact of   4 is :  2\n",
      " fact of   4 is :  6\n",
      " fact of   4 is :  24\n",
      "res =  2\n"
     ]
    }
   ],
   "source": [
    "num = int(input(\"enter n :\"))\n",
    "f = 1\n",
    "if num < 0:\n",
    "    print()\n",
    "elif num == 0:\n",
    "    print(\"The factorial of 0 is 1\")\n",
    "else:\n",
    "     for i in range(1,num + 1):\n",
    "        f= f*i\n",
    "        print(\" fact of  \",num,\"is : \",f)\n",
    "   \n",
    "   \n",
    "   \n",
    "c=0 \n",
    "\n",
    "while f > 0:\n",
    "    c=c+1\n",
    "    f=f//10\n",
    "    \n",
    "print(\"res = \", c)"
   ]
  },
  {
   "cell_type": "markdown",
   "metadata": {},
   "source": [
    "34. Write a Python program to find the value of n where n degrees of number 2 are written sequentially in a line without spaces."
   ]
  },
  {
   "cell_type": "code",
   "execution_count": null,
   "metadata": {},
   "outputs": [],
   "source": [
    "num = 2\n",
    "result = 0\n",
    "n = input(\"enter the number\")   \n",
    "\n",
    "for i in range (1,len(n)+1):\n",
    "    if str(num**i) in n:\n",
    "        result += 1\n",
    "    \n",
    "print(result)"
   ]
  },
  {
   "cell_type": "markdown",
   "metadata": {},
   "source": [
    "35. Write a Python program to find the number of notes (Sample of notes: 10, 20, 50, 100, 200 and 500 ) against an given amount.\n"
   ]
  },
  {
   "cell_type": "code",
   "execution_count": null,
   "metadata": {},
   "outputs": [],
   "source": [
    "\n",
    "\n",
    "var = int(input(\"enter num : \"))\n",
    "\n",
    "var2=0\n",
    "\n",
    "c=0\n",
    "\n",
    "while var>0:\n",
    "    \n",
    "    if var>=500:\n",
    "        c+=1\n",
    "        var=var-500\n",
    "    elif var>=200:\n",
    "        c+=1\n",
    "        var=var-200\n",
    "    elif var>=100:\n",
    "        c+=1\n",
    "        var=var-100\n",
    "    elif var>=50:\n",
    "        c+=1\n",
    "        var=var-50\n",
    "    elif var>=20:\n",
    "        c+=1\n",
    "        var=var-20\n",
    "    elif var>=10:\n",
    "        c+=1\n",
    "        var=var-10    \n",
    "        \n",
    "print(c)\n",
    "    "
   ]
  },
  {
   "cell_type": "markdown",
   "metadata": {},
   "source": [
    "36. Write a Python program to find the type of the progression (arithmetic progression/geometric progression)andthenextsuccessivememberofagiventhreesuccessivemembersofasequence. Sample Input: 2, 6, 18 Sample Output: ratio: 3. next number: 54 "
   ]
  },
  {
   "cell_type": "code",
   "execution_count": null,
   "metadata": {},
   "outputs": [],
   "source": [
    "a = int (input(\"enter first number in  seq: \"))\n",
    "b = int(input(\"next number : \"))\n",
    "d = int (input((\"last number in seq : \")))\n",
    "\n",
    "\n",
    "e = b//a\n",
    "print(e)\n",
    "\n",
    "\n",
    "n = a* (e**3)\n",
    "print(n)\n"
   ]
  },
  {
   "cell_type": "markdown",
   "metadata": {},
   "source": [
    "37. Write a Python program to find all common divisors between two numbers in a given pair."
   ]
  },
  {
   "cell_type": "code",
   "execution_count": null,
   "metadata": {},
   "outputs": [],
   "source": [
    "a = int(input(\"enter the first number\"))\n",
    "b = int(input(\"enter the second number\"))\n",
    "g=\"\"\n",
    "i=1\n",
    "while(i<=a and i<=b):\n",
    "    if(a%i==0 and b%i == 0):\n",
    "        print(i, end = \" \")\n",
    "    i+=1\n"
   ]
  },
  {
   "cell_type": "markdown",
   "metadata": {},
   "source": [
    "38. Write a Python program which reads a text (only alphabetical characters and spaces.) and prints two words. The first one is the word which is arise most frequently in the text. The second one is the word which has the maximum number of unique letters."
   ]
  },
  {
   "cell_type": "code",
   "execution_count": null,
   "metadata": {},
   "outputs": [],
   "source": [
    "var = input(\"enter text \")\n",
    "\n",
    "\n",
    "v1 =var\n",
    "\n",
    "\n",
    "var2=var.split()\n",
    "v=\"\"\n",
    "m=0\n",
    "for i in var2 :\n",
    "    if var.count(i) > m:\n",
    "        m=var.count(i)\n",
    "        v=i\n",
    "        \n",
    "print(\" most occours : \" ,v)"
   ]
  },
  {
   "cell_type": "markdown",
   "metadata": {},
   "source": [
    "39. WriteaPythonprogramwhichreadsthetwoadjoinedsidesandthediagonalofaparallelogram and check whether the parallelogram is a rectangle or a rhombus. According to Wikipediaparallelograms: In Euclidean geometry, a parallelogram is a simple (non-self-intersecting) quadrilateral with two pairs of parallel sides. The opposite or facing sides of a parallelogram are of equal length and the opposite angles of a parallelogram are of equal measure. rectangles: In Euclidean plane geometry, a rectangle is a quadrilateral with four right angles. It can also be defined as an equiangular quadrilateral, since equiangular means that all of its angles are equal (360°/4 = 90°). It can also be defined as a parallelogram containing a right angle. rhombus: In plane Euclidean geometry, a rhombus (plural rhombi or rhombuses) is a simple (non-self-intersecting) quadrilateral whose four sides all have the same length. Another name is equilateral quadrilateral, since equilateral means that all of its sides are equal in length. The rhombus is often called a diamond, after the diamonds suit in playing cards which resembles the projection of an octahedral diamond, or a lozenge, though the former sometimes refers specifically to a rhombus with a 60° angle, and the latter sometimes refers specifically to a rhombus with a 45° angle. Inputs are: 1 < ai, bi, ci < 1000; ai + bi > ci Sample: 3,4,5 Output: This is a rectangle."
   ]
  },
  {
   "cell_type": "code",
   "execution_count": null,
   "metadata": {},
   "outputs": [],
   "source": [
    "ai = int(input(\"ai = \"))\n",
    "bi = int(input(\"bi = \"))\n",
    "ci = int(input(\"ci = \"))\n",
    "\n",
    "if ci**2 == ai**2+bi**2 :\n",
    "    print(\"This is a rectangle.\")\n",
    "if ai == bi:\n",
    "    print(\"This is a rhombus.\")"
   ]
  },
  {
   "cell_type": "markdown",
   "metadata": {},
   "source": [
    "40. Write a Python program to replace a string ”Python” with ”Java” and ”Java” with ”Python” in a given string at the same time.\n"
   ]
  },
  {
   "cell_type": "code",
   "execution_count": null,
   "metadata": {},
   "outputs": [],
   "source": [
    "#40. Write a Python program to replace a string ”Python” with ”Java” and ”Java” \n",
    "#with ”Python” in a given string at the same time.\n",
    "\n",
    "str1 = \"Python is popular than Java \"\n",
    "\n",
    "var2= str1.split()\n",
    "print(var2.index(\"Java\"))\n",
    "\n",
    "var3=\"\"\n",
    "for i in var2:\n",
    "    if i ==\"Python\":\n",
    "        var3+=\"Java\"\n",
    "    elif i==\"Java\":\n",
    "        var3+=\"Python\"\n",
    "    else:\n",
    "        var3+=i+\" \"\n",
    "    \n",
    "            \n",
    "print(var3)\n",
    "    \n",
    "\n",
    "\n"
   ]
  },
  {
   "cell_type": "markdown",
   "metadata": {},
   "source": [
    "43. Internet search engine giant, such as Google accepts web pages around the world and classify them, creating a huge database. The search engines also analyze the search keywords entered by the user and create inquiries for database search. In both cases, complicated processing is carried out in order to realize efficient retrieval, but basics are all cutting out words from sentences. Write a Python program to cut out words of 4 to 6 characters length from a given sentence not more than 1024 characters. Input is an English sentencesconsisting of delimiters and alphanumericcharacters are givenon one line. Input a sentence (1024 characters. max.): The quick brown fox The 4 to 6 characters length of words: quick brown "
   ]
  },
  {
   "cell_type": "code",
   "execution_count": null,
   "metadata": {},
   "outputs": [],
   "source": [
    "var = \"The quick brown fox \"\n",
    "\n",
    "var2=var.split()\n",
    "\n",
    "for i in var2:\n",
    "    if len(i)>=4 and len(i)<=6:\n",
    "        print(i)\n"
   ]
  },
  {
   "cell_type": "markdown",
   "metadata": {},
   "source": [
    "44. Write a Python program to find the first appearance of the substring ’not’ and ’poor’ from a given string, if ’not’ follows the ’poor’, replace the whole ’not’...’poor’ substring with ’good’. Return the resulting string. Sample String : ’The lyrics is not that poor!’ Expected Result : ’The lyrics is good!’ "
   ]
  },
  {
   "cell_type": "code",
   "execution_count": null,
   "metadata": {},
   "outputs": [],
   "source": [
    "\n",
    "var = \"The lyrics is not that poor!\"\n",
    "\n",
    "var2=var.split()\n",
    "flag = False\n",
    "var3=\"\"\n",
    "\n",
    "for i in var2:\n",
    "    if i == \"not\":\n",
    "        flag=True\n",
    "        break\n",
    "    var3+=i+\" \"\n",
    "        \n",
    "print(var3+\"Good\")\n",
    "        \n",
    "\n",
    "    "
   ]
  },
  {
   "cell_type": "markdown",
   "metadata": {},
   "source": [
    "45. Write a Python program to remove leading zeros from an IP address. Input: ”255.024.01.01” ”127.0.0.01 ” Output: 255.24.1.1 127.0.0.1\n"
   ]
  },
  {
   "cell_type": "code",
   "execution_count": null,
   "metadata": {},
   "outputs": [],
   "source": [
    "var = input(\"enter ip to remove leading zeros :\")\n",
    "var3=\"\"\n",
    "var2=var.split(sep=\".\")\n",
    "\n",
    "for i in var2:\n",
    "    if i.lstrip(\"0\")==\"\" :\n",
    "        var3+=\"0\"\n",
    "    var3+=i.lstrip(\"0\")+\".\"\n",
    "    \n",
    "print(var3.rstrip(\".\"))\n",
    "    "
   ]
  },
  {
   "cell_type": "code",
   "execution_count": null,
   "metadata": {},
   "outputs": [],
   "source": []
  }
 ],
 "metadata": {
  "kernelspec": {
   "display_name": "Python 3",
   "language": "python",
   "name": "python3"
  },
  "language_info": {
   "codemirror_mode": {
    "name": "ipython",
    "version": 3
   },
   "file_extension": ".py",
   "mimetype": "text/x-python",
   "name": "python",
   "nbconvert_exporter": "python",
   "pygments_lexer": "ipython3",
   "version": "3.7.3"
  }
 },
 "nbformat": 4,
 "nbformat_minor": 2
}
